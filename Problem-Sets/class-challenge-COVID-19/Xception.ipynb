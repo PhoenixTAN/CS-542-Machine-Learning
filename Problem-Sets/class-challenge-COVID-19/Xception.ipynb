{
 "cells": [
  {
   "cell_type": "code",
   "execution_count": 1,
   "metadata": {},
   "outputs": [
    {
     "name": "stdout",
     "output_type": "stream",
     "text": [
      "[name: \"/device:CPU:0\"\n",
      "device_type: \"CPU\"\n",
      "memory_limit: 268435456\n",
      "locality {\n",
      "}\n",
      "incarnation: 8159507963888391174\n",
      ", name: \"/device:GPU:0\"\n",
      "device_type: \"GPU\"\n",
      "memory_limit: 4930941747\n",
      "locality {\n",
      "  bus_id: 1\n",
      "  links {\n",
      "  }\n",
      "}\n",
      "incarnation: 9871631794335019068\n",
      "physical_device_desc: \"device: 0, name: GeForce GTX 1060, pci bus id: 0000:01:00.0, compute capability: 6.1\"\n",
      "]\n"
     ]
    },
    {
     "data": {
      "text/plain": [
       "'2.1.0'"
      ]
     },
     "execution_count": 1,
     "metadata": {},
     "output_type": "execute_result"
    }
   ],
   "source": [
    "import os\n",
    "\n",
    "import tensorflow as tf\n",
    "import numpy as np\n",
    "import matplotlib.pyplot as plt\n",
    "from tensorflow.keras.preprocessing.image import ImageDataGenerator\n",
    "\n",
    "from tensorflow.python.client import device_lib\n",
    "print(device_lib.list_local_devices())\n",
    "\n",
    "os.environ['OMP_NUM_THREADS'] = '1'\n",
    "os.environ['CUDA_VISIBLE_DEVICES'] = '-1'\n",
    "tf.__version__"
   ]
  },
  {
   "cell_type": "code",
   "execution_count": 2,
   "metadata": {},
   "outputs": [],
   "source": [
    "DATA_LIST = os.listdir('all/train')\n",
    "DATASET_PATH  = 'all/train'\n",
    "TEST_DIR =  'all/test'\n",
    "IMAGE_SIZE    = (224, 224)\n",
    "NUM_CLASSES   = len(DATA_LIST)\n",
    "BATCH_SIZE    = 10  # try reducing batch size or freeze more layers if your GPU runs out of memory\n",
    "NUM_EPOCHS    = 100\n",
    "LEARNING_RATE = 0.0001 # start off with high rate first 0.001 and experiment with reducing it gradually "
   ]
  },
  {
   "cell_type": "code",
   "execution_count": 3,
   "metadata": {},
   "outputs": [
    {
     "name": "stdout",
     "output_type": "stream",
     "text": [
      "Found 216 images belonging to 4 classes.\n",
      "Found 54 images belonging to 4 classes.\n"
     ]
    },
    {
     "name": "stderr",
     "output_type": "stream",
     "text": [
      "C:\\Users\\tanzi\\Anaconda3\\lib\\site-packages\\keras_preprocessing\\image\\image_data_generator.py:341: UserWarning: This ImageDataGenerator specifies `zca_whitening` which overrides setting of`featurewise_std_normalization`.\n",
      "  warnings.warn('This ImageDataGenerator specifies '\n"
     ]
    }
   ],
   "source": [
    "train_datagen = ImageDataGenerator(rescale=1./255,rotation_range=50,featurewise_center = True,\n",
    "                                   featurewise_std_normalization = True,width_shift_range=0.2,\n",
    "                                   height_shift_range=0.2,shear_range=0.25,zoom_range=0.1,\n",
    "                                   zca_whitening = True,channel_shift_range = 20,\n",
    "                                   horizontal_flip = True,vertical_flip = True,\n",
    "                                   validation_split = 0.2,fill_mode='constant')\n",
    "\n",
    "\n",
    "train_batches = train_datagen.flow_from_directory(DATASET_PATH,target_size=IMAGE_SIZE,\n",
    "                                                  shuffle=True,batch_size=BATCH_SIZE,\n",
    "                                                  subset = \"training\",seed=42,\n",
    "                                                  class_mode=\"categorical\")\n",
    "\n",
    "valid_batches = train_datagen.flow_from_directory(DATASET_PATH,target_size=IMAGE_SIZE,\n",
    "                                                  shuffle=True,batch_size=BATCH_SIZE,\n",
    "                                                  subset = \"validation\",\n",
    "                                                  seed=42,class_mode=\"categorical\")"
   ]
  },
  {
   "cell_type": "code",
   "execution_count": 4,
   "metadata": {},
   "outputs": [
    {
     "name": "stdout",
     "output_type": "stream",
     "text": [
      "Model: \"sequential\"\n",
      "_________________________________________________________________\n",
      "Layer (type)                 Output Shape              Param #   \n",
      "=================================================================\n",
      "xception (Model)             (None, 7, 7, 2048)        20861480  \n",
      "_________________________________________________________________\n",
      "flatten (Flatten)            (None, 100352)            0         \n",
      "_________________________________________________________________\n",
      "dense (Dense)                (None, 256)               25690368  \n",
      "_________________________________________________________________\n",
      "dense_1 (Dense)              (None, 4)                 1028      \n",
      "=================================================================\n",
      "Total params: 46,552,876\n",
      "Trainable params: 25,691,396\n",
      "Non-trainable params: 20,861,480\n",
      "_________________________________________________________________\n"
     ]
    }
   ],
   "source": [
    "# raise NotImplementedError(\"Build your model based on an architecture of your choice \"\n",
    "#                           \"A sample model summary is shown below\")\n",
    "\n",
    "# Implement VGG16\n",
    "# from tensorflow.keras.applications.resnet_v2 import ResNet152V2\n",
    "from tensorflow.keras.layers import Flatten, Dense, Dropout\n",
    "from tensorflow.keras.models import Sequential\n",
    "\n",
    "xception_model = tf.keras.applications.xception.Xception(include_top=False, weights='imagenet', input_shape=(224, 224, 3), pooling='None', classes=4)\n",
    "            \n",
    "xception_model.trainable = False\n",
    "\n",
    "covid_model = Sequential()\n",
    "covid_model.add(xception_model)\n",
    "covid_model.add(Flatten())\n",
    "covid_model.add(Dense(1024, activation='relu'))\n",
    "covid_model.add(Dense(256, activation='relu'))\n",
    "covid_model.add(Dense(4, activation='sigmoid'))\n",
    "\n",
    "covid_model.build(input_shape=(224, 224, 3))\n",
    "covid_model.summary()"
   ]
  },
  {
   "cell_type": "code",
   "execution_count": 5,
   "metadata": {
    "scrolled": false
   },
   "outputs": [
    {
     "name": "stdout",
     "output_type": "stream",
     "text": [
      "22\n",
      "6\n",
      "[name: \"/device:CPU:0\"\n",
      "device_type: \"CPU\"\n",
      "memory_limit: 268435456\n",
      "locality {\n",
      "}\n",
      "incarnation: 13834887943123615445\n",
      ", name: \"/device:GPU:0\"\n",
      "device_type: \"GPU\"\n",
      "memory_limit: 4930941747\n",
      "locality {\n",
      "  bus_id: 1\n",
      "  links {\n",
      "  }\n",
      "}\n",
      "incarnation: 2883343681923543584\n",
      "physical_device_desc: \"device: 0, name: GeForce GTX 1060, pci bus id: 0000:01:00.0, compute capability: 6.1\"\n",
      "]\n",
      "WARNING:tensorflow:From <ipython-input-5-3c617ffc09d1>:22: Model.fit_generator (from tensorflow.python.keras.engine.training) is deprecated and will be removed in a future version.\n",
      "Instructions for updating:\n",
      "Please use Model.fit, which supports generators.\n",
      "WARNING:tensorflow:sample_weight modes were coerced from\n",
      "  ...\n",
      "    to  \n",
      "  ['...']\n"
     ]
    },
    {
     "name": "stderr",
     "output_type": "stream",
     "text": [
      "C:\\Users\\tanzi\\Anaconda3\\lib\\site-packages\\keras_preprocessing\\image\\image_data_generator.py:716: UserWarning: This ImageDataGenerator specifies `featurewise_center`, but it hasn't been fit on any training data. Fit it first by calling `.fit(numpy_data)`.\n",
      "  warnings.warn('This ImageDataGenerator specifies '\n",
      "C:\\Users\\tanzi\\Anaconda3\\lib\\site-packages\\keras_preprocessing\\image\\image_data_generator.py:735: UserWarning: This ImageDataGenerator specifies `zca_whitening`, but it hasn't been fit on any training data. Fit it first by calling `.fit(numpy_data)`.\n",
      "  warnings.warn('This ImageDataGenerator specifies '\n"
     ]
    },
    {
     "name": "stdout",
     "output_type": "stream",
     "text": [
      "WARNING:tensorflow:sample_weight modes were coerced from\n",
      "  ...\n",
      "    to  \n",
      "  ['...']\n",
      "Train for 21 steps, validate for 5 steps\n",
      "Epoch 1/100\n"
     ]
    },
    {
     "name": "stderr",
     "output_type": "stream",
     "text": [
      "C:\\Users\\tanzi\\Anaconda3\\lib\\site-packages\\keras_preprocessing\\image\\image_data_generator.py:716: UserWarning: This ImageDataGenerator specifies `featurewise_center`, but it hasn't been fit on any training data. Fit it first by calling `.fit(numpy_data)`.\n",
      "  warnings.warn('This ImageDataGenerator specifies '\n",
      "C:\\Users\\tanzi\\Anaconda3\\lib\\site-packages\\keras_preprocessing\\image\\image_data_generator.py:735: UserWarning: This ImageDataGenerator specifies `zca_whitening`, but it hasn't been fit on any training data. Fit it first by calling `.fit(numpy_data)`.\n",
      "  warnings.warn('This ImageDataGenerator specifies '\n"
     ]
    },
    {
     "name": "stdout",
     "output_type": "stream",
     "text": [
      "21/21 [==============================] - 10s 454ms/step - loss: 2.7298 - accuracy: 0.6638 - val_loss: 2.1154 - val_accuracy: 0.6450\n",
      "Epoch 2/100\n",
      "21/21 [==============================] - 6s 278ms/step - loss: 0.9965 - accuracy: 0.7536 - val_loss: 1.8078 - val_accuracy: 0.6600\n",
      "Epoch 3/100\n",
      "21/21 [==============================] - 6s 278ms/step - loss: 0.9998 - accuracy: 0.7646 - val_loss: 2.0751 - val_accuracy: 0.6750\n",
      "Epoch 4/100\n",
      "21/21 [==============================] - 6s 277ms/step - loss: 0.8376 - accuracy: 0.7682 - val_loss: 1.4178 - val_accuracy: 0.6950\n",
      "Epoch 5/100\n",
      "21/21 [==============================] - 6s 280ms/step - loss: 0.6885 - accuracy: 0.7900 - val_loss: 1.6948 - val_accuracy: 0.6800\n",
      "Epoch 6/100\n",
      "21/21 [==============================] - 6s 278ms/step - loss: 0.5256 - accuracy: 0.8058 - val_loss: 1.5791 - val_accuracy: 0.6450\n",
      "Epoch 7/100\n",
      "21/21 [==============================] - 6s 275ms/step - loss: 0.5115 - accuracy: 0.7743 - val_loss: 0.9192 - val_accuracy: 0.6800\n",
      "Epoch 8/100\n",
      "21/21 [==============================] - 6s 277ms/step - loss: 0.4568 - accuracy: 0.8167 - val_loss: 1.3936 - val_accuracy: 0.6200\n",
      "Epoch 9/100\n",
      "21/21 [==============================] - 6s 272ms/step - loss: 0.4284 - accuracy: 0.8131 - val_loss: 1.2244 - val_accuracy: 0.6600\n",
      "Epoch 10/100\n",
      "21/21 [==============================] - 6s 272ms/step - loss: 0.3902 - accuracy: 0.8167 - val_loss: 1.0614 - val_accuracy: 0.6600\n",
      "Epoch 11/100\n",
      "21/21 [==============================] - 6s 269ms/step - loss: 0.3894 - accuracy: 0.8107 - val_loss: 0.9165 - val_accuracy: 0.6700\n",
      "Epoch 12/100\n",
      "21/21 [==============================] - 6s 279ms/step - loss: 0.3793 - accuracy: 0.8422 - val_loss: 0.8440 - val_accuracy: 0.6700\n",
      "Epoch 13/100\n",
      "21/21 [==============================] - 6s 288ms/step - loss: 0.3490 - accuracy: 0.8641 - val_loss: 0.9176 - val_accuracy: 0.7250\n",
      "Epoch 14/100\n",
      "21/21 [==============================] - 6s 278ms/step - loss: 0.3441 - accuracy: 0.8422 - val_loss: 0.6893 - val_accuracy: 0.7350\n",
      "Epoch 15/100\n",
      "21/21 [==============================] - 6s 281ms/step - loss: 0.3884 - accuracy: 0.8410 - val_loss: 0.7778 - val_accuracy: 0.7550\n",
      "Epoch 16/100\n",
      "21/21 [==============================] - 6s 279ms/step - loss: 0.3491 - accuracy: 0.8434 - val_loss: 0.7725 - val_accuracy: 0.7250\n",
      "Epoch 17/100\n",
      "21/21 [==============================] - 6s 283ms/step - loss: 0.3190 - accuracy: 0.8556 - val_loss: 0.7869 - val_accuracy: 0.7250\n",
      "Epoch 18/100\n",
      "21/21 [==============================] - 6s 281ms/step - loss: 0.3251 - accuracy: 0.8641 - val_loss: 0.8333 - val_accuracy: 0.7350\n",
      "Epoch 19/100\n",
      "21/21 [==============================] - 6s 279ms/step - loss: 0.3790 - accuracy: 0.8386 - val_loss: 0.6813 - val_accuracy: 0.7650\n",
      "Epoch 20/100\n",
      "21/21 [==============================] - 6s 279ms/step - loss: 0.3933 - accuracy: 0.8252 - val_loss: 0.6057 - val_accuracy: 0.7350\n",
      "Epoch 21/100\n",
      "21/21 [==============================] - 6s 283ms/step - loss: 0.3764 - accuracy: 0.8204 - val_loss: 0.4860 - val_accuracy: 0.7950\n",
      "Epoch 22/100\n",
      "21/21 [==============================] - 6s 271ms/step - loss: 0.3286 - accuracy: 0.8532 - val_loss: 0.6089 - val_accuracy: 0.7750\n",
      "Epoch 23/100\n",
      "21/21 [==============================] - 6s 276ms/step - loss: 0.3551 - accuracy: 0.8410 - val_loss: 0.5057 - val_accuracy: 0.7950\n",
      "Epoch 24/100\n",
      "21/21 [==============================] - 6s 280ms/step - loss: 0.2920 - accuracy: 0.8617 - val_loss: 0.8071 - val_accuracy: 0.7400\n",
      "Epoch 25/100\n",
      "21/21 [==============================] - 6s 285ms/step - loss: 0.3275 - accuracy: 0.8544 - val_loss: 0.8461 - val_accuracy: 0.7350\n",
      "Epoch 26/100\n",
      "21/21 [==============================] - 6s 282ms/step - loss: 0.2763 - accuracy: 0.8786 - val_loss: 0.8011 - val_accuracy: 0.7250\n",
      "Epoch 27/100\n",
      "21/21 [==============================] - 6s 285ms/step - loss: 0.3231 - accuracy: 0.8568 - val_loss: 0.8197 - val_accuracy: 0.7350\n",
      "Epoch 28/100\n",
      "21/21 [==============================] - 6s 278ms/step - loss: 0.3094 - accuracy: 0.8653 - val_loss: 0.7369 - val_accuracy: 0.6950\n",
      "Epoch 29/100\n",
      "21/21 [==============================] - 6s 275ms/step - loss: 0.2851 - accuracy: 0.8665 - val_loss: 0.8234 - val_accuracy: 0.7500\n",
      "Epoch 30/100\n",
      "21/21 [==============================] - 7s 318ms/step - loss: 0.2795 - accuracy: 0.8859 - val_loss: 0.7921 - val_accuracy: 0.6850\n",
      "Epoch 31/100\n",
      "21/21 [==============================] - 6s 278ms/step - loss: 0.2886 - accuracy: 0.8835 - val_loss: 0.6395 - val_accuracy: 0.7700\n",
      "Epoch 32/100\n",
      "21/21 [==============================] - 6s 283ms/step - loss: 0.2936 - accuracy: 0.8833 - val_loss: 0.7076 - val_accuracy: 0.7300\n",
      "Epoch 33/100\n",
      "21/21 [==============================] - 6s 276ms/step - loss: 0.2836 - accuracy: 0.8726 - val_loss: 0.7974 - val_accuracy: 0.7450\n",
      "Epoch 34/100\n",
      "21/21 [==============================] - 6s 278ms/step - loss: 0.2755 - accuracy: 0.8714 - val_loss: 0.7878 - val_accuracy: 0.7400\n",
      "Epoch 35/100\n",
      "21/21 [==============================] - 6s 277ms/step - loss: 0.2348 - accuracy: 0.8956 - val_loss: 0.7060 - val_accuracy: 0.7700\n",
      "Epoch 36/100\n",
      "21/21 [==============================] - 6s 278ms/step - loss: 0.2985 - accuracy: 0.8604 - val_loss: 0.7452 - val_accuracy: 0.6950\n",
      "Epoch 37/100\n",
      "21/21 [==============================] - 6s 273ms/step - loss: 0.3084 - accuracy: 0.8483 - val_loss: 0.6747 - val_accuracy: 0.7600\n",
      "Epoch 38/100\n",
      "21/21 [==============================] - 6s 282ms/step - loss: 0.2940 - accuracy: 0.8774 - val_loss: 0.8192 - val_accuracy: 0.7300\n",
      "Epoch 39/100\n",
      "21/21 [==============================] - 6s 284ms/step - loss: 0.2623 - accuracy: 0.8823 - val_loss: 0.5479 - val_accuracy: 0.7550\n",
      "Epoch 40/100\n",
      "21/21 [==============================] - 6s 284ms/step - loss: 0.2701 - accuracy: 0.8823 - val_loss: 0.8030 - val_accuracy: 0.7100\n",
      "Epoch 41/100\n",
      "21/21 [==============================] - 6s 286ms/step - loss: 0.2422 - accuracy: 0.9017 - val_loss: 0.7967 - val_accuracy: 0.7350\n",
      "Epoch 42/100\n",
      "21/21 [==============================] - 6s 284ms/step - loss: 0.2571 - accuracy: 0.8833 - val_loss: 0.7918 - val_accuracy: 0.7200\n",
      "Epoch 43/100\n",
      "21/21 [==============================] - 6s 281ms/step - loss: 0.2777 - accuracy: 0.8653 - val_loss: 0.6683 - val_accuracy: 0.7400\n",
      "Epoch 44/100\n",
      "21/21 [==============================] - 6s 275ms/step - loss: 0.2696 - accuracy: 0.8786 - val_loss: 0.5822 - val_accuracy: 0.7900\n",
      "Epoch 45/100\n",
      "21/21 [==============================] - 6s 278ms/step - loss: 0.2754 - accuracy: 0.8738 - val_loss: 0.9570 - val_accuracy: 0.6750\n",
      "Epoch 46/100\n",
      "21/21 [==============================] - 6s 286ms/step - loss: 0.2768 - accuracy: 0.8701 - val_loss: 1.0383 - val_accuracy: 0.6950\n",
      "Epoch 47/100\n",
      "21/21 [==============================] - 6s 284ms/step - loss: 0.2727 - accuracy: 0.8786 - val_loss: 0.9158 - val_accuracy: 0.7300\n",
      "Epoch 48/100\n",
      "21/21 [==============================] - 6s 281ms/step - loss: 0.3058 - accuracy: 0.8667 - val_loss: 0.8508 - val_accuracy: 0.6650\n",
      "Epoch 49/100\n",
      "21/21 [==============================] - 6s 277ms/step - loss: 0.2395 - accuracy: 0.9005 - val_loss: 0.6122 - val_accuracy: 0.7450\n",
      "Epoch 50/100\n",
      "21/21 [==============================] - 6s 278ms/step - loss: 0.2819 - accuracy: 0.8677 - val_loss: 0.5919 - val_accuracy: 0.7400\n",
      "Epoch 51/100\n",
      "21/21 [==============================] - 6s 276ms/step - loss: 0.2775 - accuracy: 0.8811 - val_loss: 0.7616 - val_accuracy: 0.7000\n",
      "Epoch 52/100\n",
      "21/21 [==============================] - 6s 278ms/step - loss: 0.2748 - accuracy: 0.8871 - val_loss: 0.6598 - val_accuracy: 0.7350\n",
      "Epoch 53/100\n",
      "21/21 [==============================] - 6s 280ms/step - loss: 0.2598 - accuracy: 0.8908 - val_loss: 0.6863 - val_accuracy: 0.7100\n",
      "Epoch 54/100\n",
      "21/21 [==============================] - 6s 285ms/step - loss: 0.2767 - accuracy: 0.8932 - val_loss: 0.5683 - val_accuracy: 0.7400\n",
      "Epoch 55/100\n",
      "21/21 [==============================] - 6s 288ms/step - loss: 0.2479 - accuracy: 0.8917 - val_loss: 0.9277 - val_accuracy: 0.6350\n",
      "Epoch 56/100\n",
      "21/21 [==============================] - 6s 279ms/step - loss: 0.2439 - accuracy: 0.8883 - val_loss: 0.6583 - val_accuracy: 0.7250\n",
      "Epoch 57/100\n",
      "21/21 [==============================] - 6s 279ms/step - loss: 0.2742 - accuracy: 0.8799 - val_loss: 0.7626 - val_accuracy: 0.6700\n",
      "Epoch 58/100\n"
     ]
    },
    {
     "name": "stdout",
     "output_type": "stream",
     "text": [
      "21/21 [==============================] - 6s 285ms/step - loss: 0.3015 - accuracy: 0.8689 - val_loss: 0.4776 - val_accuracy: 0.7850\n",
      "Epoch 59/100\n",
      "21/21 [==============================] - 7s 311ms/step - loss: 0.2927 - accuracy: 0.8738 - val_loss: 0.5798 - val_accuracy: 0.7350\n",
      "Epoch 60/100\n",
      "21/21 [==============================] - 6s 285ms/step - loss: 0.2847 - accuracy: 0.8799 - val_loss: 0.7044 - val_accuracy: 0.7050\n",
      "Epoch 61/100\n",
      "21/21 [==============================] - 6s 289ms/step - loss: 0.2655 - accuracy: 0.8823 - val_loss: 0.6165 - val_accuracy: 0.7100\n",
      "Epoch 62/100\n",
      "21/21 [==============================] - 6s 284ms/step - loss: 0.2409 - accuracy: 0.8956 - val_loss: 0.8223 - val_accuracy: 0.6750\n",
      "Epoch 63/100\n",
      "21/21 [==============================] - 6s 290ms/step - loss: 0.2106 - accuracy: 0.9150 - val_loss: 0.9711 - val_accuracy: 0.7050\n",
      "Epoch 64/100\n",
      "21/21 [==============================] - 6s 303ms/step - loss: 0.2550 - accuracy: 0.8811 - val_loss: 0.8289 - val_accuracy: 0.7300\n",
      "Epoch 65/100\n",
      "21/21 [==============================] - 6s 295ms/step - loss: 0.2581 - accuracy: 0.8835 - val_loss: 0.8324 - val_accuracy: 0.6800\n",
      "Epoch 66/100\n",
      "21/21 [==============================] - 6s 293ms/step - loss: 0.2651 - accuracy: 0.8920 - val_loss: 0.7000 - val_accuracy: 0.6950\n",
      "Epoch 67/100\n",
      "21/21 [==============================] - 6s 273ms/step - loss: 0.2548 - accuracy: 0.8762 - val_loss: 0.7057 - val_accuracy: 0.7300\n",
      "Epoch 68/100\n",
      "21/21 [==============================] - 6s 293ms/step - loss: 0.2556 - accuracy: 0.8932 - val_loss: 0.8947 - val_accuracy: 0.7050\n",
      "Epoch 69/100\n",
      "21/21 [==============================] - 7s 311ms/step - loss: 0.2272 - accuracy: 0.8871 - val_loss: 0.8802 - val_accuracy: 0.7050\n",
      "Epoch 70/100\n",
      "21/21 [==============================] - 7s 315ms/step - loss: 0.2575 - accuracy: 0.8920 - val_loss: 0.9930 - val_accuracy: 0.6950\n",
      "Epoch 71/100\n",
      "21/21 [==============================] - 6s 309ms/step - loss: 0.2537 - accuracy: 0.8714 - val_loss: 0.7043 - val_accuracy: 0.6850\n",
      "Epoch 72/100\n",
      "21/21 [==============================] - 6s 292ms/step - loss: 0.2231 - accuracy: 0.9017 - val_loss: 0.6687 - val_accuracy: 0.6900\n",
      "Epoch 73/100\n",
      "21/21 [==============================] - 6s 292ms/step - loss: 0.2452 - accuracy: 0.8701 - val_loss: 0.7170 - val_accuracy: 0.7200\n",
      "Epoch 74/100\n",
      "21/21 [==============================] - 6s 297ms/step - loss: 0.2377 - accuracy: 0.8833 - val_loss: 0.8260 - val_accuracy: 0.6500\n",
      "Epoch 75/100\n",
      "21/21 [==============================] - 6s 289ms/step - loss: 0.1941 - accuracy: 0.9187 - val_loss: 0.8883 - val_accuracy: 0.6900\n",
      "Epoch 76/100\n",
      "21/21 [==============================] - 6s 303ms/step - loss: 0.2453 - accuracy: 0.9029 - val_loss: 0.8177 - val_accuracy: 0.7200\n",
      "Epoch 77/100\n",
      "21/21 [==============================] - 6s 302ms/step - loss: 0.1997 - accuracy: 0.9199 - val_loss: 0.7665 - val_accuracy: 0.7000\n",
      "Epoch 78/100\n",
      "21/21 [==============================] - 6s 305ms/step - loss: 0.2185 - accuracy: 0.8993 - val_loss: 0.6911 - val_accuracy: 0.7200\n",
      "Epoch 79/100\n",
      "21/21 [==============================] - 7s 314ms/step - loss: 0.2238 - accuracy: 0.8993 - val_loss: 0.7628 - val_accuracy: 0.7200\n",
      "Epoch 80/100\n",
      "21/21 [==============================] - 6s 300ms/step - loss: 0.2239 - accuracy: 0.9114 - val_loss: 0.8812 - val_accuracy: 0.6700\n",
      "Epoch 81/100\n",
      "21/21 [==============================] - 7s 316ms/step - loss: 0.2572 - accuracy: 0.9029 - val_loss: 0.7207 - val_accuracy: 0.7200\n",
      "Epoch 82/100\n",
      "21/21 [==============================] - 6s 296ms/step - loss: 0.2168 - accuracy: 0.9126 - val_loss: 0.7005 - val_accuracy: 0.7300\n",
      "Epoch 83/100\n",
      "21/21 [==============================] - 6s 302ms/step - loss: 0.2094 - accuracy: 0.9017 - val_loss: 1.0151 - val_accuracy: 0.6750\n",
      "Epoch 84/100\n",
      "21/21 [==============================] - 6s 305ms/step - loss: 0.2367 - accuracy: 0.8835 - val_loss: 0.7252 - val_accuracy: 0.7000\n",
      "Epoch 85/100\n",
      "21/21 [==============================] - 6s 299ms/step - loss: 0.2428 - accuracy: 0.8920 - val_loss: 0.6545 - val_accuracy: 0.6600\n",
      "Epoch 86/100\n",
      "21/21 [==============================] - 6s 301ms/step - loss: 0.2420 - accuracy: 0.8932 - val_loss: 0.7074 - val_accuracy: 0.7150\n",
      "Epoch 87/100\n",
      "21/21 [==============================] - 6s 287ms/step - loss: 0.2378 - accuracy: 0.8968 - val_loss: 0.7683 - val_accuracy: 0.6700\n",
      "Epoch 88/100\n",
      "21/21 [==============================] - 7s 312ms/step - loss: 0.2213 - accuracy: 0.8956 - val_loss: 0.5668 - val_accuracy: 0.7300\n",
      "Epoch 89/100\n",
      "21/21 [==============================] - 6s 305ms/step - loss: 0.2035 - accuracy: 0.9005 - val_loss: 0.6748 - val_accuracy: 0.7050\n",
      "Epoch 90/100\n",
      "21/21 [==============================] - 6s 305ms/step - loss: 0.2148 - accuracy: 0.9066 - val_loss: 0.8419 - val_accuracy: 0.6950\n",
      "Epoch 91/100\n",
      "21/21 [==============================] - 6s 304ms/step - loss: 0.2871 - accuracy: 0.8883 - val_loss: 0.9567 - val_accuracy: 0.6950\n",
      "Epoch 92/100\n",
      "21/21 [==============================] - 6s 304ms/step - loss: 0.2526 - accuracy: 0.8908 - val_loss: 0.9732 - val_accuracy: 0.6700\n",
      "Epoch 93/100\n",
      "21/21 [==============================] - 6s 303ms/step - loss: 0.2285 - accuracy: 0.9041 - val_loss: 0.6470 - val_accuracy: 0.7050\n",
      "Epoch 94/100\n",
      "21/21 [==============================] - 6s 298ms/step - loss: 0.2528 - accuracy: 0.8786 - val_loss: 0.7537 - val_accuracy: 0.6800\n",
      "Epoch 95/100\n",
      "21/21 [==============================] - 6s 300ms/step - loss: 0.2277 - accuracy: 0.8968 - val_loss: 0.8211 - val_accuracy: 0.6850\n",
      "Epoch 96/100\n",
      "21/21 [==============================] - 6s 299ms/step - loss: 0.2465 - accuracy: 0.8896 - val_loss: 0.7102 - val_accuracy: 0.6850\n",
      "Epoch 97/100\n",
      "21/21 [==============================] - 7s 312ms/step - loss: 0.2340 - accuracy: 0.8883 - val_loss: 0.7648 - val_accuracy: 0.6850\n",
      "Epoch 98/100\n",
      "21/21 [==============================] - 6s 296ms/step - loss: 0.2553 - accuracy: 0.8799 - val_loss: 0.6647 - val_accuracy: 0.7000\n",
      "Epoch 99/100\n",
      "21/21 [==============================] - 6s 301ms/step - loss: 0.2575 - accuracy: 0.8811 - val_loss: 0.6749 - val_accuracy: 0.7700\n",
      "Epoch 100/100\n",
      "21/21 [==============================] - 6s 301ms/step - loss: 0.2633 - accuracy: 0.8871 - val_loss: 0.7363 - val_accuracy: 0.6950\n"
     ]
    }
   ],
   "source": [
    "# FIT MODEL\n",
    "from tensorflow.keras.optimizers import SGD\n",
    "print(len(train_batches))\n",
    "print(len(valid_batches))\n",
    "\n",
    "STEP_SIZE_TRAIN=train_batches.n//train_batches.batch_size\n",
    "STEP_SIZE_VALID=valid_batches.n//valid_batches.batch_size\n",
    "\n",
    "# raise NotImplementedError(\"Use the model.fit function to train your network\")\n",
    "# covid_model.compile(optimizer='adam', loss=tf.keras.losses.CategoricalCrossentropy(from_logits=True), metrics=['accuracy'])\n",
    "covid_model.compile(optimizer='adam', loss=tf.keras.losses.BinaryCrossentropy(from_logits=False), metrics=['accuracy'])\n",
    "# print the device library\n",
    "print(device_lib.list_local_devices())\n",
    "\n",
    "history = None\n",
    "\n",
    "with tf.device(\"GPU:0\"):\n",
    "    history = covid_model.fit_generator(generator=train_batches, \n",
    "                              steps_per_epoch=STEP_SIZE_TRAIN, \n",
    "                              epochs=100, \n",
    "                              validation_data=(valid_batches),\n",
    "                              validation_steps=STEP_SIZE_VALID)"
   ]
  },
  {
   "cell_type": "code",
   "execution_count": 6,
   "metadata": {},
   "outputs": [
    {
     "data": {
      "text/plain": [
       "<matplotlib.legend.Legend at 0x239f5e90518>"
      ]
     },
     "execution_count": 6,
     "metadata": {},
     "output_type": "execute_result"
    },
    {
     "data": {
      "image/png": "[encoded data removed]",
      "text/plain": [
       "<Figure size 432x288 with 1 Axes>"
      ]
     },
     "metadata": {
      "needs_background": "light"
     },
     "output_type": "display_data"
    },
    {
     "data": {
      "image/png": "[encoded data removed]",
      "text/plain": [
       "<Figure size 432x288 with 1 Axes>"
      ]
     },
     "metadata": {
      "needs_background": "light"
     },
     "output_type": "display_data"
    }
   ],
   "source": [
    "import matplotlib.pyplot as plt\n",
    "\n",
    "# raise NotImplementedError(\"Plot the accuracy and the loss during training\")\n",
    "\n",
    "# Accuracy over 40 Epochs\n",
    "plt.figure()\n",
    "plt.plot(history.history['accuracy'], label='train accuracy') \n",
    "plt.plot(history.history['val_accuracy'], label = 'validation accuracy') \n",
    "plt.title('Accuracy over 40 epochs')\n",
    "plt.xlabel('Epoch') \n",
    "plt.ylabel('Accuracy') \n",
    "plt.ylim([0.4, 1.1]) \n",
    "plt.legend(loc='lower right')\n",
    "\n",
    "# Loss over 40 Epochs\n",
    "plt.figure()\n",
    "plt.plot(history.history['loss'], label='train loss') \n",
    "plt.plot(history.history['val_loss'], label = 'validation loss') \n",
    "plt.title('Loss over 40 epochs')\n",
    "plt.xlabel('Epoch') \n",
    "plt.ylabel('Loss') \n",
    "plt.ylim([0, 1.2]) \n",
    "plt.legend(loc='upper right')"
   ]
  },
  {
   "cell_type": "code",
   "execution_count": 7,
   "metadata": {},
   "outputs": [
    {
     "name": "stdout",
     "output_type": "stream",
     "text": [
      "Found 36 images belonging to 4 classes.\n",
      "36\n",
      "WARNING:tensorflow:From <ipython-input-7-dedefa902e64>:8: Model.evaluate_generator (from tensorflow.python.keras.engine.training) is deprecated and will be removed in a future version.\n",
      "Instructions for updating:\n",
      "Please use Model.evaluate, which supports generators.\n",
      "WARNING:tensorflow:sample_weight modes were coerced from\n",
      "  ...\n",
      "    to  \n",
      "  ['...']\n",
      "36/36 [==============================] - 1s 27ms/step - loss: 0.4573 - accuracy: 0.7847\n",
      "Test loss: 0.4572942383755516\n",
      "Test accuracy: 0.7847222\n"
     ]
    }
   ],
   "source": [
    "test_datagen = ImageDataGenerator(rescale=1. / 255)\n",
    "\n",
    "eval_generator = test_datagen.flow_from_directory(TEST_DIR,target_size=IMAGE_SIZE,\n",
    "                                                  batch_size=1,shuffle=True,seed=42,class_mode=\"categorical\")\n",
    "eval_generator.reset()\n",
    "print(len(eval_generator))\n",
    "x = covid_model.evaluate_generator(eval_generator,steps = np.ceil(len(eval_generator)),\n",
    "                           use_multiprocessing = False,verbose = 1,workers=1)\n",
    "print('Test loss:' , x[0])\n",
    "print('Test accuracy:',x[1])"
   ]
  },
  {
   "cell_type": "code",
   "execution_count": 8,
   "metadata": {},
   "outputs": [
    {
     "name": "stdout",
     "output_type": "stream",
     "text": [
      "Found 270 images belonging to 4 classes.\n",
      "WARNING:tensorflow:From <ipython-input-8-1415f2fd837a>:12: Model.predict_generator (from tensorflow.python.keras.engine.training) is deprecated and will be removed in a future version.\n",
      "Instructions for updating:\n",
      "Please use Model.predict, which supports generators.\n",
      "270/270 [==============================] - 6s 22ms/step\n",
      "(270, 256)\n",
      "(270, 2)\n"
     ]
    },
    {
     "data": {
      "text/plain": [
       "Text(0.5, 1.0, '2D features')"
      ]
     },
     "execution_count": 8,
     "metadata": {},
     "output_type": "execute_result"
    },
    {
     "data": {
      "image/png": "[encoded data removed]",
      "text/plain": [
       "<Figure size 432x288 with 1 Axes>"
      ]
     },
     "metadata": {
      "needs_background": "light"
     },
     "output_type": "display_data"
    }
   ],
   "source": [
    "from sklearn.manifold import TSNE\n",
    "\n",
    "intermediate_layer_model = tf.keras.models.Model(inputs=covid_model.input,\n",
    "                                        outputs=covid_model.get_layer('dense').output)\n",
    "\n",
    "tsne_eval_generator = test_datagen.flow_from_directory(DATASET_PATH,target_size=IMAGE_SIZE,\n",
    "                                                  batch_size=1,shuffle=False,seed=42,class_mode=\"categorical\")\n",
    "\n",
    "# raise NotImplementedError(\"Extract features from the tsne_data_generator and fit a t-SNE model for the features,\"\n",
    "#                           \"and plot the resulting 2D features of the four classes.\")\n",
    "\n",
    "outputs = intermediate_layer_model.predict_generator(tsne_eval_generator,270,verbose=1)\n",
    "print(outputs.shape)\n",
    "label = tsne_eval_generator.classes\n",
    "features = TSNE(n_components=2).fit_transform(outputs)\n",
    "print(features.shape)\n",
    "plt.figure()\n",
    "for index in range(len(features)):\n",
    "    if label[index] == 0:\n",
    "        # COVID\n",
    "        plt.plot(features[index, 0], features[index, 1], 'bo')\n",
    "    elif label[index] == 1:\n",
    "        # normal\n",
    "        plt.plot(features[index, 0], features[index, 1], 'yo')\n",
    "    elif label[index] == 2:\n",
    "        # Pneumonia_bac\n",
    "        plt.plot(features[index, 0], features[index, 1], 'go')\n",
    "    else:\n",
    "        # Pneumonia_vir\n",
    "        plt.plot(features[index, 0], features[index, 1], 'ro')\n",
    "plt.title('2D features')"
   ]
  }
 ],
 "metadata": {
  "kernelspec": {
   "display_name": "Python 3",
   "language": "python",
   "name": "python3"
  },
  "language_info": {
   "codemirror_mode": {
    "name": "ipython",
    "version": 3
   },
   "file_extension": ".py",
   "mimetype": "text/x-python",
   "name": "python",
   "nbconvert_exporter": "python",
   "pygments_lexer": "ipython3",
   "version": "3.6.9"
  }
 },
 "nbformat": 4,
 "nbformat_minor": 2
}
