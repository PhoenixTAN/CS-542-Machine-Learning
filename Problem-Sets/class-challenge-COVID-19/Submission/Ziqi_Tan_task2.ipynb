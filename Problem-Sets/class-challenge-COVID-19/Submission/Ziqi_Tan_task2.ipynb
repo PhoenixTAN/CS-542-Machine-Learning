{
 "cells": [
  {
   "cell_type": "markdown",
   "metadata": {
    "nbpresent": {
     "id": "1d234e3f-af8b-4757-83f3-241b04b7a511"
    }
   },
   "source": [
    "# Class Challenge: Image Classification of COVID-19 X-rays\n",
    "# Task 2 [Total points: 30]"
   ]
  },
  {
   "cell_type": "markdown",
   "metadata": {
    "nbpresent": {
     "id": "b07b9992-b592-4871-9f9a-3b0ae5fa8b5f"
    }
   },
   "source": [
    "## Setup\n",
    "\n",
    "* This assignment involves the following packages: 'matplotlib', 'numpy', and 'sklearn'. \n",
    "\n",
    "* If you are using conda, use the following commands to install the above packages:<br>\n",
    "```shell\n",
    "conda install matplotlib\n",
    "conda install numpy\n",
    "conda install -c anaconda scikit-learn\n",
    "```\n",
    "\n",
    "* If you are using pip, use use the following commands to install the above packages: <br> \n",
    "```shell\n",
    "pip install matplotlib\n",
    "pip install numpy\n",
    "pip install sklearn\n",
    "```"
   ]
  },
  {
   "cell_type": "markdown",
   "metadata": {
    "nbpresent": {
     "id": "5516f610-f00c-43c3-bf19-4cf7ab9c089f"
    }
   },
   "source": [
    "## Data\n",
    "\n",
    "Please download the data using the following link: [COVID-19](https://drive.google.com/file/d/1Y88tgqpQ1Pjko_7rntcPowOJs_QNOrJ-/view). \n",
    "\n",
    "* After downloading 'Covid_Data_GradientCrescent.zip', unzip the file and you should see the following data structure:\n",
    "\n",
    "\n",
    "|--all<br>\n",
    "|--------train<br>\n",
    "|--------test<br>\n",
    "|--two<br>\n",
    "|--------train<br>\n",
    "|--------test<br>\n",
    "\n",
    "\n",
    "* Put the 'all' folder, the 'two' folder and this python notebook in the **same directory** so that the following code can correctly locate the data.  \n",
    "\n"
   ]
  },
  {
   "cell_type": "markdown",
   "metadata": {
    "nbpresent": {
     "id": "66140980-2aa4-457f-b1df-74c10c234cc2"
    }
   },
   "source": [
    "## [20 points] Multi-class Classification"
   ]
  },
  {
   "cell_type": "code",
   "execution_count": 1,
   "metadata": {
    "nbpresent": {
     "id": "5e05f980-3d14-4367-b3d1-664249145b13"
    },
    "scrolled": true
   },
   "outputs": [
    {
     "name": "stdout",
     "output_type": "stream",
     "text": [
      "[name: \"/device:CPU:0\"\n",
      "device_type: \"CPU\"\n",
      "memory_limit: 268435456\n",
      "locality {\n",
      "}\n",
      "incarnation: 17395475693680743166\n",
      ", name: \"/device:GPU:0\"\n",
      "device_type: \"GPU\"\n",
      "memory_limit: 4930941747\n",
      "locality {\n",
      "  bus_id: 1\n",
      "  links {\n",
      "  }\n",
      "}\n",
      "incarnation: 15970805288671558107\n",
      "physical_device_desc: \"device: 0, name: GeForce GTX 1060, pci bus id: 0000:01:00.0, compute capability: 6.1\"\n",
      "]\n"
     ]
    },
    {
     "data": {
      "text/plain": [
       "'2.1.0'"
      ]
     },
     "execution_count": 1,
     "metadata": {},
     "output_type": "execute_result"
    }
   ],
   "source": [
    "import os\n",
    "\n",
    "import tensorflow as tf\n",
    "import numpy as np\n",
    "import matplotlib.pyplot as plt\n",
    "from tensorflow.keras.preprocessing.image import ImageDataGenerator\n",
    "\n",
    "from tensorflow.python.client import device_lib\n",
    "\n",
    "print(device_lib.list_local_devices())\n",
    "\n",
    "os.environ['OMP_NUM_THREADS'] = '1'\n",
    "os.environ['CUDA_VISIBLE_DEVICES'] = '-1'\n",
    "tf.__version__"
   ]
  },
  {
   "cell_type": "markdown",
   "metadata": {
    "nbpresent": {
     "id": "66140980-2aa4-457f-b1df-74c10c234cc2"
    }
   },
   "source": [
    "#### Load Image Data"
   ]
  },
  {
   "cell_type": "code",
   "execution_count": 2,
   "metadata": {
    "nbpresent": {
     "id": "58317664-8da3-4283-b3e5-35721687e7ab"
    }
   },
   "outputs": [],
   "source": [
    "DATA_LIST = os.listdir('all/train')\n",
    "DATASET_PATH  = 'all/train'\n",
    "TEST_DIR =  'all/test'\n",
    "IMAGE_SIZE    = (224, 224)\n",
    "NUM_CLASSES   = len(DATA_LIST)\n",
    "BATCH_SIZE    = 10  # try reducing batch size or freeze more layers if your GPU runs out of memory\n",
    "NUM_EPOCHS    = 100\n",
    "LEARNING_RATE = 0.0001 # start off with high rate first 0.001 and experiment with reducing it gradually "
   ]
  },
  {
   "cell_type": "markdown",
   "metadata": {
    "nbpresent": {
     "id": "66140980-2aa4-457f-b1df-74c10c234cc2"
    }
   },
   "source": [
    "#### Generate Training and Validation Batches"
   ]
  },
  {
   "cell_type": "code",
   "execution_count": 3,
   "metadata": {
    "nbpresent": {
     "id": "71760e29-2b08-4259-93f1-ebe68cd74a6d"
    }
   },
   "outputs": [
    {
     "name": "stdout",
     "output_type": "stream",
     "text": [
      "Found 216 images belonging to 4 classes.\n",
      "Found 54 images belonging to 4 classes.\n"
     ]
    },
    {
     "name": "stderr",
     "output_type": "stream",
     "text": [
      "C:\\Users\\tanzi\\Anaconda3\\lib\\site-packages\\keras_preprocessing\\image\\image_data_generator.py:341: UserWarning: This ImageDataGenerator specifies `zca_whitening` which overrides setting of`featurewise_std_normalization`.\n",
      "  warnings.warn('This ImageDataGenerator specifies '\n"
     ]
    }
   ],
   "source": [
    "train_datagen = ImageDataGenerator(rescale=1./255,rotation_range=50,featurewise_center = True,\n",
    "                                   featurewise_std_normalization = True,width_shift_range=0.2,\n",
    "                                   height_shift_range=0.2,shear_range=0.25,zoom_range=0.1,\n",
    "                                   zca_whitening = True,channel_shift_range = 20,\n",
    "                                   horizontal_flip = True,vertical_flip = True,\n",
    "                                   validation_split = 0.2,fill_mode='constant')\n",
    "\n",
    "\n",
    "train_batches = train_datagen.flow_from_directory(DATASET_PATH,target_size=IMAGE_SIZE,\n",
    "                                                  shuffle=True,batch_size=BATCH_SIZE,\n",
    "                                                  subset = \"training\",seed=42,\n",
    "                                                  class_mode=\"categorical\")\n",
    "\n",
    "valid_batches = train_datagen.flow_from_directory(DATASET_PATH,target_size=IMAGE_SIZE,\n",
    "                                                  shuffle=True,batch_size=BATCH_SIZE,\n",
    "                                                  subset = \"validation\",\n",
    "                                                  seed=42,class_mode=\"categorical\")"
   ]
  },
  {
   "cell_type": "markdown",
   "metadata": {
    "nbpresent": {
     "id": "66140980-2aa4-457f-b1df-74c10c234cc2"
    }
   },
   "source": [
    "#### [10 points] Build Model\n",
    "Hint: Starting from a pre-trained model typically helps performance on a new task, e.g. starting with weights obtained by training on ImageNet. "
   ]
  },
  {
   "cell_type": "code",
   "execution_count": 4,
   "metadata": {
    "nbpresent": {
     "id": "5c52eeb2-1092-4d45-9e16-02219c82cb5e"
    }
   },
   "outputs": [
    {
     "name": "stdout",
     "output_type": "stream",
     "text": [
      "Model: \"sequential\"\n",
      "_________________________________________________________________\n",
      "Layer (type)                 Output Shape              Param #   \n",
      "=================================================================\n",
      "vgg16 (Model)                (None, 7, 7, 512)         14714688  \n",
      "_________________________________________________________________\n",
      "flatten (Flatten)            (None, 25088)             0         \n",
      "_________________________________________________________________\n",
      "dense (Dense)                (None, 1024)              25691136  \n",
      "_________________________________________________________________\n",
      "dense_1 (Dense)              (None, 256)               262400    \n",
      "_________________________________________________________________\n",
      "dense_2 (Dense)              (None, 4)                 1028      \n",
      "=================================================================\n",
      "Total params: 40,669,252\n",
      "Trainable params: 25,954,564\n",
      "Non-trainable params: 14,714,688\n",
      "_________________________________________________________________\n"
     ]
    }
   ],
   "source": [
    "# raise NotImplementedError(\"Build your model based on an architecture of your choice \"\n",
    "#                           \"A sample model summary is shown below\")\n",
    "\n",
    "# Implement VGG16\n",
    "from tensorflow.keras.applications import VGG16\n",
    "from tensorflow.keras.layers import Flatten, Dense, Dropout\n",
    "from tensorflow.keras.models import Sequential\n",
    "\n",
    "vgg_16 = VGG16(include_top=False, weights='imagenet', input_shape=(224, 224, 3), pooling='None', classes=4)\n",
    "            \n",
    "vgg_16.trainable = False\n",
    "\n",
    "covid_model = Sequential()\n",
    "covid_model.add(vgg_16)\n",
    "covid_model.add(Flatten())\n",
    "covid_model.add(Dense(1024, activation='relu'))\n",
    "covid_model.add(Dense(256, activation='relu'))\n",
    "covid_model.add(Dense(4, activation='sigmoid'))\n",
    "\n",
    "covid_model.build(input_shape=(224, 224, 3))\n",
    "covid_model.summary()"
   ]
  },
  {
   "cell_type": "markdown",
   "metadata": {
    "nbpresent": {
     "id": "66140980-2aa4-457f-b1df-74c10c234cc2"
    }
   },
   "source": [
    "#### [5 points] Train Model"
   ]
  },
  {
   "cell_type": "code",
   "execution_count": 5,
   "metadata": {
    "nbpresent": {
     "id": "cdb90d24-6a23-4969-8138-f37e7050062d"
    },
    "scrolled": false
   },
   "outputs": [
    {
     "name": "stdout",
     "output_type": "stream",
     "text": [
      "22\n",
      "6\n",
      "[name: \"/device:CPU:0\"\n",
      "device_type: \"CPU\"\n",
      "memory_limit: 268435456\n",
      "locality {\n",
      "}\n",
      "incarnation: 2868681098952114640\n",
      ", name: \"/device:GPU:0\"\n",
      "device_type: \"GPU\"\n",
      "memory_limit: 4930941747\n",
      "locality {\n",
      "  bus_id: 1\n",
      "  links {\n",
      "  }\n",
      "}\n",
      "incarnation: 316359420655582248\n",
      "physical_device_desc: \"device: 0, name: GeForce GTX 1060, pci bus id: 0000:01:00.0, compute capability: 6.1\"\n",
      "]\n",
      "WARNING:tensorflow:From <ipython-input-5-b531565193e9>:30: Model.fit_generator (from tensorflow.python.keras.engine.training) is deprecated and will be removed in a future version.\n",
      "Instructions for updating:\n",
      "Please use Model.fit, which supports generators.\n",
      "WARNING:tensorflow:sample_weight modes were coerced from\n",
      "  ...\n",
      "    to  \n",
      "  ['...']\n"
     ]
    },
    {
     "name": "stderr",
     "output_type": "stream",
     "text": [
      "C:\\Users\\tanzi\\Anaconda3\\lib\\site-packages\\keras_preprocessing\\image\\image_data_generator.py:716: UserWarning: This ImageDataGenerator specifies `featurewise_center`, but it hasn't been fit on any training data. Fit it first by calling `.fit(numpy_data)`.\n",
      "  warnings.warn('This ImageDataGenerator specifies '\n",
      "C:\\Users\\tanzi\\Anaconda3\\lib\\site-packages\\keras_preprocessing\\image\\image_data_generator.py:735: UserWarning: This ImageDataGenerator specifies `zca_whitening`, but it hasn't been fit on any training data. Fit it first by calling `.fit(numpy_data)`.\n",
      "  warnings.warn('This ImageDataGenerator specifies '\n"
     ]
    },
    {
     "name": "stdout",
     "output_type": "stream",
     "text": [
      "WARNING:tensorflow:sample_weight modes were coerced from\n",
      "  ...\n",
      "    to  \n",
      "  ['...']\n",
      "Train for 21 steps, validate for 5 steps\n",
      "Epoch 1/100\n"
     ]
    },
    {
     "name": "stderr",
     "output_type": "stream",
     "text": [
      "C:\\Users\\tanzi\\Anaconda3\\lib\\site-packages\\keras_preprocessing\\image\\image_data_generator.py:716: UserWarning: This ImageDataGenerator specifies `featurewise_center`, but it hasn't been fit on any training data. Fit it first by calling `.fit(numpy_data)`.\n",
      "  warnings.warn('This ImageDataGenerator specifies '\n",
      "C:\\Users\\tanzi\\Anaconda3\\lib\\site-packages\\keras_preprocessing\\image\\image_data_generator.py:735: UserWarning: This ImageDataGenerator specifies `zca_whitening`, but it hasn't been fit on any training data. Fit it first by calling `.fit(numpy_data)`.\n",
      "  warnings.warn('This ImageDataGenerator specifies '\n"
     ]
    },
    {
     "name": "stdout",
     "output_type": "stream",
     "text": [
      "21/21 [==============================] - 8s 379ms/step - loss: 1.1485 - accuracy: 0.6905 - val_loss: 0.6506 - val_accuracy: 0.7100\n",
      "Epoch 2/100\n",
      "21/21 [==============================] - 6s 279ms/step - loss: 0.6663 - accuracy: 0.7233 - val_loss: 0.5942 - val_accuracy: 0.7100\n",
      "Epoch 3/100\n",
      "21/21 [==============================] - 6s 277ms/step - loss: 0.5792 - accuracy: 0.7464 - val_loss: 0.5577 - val_accuracy: 0.7400\n",
      "Epoch 4/100\n",
      "21/21 [==============================] - 6s 276ms/step - loss: 0.4668 - accuracy: 0.7900 - val_loss: 0.4542 - val_accuracy: 0.8450\n",
      "Epoch 5/100\n",
      "21/21 [==============================] - 6s 279ms/step - loss: 0.4305 - accuracy: 0.7961 - val_loss: 0.6346 - val_accuracy: 0.7000\n",
      "Epoch 6/100\n",
      "21/21 [==============================] - 6s 275ms/step - loss: 0.4100 - accuracy: 0.8034 - val_loss: 0.3896 - val_accuracy: 0.7950\n",
      "Epoch 7/100\n",
      "21/21 [==============================] - 6s 277ms/step - loss: 0.4204 - accuracy: 0.7961 - val_loss: 0.4342 - val_accuracy: 0.7900\n",
      "Epoch 8/100\n",
      "21/21 [==============================] - 6s 285ms/step - loss: 0.3673 - accuracy: 0.8155 - val_loss: 0.3738 - val_accuracy: 0.7900\n",
      "Epoch 9/100\n",
      "21/21 [==============================] - 6s 290ms/step - loss: 0.3799 - accuracy: 0.8167 - val_loss: 0.3575 - val_accuracy: 0.8300\n",
      "Epoch 10/100\n",
      "21/21 [==============================] - 6s 282ms/step - loss: 0.3681 - accuracy: 0.8301 - val_loss: 0.4522 - val_accuracy: 0.7500\n",
      "Epoch 11/100\n",
      "21/21 [==============================] - 6s 287ms/step - loss: 0.3395 - accuracy: 0.8265 - val_loss: 0.3282 - val_accuracy: 0.8450\n",
      "Epoch 12/100\n",
      "21/21 [==============================] - 6s 284ms/step - loss: 0.3370 - accuracy: 0.8374 - val_loss: 0.3207 - val_accuracy: 0.8400\n",
      "Epoch 13/100\n",
      "21/21 [==============================] - 6s 280ms/step - loss: 0.3382 - accuracy: 0.8337 - val_loss: 0.3353 - val_accuracy: 0.8500\n",
      "Epoch 14/100\n",
      "21/21 [==============================] - 6s 279ms/step - loss: 0.3365 - accuracy: 0.8289 - val_loss: 0.3078 - val_accuracy: 0.8350\n",
      "Epoch 15/100\n",
      "21/21 [==============================] - 6s 283ms/step - loss: 0.3295 - accuracy: 0.8434 - val_loss: 0.2988 - val_accuracy: 0.8400\n",
      "Epoch 16/100\n",
      "21/21 [==============================] - 6s 281ms/step - loss: 0.3447 - accuracy: 0.8301 - val_loss: 0.2982 - val_accuracy: 0.8700\n",
      "Epoch 17/100\n",
      "21/21 [==============================] - 6s 275ms/step - loss: 0.3240 - accuracy: 0.8337 - val_loss: 0.3278 - val_accuracy: 0.8350\n",
      "Epoch 18/100\n",
      "21/21 [==============================] - 6s 281ms/step - loss: 0.2898 - accuracy: 0.8726 - val_loss: 0.3039 - val_accuracy: 0.8500\n",
      "Epoch 19/100\n",
      "21/21 [==============================] - 6s 284ms/step - loss: 0.3372 - accuracy: 0.8422 - val_loss: 0.3988 - val_accuracy: 0.7900\n",
      "Epoch 20/100\n",
      "21/21 [==============================] - 6s 275ms/step - loss: 0.3615 - accuracy: 0.8313 - val_loss: 0.3201 - val_accuracy: 0.8300\n",
      "Epoch 21/100\n",
      "21/21 [==============================] - 6s 280ms/step - loss: 0.3405 - accuracy: 0.8447 - val_loss: 0.2718 - val_accuracy: 0.8750\n",
      "Epoch 22/100\n",
      "21/21 [==============================] - 6s 279ms/step - loss: 0.3493 - accuracy: 0.8204 - val_loss: 0.3278 - val_accuracy: 0.8300\n",
      "Epoch 23/100\n",
      "21/21 [==============================] - 6s 287ms/step - loss: 0.3292 - accuracy: 0.8434 - val_loss: 0.3042 - val_accuracy: 0.8400\n",
      "Epoch 24/100\n",
      "21/21 [==============================] - 6s 273ms/step - loss: 0.3152 - accuracy: 0.8386 - val_loss: 0.3083 - val_accuracy: 0.8300\n",
      "Epoch 25/100\n",
      "21/21 [==============================] - 6s 280ms/step - loss: 0.3452 - accuracy: 0.8240 - val_loss: 0.3000 - val_accuracy: 0.8450\n",
      "Epoch 26/100\n",
      "21/21 [==============================] - 6s 277ms/step - loss: 0.3204 - accuracy: 0.8483 - val_loss: 0.3472 - val_accuracy: 0.8400\n",
      "Epoch 27/100\n",
      "21/21 [==============================] - 6s 277ms/step - loss: 0.3110 - accuracy: 0.8362 - val_loss: 0.2903 - val_accuracy: 0.8650\n",
      "Epoch 28/100\n",
      "21/21 [==============================] - 6s 285ms/step - loss: 0.3010 - accuracy: 0.8313 - val_loss: 0.3206 - val_accuracy: 0.8450\n",
      "Epoch 29/100\n",
      "21/21 [==============================] - 6s 283ms/step - loss: 0.3009 - accuracy: 0.8604 - val_loss: 0.3266 - val_accuracy: 0.8350\n",
      "Epoch 30/100\n",
      "21/21 [==============================] - 6s 280ms/step - loss: 0.2670 - accuracy: 0.8750 - val_loss: 0.3165 - val_accuracy: 0.8350\n",
      "Epoch 31/100\n",
      "21/21 [==============================] - 6s 284ms/step - loss: 0.3171 - accuracy: 0.8507 - val_loss: 0.2867 - val_accuracy: 0.8650\n",
      "Epoch 32/100\n",
      "21/21 [==============================] - 6s 282ms/step - loss: 0.3013 - accuracy: 0.8519 - val_loss: 0.2979 - val_accuracy: 0.8400\n",
      "Epoch 33/100\n",
      "21/21 [==============================] - 6s 280ms/step - loss: 0.2840 - accuracy: 0.8568 - val_loss: 0.3055 - val_accuracy: 0.8450\n",
      "Epoch 34/100\n",
      "21/21 [==============================] - 6s 283ms/step - loss: 0.2703 - accuracy: 0.8568 - val_loss: 0.2623 - val_accuracy: 0.8700\n",
      "Epoch 35/100\n",
      "21/21 [==============================] - 6s 284ms/step - loss: 0.3113 - accuracy: 0.8459 - val_loss: 0.3634 - val_accuracy: 0.8250\n",
      "Epoch 36/100\n",
      "21/21 [==============================] - 6s 287ms/step - loss: 0.3333 - accuracy: 0.8556 - val_loss: 0.4427 - val_accuracy: 0.8050\n",
      "Epoch 37/100\n",
      "21/21 [==============================] - 6s 292ms/step - loss: 0.3013 - accuracy: 0.8532 - val_loss: 0.2492 - val_accuracy: 0.8800\n",
      "Epoch 38/100\n",
      "21/21 [==============================] - 6s 301ms/step - loss: 0.2753 - accuracy: 0.8447 - val_loss: 0.2793 - val_accuracy: 0.8350\n",
      "Epoch 39/100\n",
      "21/21 [==============================] - 6s 286ms/step - loss: 0.2743 - accuracy: 0.8617 - val_loss: 0.3024 - val_accuracy: 0.8450\n",
      "Epoch 40/100\n",
      "21/21 [==============================] - 6s 281ms/step - loss: 0.2579 - accuracy: 0.8799 - val_loss: 0.3416 - val_accuracy: 0.8200\n",
      "Epoch 41/100\n",
      "21/21 [==============================] - 6s 284ms/step - loss: 0.2548 - accuracy: 0.8859 - val_loss: 0.4356 - val_accuracy: 0.8100\n",
      "Epoch 42/100\n",
      "21/21 [==============================] - 6s 279ms/step - loss: 0.2790 - accuracy: 0.8714 - val_loss: 0.3717 - val_accuracy: 0.8450\n",
      "Epoch 43/100\n",
      "21/21 [==============================] - 6s 280ms/step - loss: 0.3020 - accuracy: 0.8507 - val_loss: 0.2677 - val_accuracy: 0.8500\n",
      "Epoch 44/100\n",
      "21/21 [==============================] - 6s 287ms/step - loss: 0.2671 - accuracy: 0.8726 - val_loss: 0.2995 - val_accuracy: 0.8450\n",
      "Epoch 45/100\n",
      "21/21 [==============================] - 6s 286ms/step - loss: 0.2960 - accuracy: 0.8434 - val_loss: 0.2556 - val_accuracy: 0.8450\n",
      "Epoch 46/100\n",
      "21/21 [==============================] - 6s 288ms/step - loss: 0.2774 - accuracy: 0.8631 - val_loss: 0.2984 - val_accuracy: 0.8200\n",
      "Epoch 47/100\n",
      "21/21 [==============================] - 6s 280ms/step - loss: 0.3511 - accuracy: 0.8337 - val_loss: 0.4283 - val_accuracy: 0.7700\n",
      "Epoch 48/100\n",
      "21/21 [==============================] - 6s 281ms/step - loss: 0.3179 - accuracy: 0.8471 - val_loss: 0.2872 - val_accuracy: 0.8700\n",
      "Epoch 49/100\n",
      "21/21 [==============================] - 6s 276ms/step - loss: 0.2552 - accuracy: 0.8701 - val_loss: 0.4587 - val_accuracy: 0.8050\n",
      "Epoch 50/100\n",
      "21/21 [==============================] - 6s 293ms/step - loss: 0.2722 - accuracy: 0.8617 - val_loss: 0.4070 - val_accuracy: 0.8100\n",
      "Epoch 51/100\n",
      "21/21 [==============================] - 6s 286ms/step - loss: 0.2456 - accuracy: 0.8847 - val_loss: 0.3185 - val_accuracy: 0.8700\n",
      "Epoch 52/100\n",
      "21/21 [==============================] - 6s 284ms/step - loss: 0.2909 - accuracy: 0.8629 - val_loss: 0.4663 - val_accuracy: 0.7750\n",
      "Epoch 53/100\n",
      "21/21 [==============================] - 6s 288ms/step - loss: 0.2890 - accuracy: 0.8617 - val_loss: 0.3288 - val_accuracy: 0.8250\n",
      "Epoch 54/100\n",
      "21/21 [==============================] - 6s 291ms/step - loss: 0.2303 - accuracy: 0.8896 - val_loss: 0.2805 - val_accuracy: 0.8400\n",
      "Epoch 55/100\n",
      "21/21 [==============================] - 6s 294ms/step - loss: 0.2900 - accuracy: 0.8604 - val_loss: 0.4269 - val_accuracy: 0.8100\n",
      "Epoch 56/100\n",
      "21/21 [==============================] - 6s 290ms/step - loss: 0.3119 - accuracy: 0.8374 - val_loss: 0.2940 - val_accuracy: 0.8300\n",
      "Epoch 57/100\n",
      "21/21 [==============================] - 6s 294ms/step - loss: 0.2563 - accuracy: 0.8786 - val_loss: 0.2924 - val_accuracy: 0.8450\n",
      "Epoch 58/100\n"
     ]
    },
    {
     "name": "stdout",
     "output_type": "stream",
     "text": [
      "21/21 [==============================] - 6s 289ms/step - loss: 0.2775 - accuracy: 0.8568 - val_loss: 0.3002 - val_accuracy: 0.8450\n",
      "Epoch 59/100\n",
      "21/21 [==============================] - 6s 298ms/step - loss: 0.2356 - accuracy: 0.8847 - val_loss: 0.2769 - val_accuracy: 0.8100\n",
      "Epoch 60/100\n",
      "21/21 [==============================] - 6s 295ms/step - loss: 0.2522 - accuracy: 0.8835 - val_loss: 0.2851 - val_accuracy: 0.8600\n",
      "Epoch 61/100\n",
      "21/21 [==============================] - 6s 306ms/step - loss: 0.2626 - accuracy: 0.8774 - val_loss: 0.3142 - val_accuracy: 0.8500\n",
      "Epoch 62/100\n",
      "21/21 [==============================] - 6s 286ms/step - loss: 0.2545 - accuracy: 0.8823 - val_loss: 0.2016 - val_accuracy: 0.9000\n",
      "Epoch 63/100\n",
      "21/21 [==============================] - 6s 286ms/step - loss: 0.2369 - accuracy: 0.8726 - val_loss: 0.2568 - val_accuracy: 0.8750\n",
      "Epoch 64/100\n",
      "21/21 [==============================] - 6s 279ms/step - loss: 0.2701 - accuracy: 0.8726 - val_loss: 0.2683 - val_accuracy: 0.8450\n",
      "Epoch 65/100\n",
      "21/21 [==============================] - 6s 285ms/step - loss: 0.2697 - accuracy: 0.8677 - val_loss: 0.2944 - val_accuracy: 0.8400\n",
      "Epoch 66/100\n",
      "21/21 [==============================] - 6s 284ms/step - loss: 0.2919 - accuracy: 0.8762 - val_loss: 0.4531 - val_accuracy: 0.7500\n",
      "Epoch 67/100\n",
      "21/21 [==============================] - 6s 286ms/step - loss: 0.2635 - accuracy: 0.8811 - val_loss: 0.3341 - val_accuracy: 0.8400\n",
      "Epoch 68/100\n",
      "21/21 [==============================] - 6s 297ms/step - loss: 0.2337 - accuracy: 0.8964 - val_loss: 0.3065 - val_accuracy: 0.8350\n",
      "Epoch 69/100\n",
      "21/21 [==============================] - 6s 286ms/step - loss: 0.2441 - accuracy: 0.8859 - val_loss: 0.3442 - val_accuracy: 0.8400\n",
      "Epoch 70/100\n",
      "21/21 [==============================] - 6s 283ms/step - loss: 0.2743 - accuracy: 0.8811 - val_loss: 0.3959 - val_accuracy: 0.8150\n",
      "Epoch 71/100\n",
      "21/21 [==============================] - 6s 281ms/step - loss: 0.2412 - accuracy: 0.8896 - val_loss: 0.2477 - val_accuracy: 0.8650\n",
      "Epoch 72/100\n",
      "21/21 [==============================] - 6s 286ms/step - loss: 0.2263 - accuracy: 0.8981 - val_loss: 0.2657 - val_accuracy: 0.8700\n",
      "Epoch 73/100\n",
      "21/21 [==============================] - 6s 288ms/step - loss: 0.2601 - accuracy: 0.8823 - val_loss: 0.2483 - val_accuracy: 0.8750\n",
      "Epoch 74/100\n",
      "21/21 [==============================] - 6s 286ms/step - loss: 0.2598 - accuracy: 0.8811 - val_loss: 0.2578 - val_accuracy: 0.8500\n",
      "Epoch 75/100\n",
      "21/21 [==============================] - 6s 280ms/step - loss: 0.2506 - accuracy: 0.8774 - val_loss: 0.2577 - val_accuracy: 0.8800\n",
      "Epoch 76/100\n",
      "21/21 [==============================] - 6s 280ms/step - loss: 0.3053 - accuracy: 0.8617 - val_loss: 0.3597 - val_accuracy: 0.7900\n",
      "Epoch 77/100\n",
      "21/21 [==============================] - 6s 282ms/step - loss: 0.2577 - accuracy: 0.8750 - val_loss: 0.2977 - val_accuracy: 0.8750\n",
      "Epoch 78/100\n",
      "21/21 [==============================] - 6s 281ms/step - loss: 0.2618 - accuracy: 0.8641 - val_loss: 0.2431 - val_accuracy: 0.8700\n",
      "Epoch 79/100\n",
      "21/21 [==============================] - 6s 282ms/step - loss: 0.2363 - accuracy: 0.8859 - val_loss: 0.2790 - val_accuracy: 0.8500\n",
      "Epoch 80/100\n",
      "21/21 [==============================] - 6s 274ms/step - loss: 0.2512 - accuracy: 0.8896 - val_loss: 0.2612 - val_accuracy: 0.8700\n",
      "Epoch 81/100\n",
      "21/21 [==============================] - 6s 283ms/step - loss: 0.2695 - accuracy: 0.8799 - val_loss: 0.3598 - val_accuracy: 0.7750\n",
      "Epoch 82/100\n",
      "21/21 [==============================] - 6s 280ms/step - loss: 0.2350 - accuracy: 0.8835 - val_loss: 0.3094 - val_accuracy: 0.8050\n",
      "Epoch 83/100\n",
      "21/21 [==============================] - 6s 281ms/step - loss: 0.2468 - accuracy: 0.8799 - val_loss: 0.3419 - val_accuracy: 0.8350\n",
      "Epoch 84/100\n",
      "21/21 [==============================] - 6s 281ms/step - loss: 0.2508 - accuracy: 0.8920 - val_loss: 0.2536 - val_accuracy: 0.8950\n",
      "Epoch 85/100\n",
      "21/21 [==============================] - 6s 283ms/step - loss: 0.2417 - accuracy: 0.8871 - val_loss: 0.2722 - val_accuracy: 0.8750\n",
      "Epoch 86/100\n",
      "21/21 [==============================] - 6s 300ms/step - loss: 0.2524 - accuracy: 0.8641 - val_loss: 0.3504 - val_accuracy: 0.8250\n",
      "Epoch 87/100\n",
      "21/21 [==============================] - 6s 288ms/step - loss: 0.2212 - accuracy: 0.8835 - val_loss: 0.3282 - val_accuracy: 0.8350\n",
      "Epoch 88/100\n",
      "21/21 [==============================] - 6s 286ms/step - loss: 0.2405 - accuracy: 0.8968 - val_loss: 0.2888 - val_accuracy: 0.8350\n",
      "Epoch 89/100\n",
      "21/21 [==============================] - 6s 279ms/step - loss: 0.2603 - accuracy: 0.8665 - val_loss: 0.2803 - val_accuracy: 0.8800\n",
      "Epoch 90/100\n",
      "21/21 [==============================] - 6s 282ms/step - loss: 0.2642 - accuracy: 0.8677 - val_loss: 0.2967 - val_accuracy: 0.8450\n",
      "Epoch 91/100\n",
      "21/21 [==============================] - 6s 290ms/step - loss: 0.2045 - accuracy: 0.9095 - val_loss: 0.3332 - val_accuracy: 0.8350\n",
      "Epoch 92/100\n",
      "21/21 [==============================] - 6s 287ms/step - loss: 0.2146 - accuracy: 0.8993 - val_loss: 0.3202 - val_accuracy: 0.8550\n",
      "Epoch 93/100\n",
      "21/21 [==============================] - 6s 287ms/step - loss: 0.2589 - accuracy: 0.8823 - val_loss: 0.2687 - val_accuracy: 0.8700\n",
      "Epoch 94/100\n",
      "21/21 [==============================] - 6s 284ms/step - loss: 0.2314 - accuracy: 0.8835 - val_loss: 0.2657 - val_accuracy: 0.8550\n",
      "Epoch 95/100\n",
      "21/21 [==============================] - 6s 281ms/step - loss: 0.2612 - accuracy: 0.8799 - val_loss: 0.3302 - val_accuracy: 0.7950\n",
      "Epoch 96/100\n",
      "21/21 [==============================] - 6s 280ms/step - loss: 0.2544 - accuracy: 0.8847 - val_loss: 0.3103 - val_accuracy: 0.8200\n",
      "Epoch 97/100\n",
      "21/21 [==============================] - 6s 287ms/step - loss: 0.2386 - accuracy: 0.8786 - val_loss: 0.2765 - val_accuracy: 0.8450\n",
      "Epoch 98/100\n",
      "21/21 [==============================] - 6s 287ms/step - loss: 0.2369 - accuracy: 0.8823 - val_loss: 0.2191 - val_accuracy: 0.8800\n",
      "Epoch 99/100\n",
      "21/21 [==============================] - 6s 283ms/step - loss: 0.2303 - accuracy: 0.9005 - val_loss: 0.2976 - val_accuracy: 0.8550\n",
      "Epoch 100/100\n",
      "21/21 [==============================] - 6s 275ms/step - loss: 0.2188 - accuracy: 0.9029 - val_loss: 0.2434 - val_accuracy: 0.8750\n"
     ]
    }
   ],
   "source": [
    "# FIT MODEL\n",
    "from tensorflow.keras.optimizers import SGD\n",
    "print(len(train_batches))\n",
    "print(len(valid_batches))\n",
    "\n",
    "STEP_SIZE_TRAIN=train_batches.n//train_batches.batch_size\n",
    "STEP_SIZE_VALID=valid_batches.n//valid_batches.batch_size\n",
    "\n",
    "# raise NotImplementedError(\"Use the model.fit function to train your network\")\n",
    "# Best Accuracy: 87.5%\n",
    "covid_model.compile(optimizer='adam', loss=tf.keras.losses.BinaryCrossentropy(from_logits=False), metrics=['accuracy'])\n",
    "\n",
    "# sgd also works Accuracy: 79%\n",
    "# covid_model.compile(optimizer='sgd', loss=tf.keras.losses.BinaryCrossentropy(from_logits=False), metrics=['accuracy'])\n",
    "\n",
    "# Trying this\n",
    "# covid_model.compile(optimizer='adam', loss=tf.keras.losses.CategoricalCrossentropy(from_logits=True), metrics=['accuracy'])\n",
    "\n",
    "# print the device library\n",
    "print(device_lib.list_local_devices())\n",
    "\n",
    "history = None\n",
    "\n",
    "with tf.device(\"GPU:0\"):\n",
    "    # history = covid_model.fit(train_batches, epochs=100, validation_data=(valid_batches))\n",
    "    history = covid_model.fit_generator(generator=train_batches, \n",
    "                              steps_per_epoch=STEP_SIZE_TRAIN, \n",
    "                              epochs=100,\n",
    "                              validation_data=(valid_batches),\n",
    "                              validation_steps=STEP_SIZE_VALID)"
   ]
  },
  {
   "cell_type": "markdown",
   "metadata": {
    "nbpresent": {
     "id": "66140980-2aa4-457f-b1df-74c10c234cc2"
    }
   },
   "source": [
    "#### [5 points] Plot Accuracy and Loss During Training"
   ]
  },
  {
   "cell_type": "code",
   "execution_count": 6,
   "metadata": {
    "nbpresent": {
     "id": "ff342098-784a-4e20-ac34-b74ca8ebe839"
    }
   },
   "outputs": [
    {
     "data": {
      "text/plain": [
       "<matplotlib.legend.Legend at 0x1a06b5d10b8>"
      ]
     },
     "execution_count": 6,
     "metadata": {},
     "output_type": "execute_result"
    },
    {
     "data": {
      "image/png": "[encoded data removed]",
      "text/plain": [
       "<Figure size 432x288 with 1 Axes>"
      ]
     },
     "metadata": {
      "needs_background": "light"
     },
     "output_type": "display_data"
    },
    {
     "data": {
      "image/png": "[encoded data removed]",
      "text/plain": [
       "<Figure size 432x288 with 1 Axes>"
      ]
     },
     "metadata": {
      "needs_background": "light"
     },
     "output_type": "display_data"
    }
   ],
   "source": [
    "import matplotlib.pyplot as plt\n",
    "\n",
    "# raise NotImplementedError(\"Plot the accuracy and the loss during training\")\n",
    "\n",
    "# Accuracy over 40 Epochs\n",
    "plt.figure()\n",
    "plt.plot(history.history['accuracy'], label='train accuracy') \n",
    "plt.plot(history.history['val_accuracy'], label = 'validation accuracy') \n",
    "plt.title('Accuracy over 40 epochs')\n",
    "plt.xlabel('Epoch') \n",
    "plt.ylabel('Accuracy') \n",
    "plt.ylim([0.5, 1.0]) \n",
    "plt.legend(loc='lower right')\n",
    "\n",
    "# Loss over 40 Epochs\n",
    "plt.figure()\n",
    "plt.plot(history.history['loss'], label='train loss') \n",
    "plt.plot(history.history['val_loss'], label = 'validation loss') \n",
    "plt.title('Loss over 40 epochs')\n",
    "plt.xlabel('Epoch') \n",
    "plt.ylabel('Loss') \n",
    "plt.ylim([0, 1.2]) \n",
    "plt.legend(loc='upper right')"
   ]
  },
  {
   "cell_type": "markdown",
   "metadata": {
    "nbpresent": {
     "id": "66140980-2aa4-457f-b1df-74c10c234cc2"
    }
   },
   "source": [
    "#### Testing Model"
   ]
  },
  {
   "cell_type": "code",
   "execution_count": 7,
   "metadata": {},
   "outputs": [
    {
     "name": "stdout",
     "output_type": "stream",
     "text": [
      "Found 36 images belonging to 4 classes.\n",
      "36\n",
      "WARNING:tensorflow:From <ipython-input-7-dedefa902e64>:8: Model.evaluate_generator (from tensorflow.python.keras.engine.training) is deprecated and will be removed in a future version.\n",
      "Instructions for updating:\n",
      "Please use Model.evaluate, which supports generators.\n",
      "WARNING:tensorflow:sample_weight modes were coerced from\n",
      "  ...\n",
      "    to  \n",
      "  ['...']\n",
      "36/36 [==============================] - 1s 33ms/step - loss: 0.4177 - accuracy: 0.8333\n",
      "Test loss: 0.41770130014475665\n",
      "Test accuracy: 0.8333333\n"
     ]
    }
   ],
   "source": [
    "test_datagen = ImageDataGenerator(rescale=1. / 255)\n",
    "\n",
    "eval_generator = test_datagen.flow_from_directory(TEST_DIR,target_size=IMAGE_SIZE,\n",
    "                                                  batch_size=1,shuffle=True,seed=42,class_mode=\"categorical\")\n",
    "eval_generator.reset()\n",
    "print(len(eval_generator))\n",
    "x = covid_model.evaluate_generator(eval_generator,steps = np.ceil(len(eval_generator)),\n",
    "                           use_multiprocessing = False,verbose = 1,workers=1)\n",
    "print('Test loss:' , x[0])\n",
    "print('Test accuracy:',x[1])"
   ]
  },
  {
   "cell_type": "markdown",
   "metadata": {
    "nbpresent": {
     "id": "66140980-2aa4-457f-b1df-74c10c234cc2"
    }
   },
   "source": [
    "## [10 points] TSNE Plot\n",
    "t-Distributed Stochastic Neighbor Embedding (t-SNE) is a widely used technique for dimensionality reduction that is particularly well suited for the visualization of high-dimensional datasets. After training is complete, extract features from a specific deep layer of your choice, use t-SNE to reduce the dimensionality of your extracted features to 2 dimensions and plot the resulting 2D features."
   ]
  },
  {
   "cell_type": "code",
   "execution_count": 8,
   "metadata": {},
   "outputs": [
    {
     "name": "stdout",
     "output_type": "stream",
     "text": [
      "Found 270 images belonging to 4 classes.\n",
      "WARNING:tensorflow:From <ipython-input-8-5428e481a171>:12: Model.predict_generator (from tensorflow.python.keras.engine.training) is deprecated and will be removed in a future version.\n",
      "Instructions for updating:\n",
      "Please use Model.predict, which supports generators.\n",
      "270/270 [==============================] - 5s 19ms/step\n",
      "(270, 1024)\n",
      "(270, 2)\n",
      "\n",
      "lengend:\n",
      "Blue: COVID, Yellow: Normal, Green: Pneumonia_bac, Red: Pneumonia_vir\n"
     ]
    },
    {
     "data": {
      "image/png": "[encoded data removed]",
      "text/plain": [
       "<Figure size 432x288 with 1 Axes>"
      ]
     },
     "metadata": {
      "needs_background": "light"
     },
     "output_type": "display_data"
    }
   ],
   "source": [
    "from sklearn.manifold import TSNE\n",
    "\n",
    "intermediate_layer_model = tf.keras.models.Model(inputs=covid_model.input,\n",
    "                                        outputs=covid_model.get_layer('dense').output)\n",
    "\n",
    "tsne_eval_generator = test_datagen.flow_from_directory(DATASET_PATH,target_size=IMAGE_SIZE,\n",
    "                                                  batch_size=1,shuffle=False,seed=42,class_mode=\"categorical\")\n",
    "\n",
    "# raise NotImplementedError(\"Extract features from the tsne_data_generator and fit a t-SNE model for the features,\"\n",
    "#                           \"and plot the resulting 2D features of the four classes.\")\n",
    "\n",
    "outputs = intermediate_layer_model.predict_generator(tsne_eval_generator,270,verbose=1)\n",
    "print(outputs.shape)\n",
    "label = tsne_eval_generator.classes\n",
    "features = TSNE(n_components=2).fit_transform(outputs)\n",
    "print(features.shape)\n",
    "\n",
    "plt.figure()\n",
    "for index in range(len(features)):\n",
    "    if label[index] == 0:\n",
    "        # COVID\n",
    "        plt.plot(features[index, 0], features[index, 1], 'bo')\n",
    "    elif label[index] == 1:\n",
    "        # normal\n",
    "        plt.plot(features[index, 0], features[index, 1], 'yo')\n",
    "    elif label[index] == 2:\n",
    "        # Pneumonia_bac\n",
    "        plt.plot(features[index, 0], features[index, 1], 'go')\n",
    "    else:\n",
    "        # Pneumonia_vir\n",
    "        plt.plot(features[index, 0], features[index, 1], 'ro')\n",
    "plt.title('2D features')\n",
    "print()\n",
    "print('lengend:')\n",
    "print('Blue: COVID, Yellow: Normal, Green: Pneumonia_bac, Red: Pneumonia_vir')"
   ]
  },
  {
   "cell_type": "code",
   "execution_count": 9,
   "metadata": {},
   "outputs": [
    {
     "name": "stdout",
     "output_type": "stream",
     "text": [
      "Model: \"vgg16\"\n",
      "_________________________________________________________________\n",
      "Layer (type)                 Output Shape              Param #   \n",
      "=================================================================\n",
      "input_2 (InputLayer)         [(None, 224, 224, 3)]     0         \n",
      "_________________________________________________________________\n",
      "block1_conv1 (Conv2D)        (None, 224, 224, 64)      1792      \n",
      "_________________________________________________________________\n",
      "block1_conv2 (Conv2D)        (None, 224, 224, 64)      36928     \n",
      "_________________________________________________________________\n",
      "block1_pool (MaxPooling2D)   (None, 112, 112, 64)      0         \n",
      "_________________________________________________________________\n",
      "block2_conv1 (Conv2D)        (None, 112, 112, 128)     73856     \n",
      "_________________________________________________________________\n",
      "block2_conv2 (Conv2D)        (None, 112, 112, 128)     147584    \n",
      "_________________________________________________________________\n",
      "block2_pool (MaxPooling2D)   (None, 56, 56, 128)       0         \n",
      "_________________________________________________________________\n",
      "block3_conv1 (Conv2D)        (None, 56, 56, 256)       295168    \n",
      "_________________________________________________________________\n",
      "block3_conv2 (Conv2D)        (None, 56, 56, 256)       590080    \n",
      "_________________________________________________________________\n",
      "block3_conv3 (Conv2D)        (None, 56, 56, 256)       590080    \n",
      "_________________________________________________________________\n",
      "block3_pool (MaxPooling2D)   (None, 28, 28, 256)       0         \n",
      "_________________________________________________________________\n",
      "block4_conv1 (Conv2D)        (None, 28, 28, 512)       1180160   \n",
      "_________________________________________________________________\n",
      "block4_conv2 (Conv2D)        (None, 28, 28, 512)       2359808   \n",
      "_________________________________________________________________\n",
      "block4_conv3 (Conv2D)        (None, 28, 28, 512)       2359808   \n",
      "_________________________________________________________________\n",
      "block4_pool (MaxPooling2D)   (None, 14, 14, 512)       0         \n",
      "_________________________________________________________________\n",
      "block5_conv1 (Conv2D)        (None, 14, 14, 512)       2359808   \n",
      "_________________________________________________________________\n",
      "block5_conv2 (Conv2D)        (None, 14, 14, 512)       2359808   \n",
      "_________________________________________________________________\n",
      "block5_conv3 (Conv2D)        (None, 14, 14, 512)       2359808   \n",
      "_________________________________________________________________\n",
      "block5_pool (MaxPooling2D)   (None, 7, 7, 512)         0         \n",
      "=================================================================\n",
      "Total params: 14,714,688\n",
      "Trainable params: 14,714,688\n",
      "Non-trainable params: 0\n",
      "_________________________________________________________________\n",
      "None\n"
     ]
    }
   ],
   "source": [
    "from tensorflow.keras.applications import VGG16\n",
    "vgg_16 = VGG16(include_top=False, weights='imagenet', input_shape=(224, 224, 3), pooling='None', classes=4)\n",
    "print(vgg_16.summary())"
   ]
  }
 ],
 "metadata": {
  "kernelspec": {
   "display_name": "Python 3",
   "language": "python",
   "name": "python3"
  },
  "language_info": {
   "codemirror_mode": {
    "name": "ipython",
    "version": 3
   },
   "file_extension": ".py",
   "mimetype": "text/x-python",
   "name": "python",
   "nbconvert_exporter": "python",
   "pygments_lexer": "ipython3",
   "version": "3.6.9"
  },
  "latex_envs": {
   "LaTeX_envs_menu_present": true,
   "autoclose": false,
   "autocomplete": true,
   "bibliofile": "biblio.bib",
   "cite_by": "apalike",
   "current_citInitial": 1,
   "eqLabelWithNumbers": true,
   "eqNumInitial": 1,
   "hotkeys": {
    "equation": "Ctrl-E",
    "itemize": "Ctrl-I"
   },
   "labels_anchors": false,
   "latex_user_defs": false,
   "report_style_numbering": false,
   "user_envs_cfg": false
  },
  "toc": {
   "base_numbering": 1,
   "nav_menu": {},
   "number_sections": true,
   "sideBar": true,
   "skip_h1_title": false,
   "title_cell": "Table of Contents",
   "title_sidebar": "Contents",
   "toc_cell": false,
   "toc_position": {},
   "toc_section_display": true,
   "toc_window_display": false
  },
  "varInspector": {
   "cols": {
    "lenName": 16,
    "lenType": 16,
    "lenVar": 40
   },
   "kernels_config": {
    "python": {
     "delete_cmd_postfix": "",
     "delete_cmd_prefix": "del ",
     "library": "var_list.py",
     "varRefreshCmd": "print(var_dic_list())"
    },
    "r": {
     "delete_cmd_postfix": ") ",
     "delete_cmd_prefix": "rm(",
     "library": "var_list.r",
     "varRefreshCmd": "cat(var_dic_list()) "
    }
   },
   "types_to_exclude": [
    "module",
    "function",
    "builtin_function_or_method",
    "instance",
    "_Feature"
   ],
   "window_display": false
  }
 },
 "nbformat": 4,
 "nbformat_minor": 4
}
