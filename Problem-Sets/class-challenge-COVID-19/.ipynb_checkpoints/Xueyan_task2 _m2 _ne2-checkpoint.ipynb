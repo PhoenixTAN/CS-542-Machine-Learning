{
 "cells": [
  {
   "cell_type": "markdown",
   "metadata": {
    "nbpresent": {
     "id": "1d234e3f-af8b-4757-83f3-241b04b7a511"
    }
   },
   "source": [
    "# Class Challenge: Image Classification of COVID-19 X-rays\n",
    "# Task 2 [Total points: 30]"
   ]
  },
  {
   "cell_type": "markdown",
   "metadata": {
    "nbpresent": {
     "id": "b07b9992-b592-4871-9f9a-3b0ae5fa8b5f"
    }
   },
   "source": [
    "## Setup\n",
    "\n",
    "* This assignment involves the following packages: 'matplotlib', 'numpy', and 'sklearn'. \n",
    "\n",
    "* If you are using conda, use the following commands to install the above packages:<br>\n",
    "```shell\n",
    "conda install matplotlib\n",
    "conda install numpy\n",
    "conda install -c anaconda scikit-learn\n",
    "```\n",
    "\n",
    "* If you are using pip, use use the following commands to install the above packages: <br> \n",
    "```shell\n",
    "pip install matplotlib\n",
    "pip install numpy\n",
    "pip install sklearn\n",
    "```"
   ]
  },
  {
   "cell_type": "markdown",
   "metadata": {
    "nbpresent": {
     "id": "5516f610-f00c-43c3-bf19-4cf7ab9c089f"
    }
   },
   "source": [
    "## Data\n",
    "\n",
    "Please download the data using the following link: [COVID-19](https://drive.google.com/file/d/1Y88tgqpQ1Pjko_7rntcPowOJs_QNOrJ-/view). \n",
    "\n",
    "* After downloading 'Covid_Data_GradientCrescent.zip', unzip the file and you should see the following data structure:\n",
    "\n",
    "\n",
    "|--all<br>\n",
    "|--------train<br>\n",
    "|--------test<br>\n",
    "|--two<br>\n",
    "|--------train<br>\n",
    "|--------test<br>\n",
    "\n",
    "\n",
    "* Put the 'all' folder, the 'two' folder and this python notebook in the **same directory** so that the following code can correctly locate the data.  \n",
    "\n"
   ]
  },
  {
   "cell_type": "markdown",
   "metadata": {
    "nbpresent": {
     "id": "66140980-2aa4-457f-b1df-74c10c234cc2"
    }
   },
   "source": [
    "## [20 points] Multi-class Classification"
   ]
  },
  {
   "cell_type": "code",
   "execution_count": 1,
   "metadata": {
    "nbpresent": {
     "id": "5e05f980-3d14-4367-b3d1-664249145b13"
    },
    "scrolled": true
   },
   "outputs": [
    {
     "name": "stdout",
     "output_type": "stream",
     "text": [
      "[name: \"/device:CPU:0\"\n",
      "device_type: \"CPU\"\n",
      "memory_limit: 268435456\n",
      "locality {\n",
      "}\n",
      "incarnation: 4045905349268143427\n",
      ", name: \"/device:GPU:0\"\n",
      "device_type: \"GPU\"\n",
      "memory_limit: 4930941747\n",
      "locality {\n",
      "  bus_id: 1\n",
      "  links {\n",
      "  }\n",
      "}\n",
      "incarnation: 9982063321819337177\n",
      "physical_device_desc: \"device: 0, name: GeForce GTX 1060, pci bus id: 0000:01:00.0, compute capability: 6.1\"\n",
      "]\n"
     ]
    },
    {
     "data": {
      "text/plain": [
       "'2.1.0'"
      ]
     },
     "execution_count": 1,
     "metadata": {},
     "output_type": "execute_result"
    }
   ],
   "source": [
    "import os\n",
    "import tensorflow as tf\n",
    "import numpy as np\n",
    "import matplotlib.pyplot as plt\n",
    "from tensorflow.keras.preprocessing.image import ImageDataGenerator\n",
    "\n",
    "from tensorflow.python.client import device_lib\n",
    "\n",
    "print(device_lib.list_local_devices())\n",
    "\n",
    "os.environ['OMP_NUM_THREADS'] = '1'\n",
    "os.environ['CUDA_VISIBLE_DEVICES'] = '-1'\n",
    "tf.__version__"
   ]
  },
  {
   "cell_type": "markdown",
   "metadata": {
    "nbpresent": {
     "id": "66140980-2aa4-457f-b1df-74c10c234cc2"
    }
   },
   "source": [
    "#### Load Image Data"
   ]
  },
  {
   "cell_type": "code",
   "execution_count": 2,
   "metadata": {
    "nbpresent": {
     "id": "58317664-8da3-4283-b3e5-35721687e7ab"
    }
   },
   "outputs": [],
   "source": [
    "DATA_LIST = os.listdir('all/train')\n",
    "DATASET_PATH  = 'all/train'\n",
    "TEST_DIR =  'all/test'\n",
    "IMAGE_SIZE    = (224, 224)\n",
    "NUM_CLASSES   = len(DATA_LIST)\n",
    "BATCH_SIZE    = 10  # try reducing batch size or freeze more layers if your GPU runs out of memory\n",
    "NUM_EPOCHS    = 100\n",
    "LEARNING_RATE = 0.000005 # start off with high rate first 0.001 and experiment with reducing it gradually "
   ]
  },
  {
   "cell_type": "markdown",
   "metadata": {
    "nbpresent": {
     "id": "66140980-2aa4-457f-b1df-74c10c234cc2"
    }
   },
   "source": [
    "#### Generate Training and Validation Batches"
   ]
  },
  {
   "cell_type": "code",
   "execution_count": 3,
   "metadata": {
    "nbpresent": {
     "id": "71760e29-2b08-4259-93f1-ebe68cd74a6d"
    }
   },
   "outputs": [
    {
     "name": "stdout",
     "output_type": "stream",
     "text": [
      "Found 216 images belonging to 4 classes.\n",
      "Found 54 images belonging to 4 classes.\n"
     ]
    },
    {
     "name": "stderr",
     "output_type": "stream",
     "text": [
      "C:\\Users\\tanzi\\Anaconda3\\lib\\site-packages\\keras_preprocessing\\image\\image_data_generator.py:341: UserWarning: This ImageDataGenerator specifies `zca_whitening` which overrides setting of`featurewise_std_normalization`.\n",
      "  warnings.warn('This ImageDataGenerator specifies '\n"
     ]
    }
   ],
   "source": [
    "train_datagen = ImageDataGenerator(rescale=1./255,rotation_range=50,featurewise_center = True,\n",
    "                                   featurewise_std_normalization = True,width_shift_range=0.2,\n",
    "                                   height_shift_range=0.2,shear_range=0.25,zoom_range=0.1,\n",
    "                                   zca_whitening = True,channel_shift_range = 20,\n",
    "                                   horizontal_flip = True,vertical_flip = True,\n",
    "                                   validation_split = 0.2,fill_mode='constant')\n",
    "\n",
    "\n",
    "train_batches = train_datagen.flow_from_directory(DATASET_PATH,target_size=IMAGE_SIZE,\n",
    "                                                  shuffle=True,batch_size=BATCH_SIZE,\n",
    "                                                  subset = \"training\",seed=42,\n",
    "                                                  class_mode=\"categorical\")\n",
    "\n",
    "valid_batches = train_datagen.flow_from_directory(DATASET_PATH,target_size=IMAGE_SIZE,\n",
    "                                                  shuffle=True,batch_size=BATCH_SIZE,\n",
    "                                                  subset = \"validation\",\n",
    "                                                  seed=42,class_mode=\"categorical\")"
   ]
  },
  {
   "cell_type": "markdown",
   "metadata": {
    "nbpresent": {
     "id": "66140980-2aa4-457f-b1df-74c10c234cc2"
    }
   },
   "source": [
    "#### [10 points] Build Model\n",
    "Hint: Starting from a pre-trained model typically helps performance on a new task, e.g. starting with weights obtained by training on ImageNet. "
   ]
  },
  {
   "cell_type": "code",
   "execution_count": 4,
   "metadata": {
    "nbpresent": {
     "id": "5c52eeb2-1092-4d45-9e16-02219c82cb5e"
    },
    "scrolled": false
   },
   "outputs": [
    {
     "name": "stdout",
     "output_type": "stream",
     "text": [
      "Model: \"sequential\"\n",
      "_________________________________________________________________\n",
      "Layer (type)                 Output Shape              Param #   \n",
      "=================================================================\n",
      "NASNet (Model)               (None, 7, 7, 1056)        4269716   \n",
      "_________________________________________________________________\n",
      "global_average_pooling2d (Gl (None, 1056)              0         \n",
      "_________________________________________________________________\n",
      "flatten (Flatten)            (None, 1056)              0         \n",
      "_________________________________________________________________\n",
      "dropout (Dropout)            (None, 1056)              0         \n",
      "_________________________________________________________________\n",
      "dense (Dense)                (None, 512)               541184    \n",
      "_________________________________________________________________\n",
      "dense_1 (Dense)              (None, 4)                 2052      \n",
      "=================================================================\n",
      "Total params: 4,812,952\n",
      "Trainable params: 543,236\n",
      "Non-trainable params: 4,269,716\n",
      "_________________________________________________________________\n",
      "None\n"
     ]
    }
   ],
   "source": [
    "from tensorflow.keras.applications.nasnet import NASNetMobile\n",
    "from tensorflow.keras.models import load_model\n",
    "\n",
    "nasnet = NASNetMobile(\n",
    "    include_top=False,\n",
    "    weights='imagenet',\n",
    "    input_shape=(224, 224, 3),\n",
    "    pooling='None',\n",
    "    classes=NUM_CLASSES\n",
    ")\n",
    "nasnet.trainable = False\n",
    "# print(nasnet.summary())\n",
    "model = tf.keras.models.Sequential()\n",
    "model.add(nasnet)\n",
    "model.add(tf.keras.layers.GlobalAveragePooling2D())\n",
    "model.add(tf.keras.layers.Flatten())\n",
    "model.add(tf.keras.layers.Dropout(0.4))\n",
    "model.add(tf.keras.layers.Dense(512, activation='relu'))\n",
    "model.add(tf.keras.layers.Dense(4, activation='softmax'))\n",
    "print(model.summary())"
   ]
  },
  {
   "cell_type": "markdown",
   "metadata": {
    "nbpresent": {
     "id": "66140980-2aa4-457f-b1df-74c10c234cc2"
    }
   },
   "source": [
    "#### [5 points] Train Model"
   ]
  },
  {
   "cell_type": "code",
   "execution_count": 5,
   "metadata": {
    "nbpresent": {
     "id": "cdb90d24-6a23-4969-8138-f37e7050062d"
    }
   },
   "outputs": [
    {
     "name": "stdout",
     "output_type": "stream",
     "text": [
      "22\n",
      "6\n",
      "[name: \"/device:CPU:0\"\n",
      "device_type: \"CPU\"\n",
      "memory_limit: 268435456\n",
      "locality {\n",
      "}\n",
      "incarnation: 9198995998260929685\n",
      ", name: \"/device:GPU:0\"\n",
      "device_type: \"GPU\"\n",
      "memory_limit: 4930941747\n",
      "locality {\n",
      "  bus_id: 1\n",
      "  links {\n",
      "  }\n",
      "}\n",
      "incarnation: 15854523506005047120\n",
      "physical_device_desc: \"device: 0, name: GeForce GTX 1060, pci bus id: 0000:01:00.0, compute capability: 6.1\"\n",
      "]\n",
      "WARNING:tensorflow:From <ipython-input-5-3a68663443ed>:23: Model.fit_generator (from tensorflow.python.keras.engine.training) is deprecated and will be removed in a future version.\n",
      "Instructions for updating:\n",
      "Please use Model.fit, which supports generators.\n",
      "WARNING:tensorflow:sample_weight modes were coerced from\n",
      "  ...\n",
      "    to  \n",
      "  ['...']\n"
     ]
    },
    {
     "name": "stderr",
     "output_type": "stream",
     "text": [
      "C:\\Users\\tanzi\\Anaconda3\\lib\\site-packages\\keras_preprocessing\\image\\image_data_generator.py:716: UserWarning: This ImageDataGenerator specifies `featurewise_center`, but it hasn't been fit on any training data. Fit it first by calling `.fit(numpy_data)`.\n",
      "  warnings.warn('This ImageDataGenerator specifies '\n",
      "C:\\Users\\tanzi\\Anaconda3\\lib\\site-packages\\keras_preprocessing\\image\\image_data_generator.py:735: UserWarning: This ImageDataGenerator specifies `zca_whitening`, but it hasn't been fit on any training data. Fit it first by calling `.fit(numpy_data)`.\n",
      "  warnings.warn('This ImageDataGenerator specifies '\n"
     ]
    },
    {
     "name": "stdout",
     "output_type": "stream",
     "text": [
      "WARNING:tensorflow:sample_weight modes were coerced from\n",
      "  ...\n",
      "    to  \n",
      "  ['...']\n",
      "Train for 21 steps, validate for 5 steps\n",
      "Epoch 1/100\n"
     ]
    },
    {
     "name": "stderr",
     "output_type": "stream",
     "text": [
      "C:\\Users\\tanzi\\Anaconda3\\lib\\site-packages\\keras_preprocessing\\image\\image_data_generator.py:716: UserWarning: This ImageDataGenerator specifies `featurewise_center`, but it hasn't been fit on any training data. Fit it first by calling `.fit(numpy_data)`.\n",
      "  warnings.warn('This ImageDataGenerator specifies '\n",
      "C:\\Users\\tanzi\\Anaconda3\\lib\\site-packages\\keras_preprocessing\\image\\image_data_generator.py:735: UserWarning: This ImageDataGenerator specifies `zca_whitening`, but it hasn't been fit on any training data. Fit it first by calling `.fit(numpy_data)`.\n",
      "  warnings.warn('This ImageDataGenerator specifies '\n"
     ]
    },
    {
     "name": "stdout",
     "output_type": "stream",
     "text": [
      "21/21 [==============================] - 21s 987ms/step - loss: 1.5376 - accuracy: 0.2476 - val_loss: 1.5072 - val_accuracy: 0.1600\n",
      "Epoch 2/100\n",
      "21/21 [==============================] - 6s 289ms/step - loss: 1.5111 - accuracy: 0.2330 - val_loss: 1.4739 - val_accuracy: 0.2200\n",
      "Epoch 3/100\n",
      "21/21 [==============================] - 6s 287ms/step - loss: 1.5016 - accuracy: 0.2330 - val_loss: 1.4744 - val_accuracy: 0.2400\n",
      "Epoch 4/100\n",
      "21/21 [==============================] - 6s 278ms/step - loss: 1.5058 - accuracy: 0.2136 - val_loss: 1.4317 - val_accuracy: 0.2000\n",
      "Epoch 5/100\n",
      "21/21 [==============================] - 6s 287ms/step - loss: 1.4847 - accuracy: 0.2427 - val_loss: 1.4510 - val_accuracy: 0.2800\n",
      "Epoch 6/100\n",
      "21/21 [==============================] - 6s 284ms/step - loss: 1.4638 - accuracy: 0.2476 - val_loss: 1.4011 - val_accuracy: 0.3200\n",
      "Epoch 7/100\n",
      "21/21 [==============================] - 6s 287ms/step - loss: 1.3982 - accuracy: 0.3592 - val_loss: 1.4516 - val_accuracy: 0.2400\n",
      "Epoch 8/100\n",
      "21/21 [==============================] - 6s 285ms/step - loss: 1.4469 - accuracy: 0.2718 - val_loss: 1.4730 - val_accuracy: 0.2600\n",
      "Epoch 9/100\n",
      "21/21 [==============================] - 6s 280ms/step - loss: 1.4681 - accuracy: 0.2136 - val_loss: 1.4400 - val_accuracy: 0.2400\n",
      "Epoch 10/100\n",
      "21/21 [==============================] - 6s 285ms/step - loss: 1.3884 - accuracy: 0.3301 - val_loss: 1.4204 - val_accuracy: 0.2800\n",
      "Epoch 11/100\n",
      "21/21 [==============================] - 6s 288ms/step - loss: 1.4766 - accuracy: 0.1893 - val_loss: 1.4609 - val_accuracy: 0.2400\n",
      "Epoch 12/100\n",
      "21/21 [==============================] - 6s 286ms/step - loss: 1.4329 - accuracy: 0.2816 - val_loss: 1.4378 - val_accuracy: 0.2200\n",
      "Epoch 13/100\n",
      "21/21 [==============================] - 6s 279ms/step - loss: 1.3897 - accuracy: 0.3204 - val_loss: 1.4081 - val_accuracy: 0.2400\n",
      "Epoch 14/100\n",
      "21/21 [==============================] - 6s 289ms/step - loss: 1.4324 - accuracy: 0.2913 - val_loss: 1.4236 - val_accuracy: 0.2400\n",
      "Epoch 15/100\n",
      "21/21 [==============================] - 6s 286ms/step - loss: 1.4491 - accuracy: 0.2718 - val_loss: 1.4463 - val_accuracy: 0.2600\n",
      "Epoch 16/100\n",
      "21/21 [==============================] - 6s 291ms/step - loss: 1.3702 - accuracy: 0.3381 - val_loss: 1.4221 - val_accuracy: 0.3200\n",
      "Epoch 17/100\n",
      "21/21 [==============================] - 6s 287ms/step - loss: 1.3342 - accuracy: 0.3447 - val_loss: 1.4543 - val_accuracy: 0.2600\n",
      "Epoch 18/100\n",
      "21/21 [==============================] - 6s 289ms/step - loss: 1.3532 - accuracy: 0.3641 - val_loss: 1.4005 - val_accuracy: 0.2600\n",
      "Epoch 19/100\n",
      "21/21 [==============================] - 6s 290ms/step - loss: 1.3384 - accuracy: 0.3738 - val_loss: 1.4851 - val_accuracy: 0.2200\n",
      "Epoch 20/100\n",
      "21/21 [==============================] - 6s 291ms/step - loss: 1.3844 - accuracy: 0.3544 - val_loss: 1.3808 - val_accuracy: 0.3200\n",
      "Epoch 21/100\n",
      "21/21 [==============================] - 6s 306ms/step - loss: 1.4037 - accuracy: 0.3301 - val_loss: 1.3955 - val_accuracy: 0.2600\n",
      "Epoch 22/100\n",
      "21/21 [==============================] - 6s 287ms/step - loss: 1.3959 - accuracy: 0.2913 - val_loss: 1.3983 - val_accuracy: 0.2600\n",
      "Epoch 23/100\n",
      "21/21 [==============================] - 6s 288ms/step - loss: 1.4175 - accuracy: 0.3301 - val_loss: 1.4412 - val_accuracy: 0.2800\n",
      "Epoch 24/100\n",
      "21/21 [==============================] - 6s 288ms/step - loss: 1.3710 - accuracy: 0.3641 - val_loss: 1.4116 - val_accuracy: 0.2200\n",
      "Epoch 25/100\n",
      "21/21 [==============================] - 6s 288ms/step - loss: 1.3553 - accuracy: 0.3350 - val_loss: 1.4104 - val_accuracy: 0.3000\n",
      "Epoch 26/100\n",
      "21/21 [==============================] - 6s 286ms/step - loss: 1.3539 - accuracy: 0.3107 - val_loss: 1.4236 - val_accuracy: 0.2400\n",
      "Epoch 27/100\n",
      "21/21 [==============================] - 6s 290ms/step - loss: 1.3424 - accuracy: 0.3592 - val_loss: 1.3896 - val_accuracy: 0.2400\n",
      "Epoch 28/100\n",
      "21/21 [==============================] - 6s 288ms/step - loss: 1.3480 - accuracy: 0.3544 - val_loss: 1.4736 - val_accuracy: 0.2600\n",
      "Epoch 29/100\n",
      "21/21 [==============================] - 6s 290ms/step - loss: 1.3093 - accuracy: 0.3689 - val_loss: 1.4375 - val_accuracy: 0.2800\n",
      "Epoch 30/100\n",
      "21/21 [==============================] - 6s 289ms/step - loss: 1.2854 - accuracy: 0.3981 - val_loss: 1.3757 - val_accuracy: 0.3400\n",
      "Epoch 31/100\n",
      "21/21 [==============================] - 6s 282ms/step - loss: 1.3142 - accuracy: 0.3981 - val_loss: 1.3715 - val_accuracy: 0.2400\n",
      "Epoch 32/100\n",
      "21/21 [==============================] - 6s 288ms/step - loss: 1.3309 - accuracy: 0.3398 - val_loss: 1.3937 - val_accuracy: 0.2600\n",
      "Epoch 33/100\n",
      "21/21 [==============================] - 6s 287ms/step - loss: 1.2894 - accuracy: 0.3883 - val_loss: 1.3938 - val_accuracy: 0.3400\n",
      "Epoch 34/100\n",
      "21/21 [==============================] - 6s 282ms/step - loss: 1.3143 - accuracy: 0.3447 - val_loss: 1.3978 - val_accuracy: 0.3200\n",
      "Epoch 35/100\n",
      "21/21 [==============================] - 6s 286ms/step - loss: 1.2517 - accuracy: 0.4320 - val_loss: 1.4491 - val_accuracy: 0.2600\n",
      "Epoch 36/100\n",
      "21/21 [==============================] - 6s 289ms/step - loss: 1.2987 - accuracy: 0.3738 - val_loss: 1.3805 - val_accuracy: 0.3200\n",
      "Epoch 37/100\n",
      "21/21 [==============================] - 6s 282ms/step - loss: 1.3691 - accuracy: 0.3204 - val_loss: 1.4465 - val_accuracy: 0.2600\n",
      "Epoch 38/100\n",
      "21/21 [==============================] - 6s 290ms/step - loss: 1.3393 - accuracy: 0.3252 - val_loss: 1.3034 - val_accuracy: 0.4000\n",
      "Epoch 39/100\n",
      "21/21 [==============================] - 6s 285ms/step - loss: 1.2706 - accuracy: 0.4078 - val_loss: 1.3787 - val_accuracy: 0.3200\n",
      "Epoch 40/100\n",
      "21/21 [==============================] - 6s 288ms/step - loss: 1.2993 - accuracy: 0.3689 - val_loss: 1.3518 - val_accuracy: 0.3200\n",
      "Epoch 41/100\n",
      "21/21 [==============================] - 6s 286ms/step - loss: 1.2829 - accuracy: 0.4223 - val_loss: 1.3855 - val_accuracy: 0.2400\n",
      "Epoch 42/100\n",
      "21/21 [==============================] - 6s 290ms/step - loss: 1.3080 - accuracy: 0.3883 - val_loss: 1.4068 - val_accuracy: 0.2800\n",
      "Epoch 43/100\n",
      "21/21 [==============================] - 6s 286ms/step - loss: 1.2943 - accuracy: 0.4078 - val_loss: 1.3893 - val_accuracy: 0.3200\n",
      "Epoch 44/100\n",
      "21/21 [==============================] - 6s 287ms/step - loss: 1.2412 - accuracy: 0.4417 - val_loss: 1.3857 - val_accuracy: 0.2200\n",
      "Epoch 45/100\n",
      "21/21 [==============================] - 6s 288ms/step - loss: 1.2615 - accuracy: 0.4660 - val_loss: 1.4045 - val_accuracy: 0.2200\n",
      "Epoch 46/100\n",
      "21/21 [==============================] - 6s 288ms/step - loss: 1.2403 - accuracy: 0.4223 - val_loss: 1.3909 - val_accuracy: 0.2800\n",
      "Epoch 47/100\n",
      "21/21 [==============================] - 6s 288ms/step - loss: 1.2481 - accuracy: 0.3932 - val_loss: 1.3380 - val_accuracy: 0.3200\n",
      "Epoch 48/100\n",
      "21/21 [==============================] - 6s 286ms/step - loss: 1.1712 - accuracy: 0.5049 - val_loss: 1.4353 - val_accuracy: 0.2600\n",
      "Epoch 49/100\n",
      "21/21 [==============================] - 6s 288ms/step - loss: 1.2233 - accuracy: 0.4466 - val_loss: 1.4084 - val_accuracy: 0.2800\n",
      "Epoch 50/100\n",
      "21/21 [==============================] - 6s 289ms/step - loss: 1.2744 - accuracy: 0.3932 - val_loss: 1.3891 - val_accuracy: 0.2800\n",
      "Epoch 51/100\n",
      "21/21 [==============================] - 6s 283ms/step - loss: 1.2249 - accuracy: 0.4369 - val_loss: 1.3175 - val_accuracy: 0.3800\n",
      "Epoch 52/100\n",
      "21/21 [==============================] - 6s 291ms/step - loss: 1.2806 - accuracy: 0.3738 - val_loss: 1.3918 - val_accuracy: 0.2600\n",
      "Epoch 53/100\n",
      "21/21 [==============================] - 6s 284ms/step - loss: 1.2244 - accuracy: 0.4515 - val_loss: 1.3796 - val_accuracy: 0.3200\n",
      "Epoch 54/100\n",
      "21/21 [==============================] - 6s 285ms/step - loss: 1.2003 - accuracy: 0.4660 - val_loss: 1.3739 - val_accuracy: 0.2800\n",
      "Epoch 55/100\n",
      "21/21 [==============================] - 6s 289ms/step - loss: 1.2142 - accuracy: 0.4660 - val_loss: 1.3885 - val_accuracy: 0.3000\n",
      "Epoch 56/100\n",
      "21/21 [==============================] - 6s 287ms/step - loss: 1.2114 - accuracy: 0.4757 - val_loss: 1.3448 - val_accuracy: 0.3600\n",
      "Epoch 57/100\n",
      "21/21 [==============================] - 6s 286ms/step - loss: 1.2103 - accuracy: 0.4320 - val_loss: 1.3897 - val_accuracy: 0.2800\n",
      "Epoch 58/100\n"
     ]
    },
    {
     "name": "stdout",
     "output_type": "stream",
     "text": [
      "21/21 [==============================] - 6s 287ms/step - loss: 1.1829 - accuracy: 0.5000 - val_loss: 1.3274 - val_accuracy: 0.3400\n",
      "Epoch 59/100\n",
      "21/21 [==============================] - 6s 284ms/step - loss: 1.2233 - accuracy: 0.4029 - val_loss: 1.3927 - val_accuracy: 0.3200\n",
      "Epoch 60/100\n",
      "21/21 [==============================] - 6s 289ms/step - loss: 1.1791 - accuracy: 0.4951 - val_loss: 1.3756 - val_accuracy: 0.3000\n",
      "Epoch 61/100\n",
      "21/21 [==============================] - 6s 287ms/step - loss: 1.2515 - accuracy: 0.3883 - val_loss: 1.3187 - val_accuracy: 0.3000\n",
      "Epoch 62/100\n",
      "21/21 [==============================] - 6s 287ms/step - loss: 1.2645 - accuracy: 0.3981 - val_loss: 1.3279 - val_accuracy: 0.2600\n",
      "Epoch 63/100\n",
      "21/21 [==============================] - 6s 287ms/step - loss: 1.1899 - accuracy: 0.4709 - val_loss: 1.3721 - val_accuracy: 0.3400\n",
      "Epoch 64/100\n",
      "21/21 [==============================] - 6s 288ms/step - loss: 1.1842 - accuracy: 0.4563 - val_loss: 1.3702 - val_accuracy: 0.3200\n",
      "Epoch 65/100\n",
      "21/21 [==============================] - 6s 288ms/step - loss: 1.1530 - accuracy: 0.5340 - val_loss: 1.3386 - val_accuracy: 0.3200\n",
      "Epoch 66/100\n",
      "21/21 [==============================] - 6s 286ms/step - loss: 1.1690 - accuracy: 0.5243 - val_loss: 1.4241 - val_accuracy: 0.2200\n",
      "Epoch 67/100\n",
      "21/21 [==============================] - 6s 287ms/step - loss: 1.1771 - accuracy: 0.5097 - val_loss: 1.4380 - val_accuracy: 0.2800\n",
      "Epoch 68/100\n",
      "21/21 [==============================] - 6s 289ms/step - loss: 1.2040 - accuracy: 0.4223 - val_loss: 1.3502 - val_accuracy: 0.3000\n",
      "Epoch 69/100\n",
      "21/21 [==============================] - 6s 291ms/step - loss: 1.1751 - accuracy: 0.4612 - val_loss: 1.3426 - val_accuracy: 0.3400\n",
      "Epoch 70/100\n",
      "21/21 [==============================] - 6s 291ms/step - loss: 1.1660 - accuracy: 0.5000 - val_loss: 1.4339 - val_accuracy: 0.3200\n",
      "Epoch 71/100\n",
      "21/21 [==============================] - 6s 289ms/step - loss: 1.2188 - accuracy: 0.4466 - val_loss: 1.3297 - val_accuracy: 0.3800\n",
      "Epoch 72/100\n",
      "21/21 [==============================] - 6s 291ms/step - loss: 1.2125 - accuracy: 0.4757 - val_loss: 1.3633 - val_accuracy: 0.4200\n",
      "Epoch 73/100\n",
      "21/21 [==============================] - 6s 287ms/step - loss: 1.1627 - accuracy: 0.5000 - val_loss: 1.3815 - val_accuracy: 0.3200\n",
      "Epoch 74/100\n",
      "21/21 [==============================] - 6s 291ms/step - loss: 1.1870 - accuracy: 0.4903 - val_loss: 1.3416 - val_accuracy: 0.3400\n",
      "Epoch 75/100\n",
      "21/21 [==============================] - 6s 285ms/step - loss: 1.1879 - accuracy: 0.4660 - val_loss: 1.3532 - val_accuracy: 0.3200\n",
      "Epoch 76/100\n",
      "21/21 [==============================] - 6s 286ms/step - loss: 1.1391 - accuracy: 0.5583 - val_loss: 1.3620 - val_accuracy: 0.3600\n",
      "Epoch 77/100\n",
      "21/21 [==============================] - 6s 288ms/step - loss: 1.1354 - accuracy: 0.5194 - val_loss: 1.3551 - val_accuracy: 0.3600\n",
      "Epoch 78/100\n",
      "21/21 [==============================] - 6s 290ms/step - loss: 1.1605 - accuracy: 0.5388 - val_loss: 1.2747 - val_accuracy: 0.3600\n",
      "Epoch 79/100\n",
      "21/21 [==============================] - 6s 294ms/step - loss: 1.1192 - accuracy: 0.5437 - val_loss: 1.3882 - val_accuracy: 0.3600\n",
      "Epoch 80/100\n",
      "21/21 [==============================] - 6s 290ms/step - loss: 1.1193 - accuracy: 0.4903 - val_loss: 1.3376 - val_accuracy: 0.4200\n",
      "Epoch 81/100\n",
      "21/21 [==============================] - 6s 288ms/step - loss: 1.1783 - accuracy: 0.4854 - val_loss: 1.3792 - val_accuracy: 0.3000\n",
      "Epoch 82/100\n",
      "21/21 [==============================] - 6s 291ms/step - loss: 1.1383 - accuracy: 0.4854 - val_loss: 1.3628 - val_accuracy: 0.3200\n",
      "Epoch 83/100\n",
      "21/21 [==============================] - 6s 291ms/step - loss: 1.1717 - accuracy: 0.4612 - val_loss: 1.3773 - val_accuracy: 0.3200\n",
      "Epoch 84/100\n",
      "21/21 [==============================] - 6s 292ms/step - loss: 1.1660 - accuracy: 0.4806 - val_loss: 1.3546 - val_accuracy: 0.3800\n",
      "Epoch 85/100\n",
      "21/21 [==============================] - 6s 284ms/step - loss: 1.1885 - accuracy: 0.4757 - val_loss: 1.3994 - val_accuracy: 0.3000\n",
      "Epoch 86/100\n",
      "21/21 [==============================] - 6s 288ms/step - loss: 1.1757 - accuracy: 0.4854 - val_loss: 1.4033 - val_accuracy: 0.3400\n",
      "Epoch 87/100\n",
      "21/21 [==============================] - 6s 284ms/step - loss: 1.1511 - accuracy: 0.4660 - val_loss: 1.4773 - val_accuracy: 0.2200\n",
      "Epoch 88/100\n",
      "21/21 [==============================] - 6s 289ms/step - loss: 1.0971 - accuracy: 0.5291 - val_loss: 1.3567 - val_accuracy: 0.2600\n",
      "Epoch 89/100\n",
      "21/21 [==============================] - 6s 292ms/step - loss: 1.1258 - accuracy: 0.5485 - val_loss: 1.3316 - val_accuracy: 0.2400\n",
      "Epoch 90/100\n",
      "21/21 [==============================] - 6s 290ms/step - loss: 1.1219 - accuracy: 0.5194 - val_loss: 1.3088 - val_accuracy: 0.3600\n",
      "Epoch 91/100\n",
      "21/21 [==============================] - 6s 297ms/step - loss: 1.1418 - accuracy: 0.4762 - val_loss: 1.4126 - val_accuracy: 0.3200\n",
      "Epoch 92/100\n",
      "21/21 [==============================] - 6s 289ms/step - loss: 1.0943 - accuracy: 0.5097 - val_loss: 1.4307 - val_accuracy: 0.2800\n",
      "Epoch 93/100\n",
      "21/21 [==============================] - 6s 286ms/step - loss: 1.1241 - accuracy: 0.5049 - val_loss: 1.3683 - val_accuracy: 0.3400\n",
      "Epoch 94/100\n",
      "21/21 [==============================] - 6s 290ms/step - loss: 1.0729 - accuracy: 0.5631 - val_loss: 1.3375 - val_accuracy: 0.3000\n",
      "Epoch 95/100\n",
      "21/21 [==============================] - 6s 293ms/step - loss: 1.1458 - accuracy: 0.4660 - val_loss: 1.3001 - val_accuracy: 0.3600\n",
      "Epoch 96/100\n",
      "21/21 [==============================] - 6s 291ms/step - loss: 1.0991 - accuracy: 0.5243 - val_loss: 1.3752 - val_accuracy: 0.3400\n",
      "Epoch 97/100\n",
      "21/21 [==============================] - 6s 287ms/step - loss: 1.0858 - accuracy: 0.5340 - val_loss: 1.3802 - val_accuracy: 0.2800\n",
      "Epoch 98/100\n",
      "21/21 [==============================] - 6s 286ms/step - loss: 1.1390 - accuracy: 0.4757 - val_loss: 1.3753 - val_accuracy: 0.3600\n",
      "Epoch 99/100\n",
      "21/21 [==============================] - 6s 281ms/step - loss: 1.0756 - accuracy: 0.5534 - val_loss: 1.3045 - val_accuracy: 0.3600\n",
      "Epoch 100/100\n",
      "21/21 [==============================] - 6s 282ms/step - loss: 1.1131 - accuracy: 0.5243 - val_loss: 1.3414 - val_accuracy: 0.3200\n"
     ]
    }
   ],
   "source": [
    "from tensorflow.keras.optimizers import Adam\n",
    "\n",
    "#FIT MODEL\n",
    "print(len(train_batches))\n",
    "print(len(valid_batches))\n",
    "\n",
    "STEP_SIZE_TRAIN=train_batches.n//train_batches.batch_size\n",
    "STEP_SIZE_VALID=valid_batches.n//valid_batches.batch_size\n",
    "\n",
    "model.compile(optimizer=Adam(LEARNING_RATE),\n",
    "                loss=tf.keras.losses.CategoricalCrossentropy(from_logits=False),\n",
    "                metrics=['accuracy'])\n",
    "\n",
    "print(device_lib.list_local_devices())\n",
    "\n",
    "history = None\n",
    "\n",
    "with tf.device(\"GPU:0\"):\n",
    "    history = model.fit_generator(generator=train_batches, \n",
    "                steps_per_epoch=STEP_SIZE_TRAIN, \n",
    "                epochs=NUM_EPOCHS, \n",
    "                validation_data=(valid_batches),\n",
    "                validation_steps=STEP_SIZE_VALID)"
   ]
  },
  {
   "cell_type": "markdown",
   "metadata": {
    "nbpresent": {
     "id": "66140980-2aa4-457f-b1df-74c10c234cc2"
    }
   },
   "source": [
    "#### [5 points] Plot Accuracy and Loss During Training"
   ]
  },
  {
   "cell_type": "code",
   "execution_count": 6,
   "metadata": {
    "nbpresent": {
     "id": "ff342098-784a-4e20-ac34-b74ca8ebe839"
    }
   },
   "outputs": [
    {
     "data": {
      "text/plain": [
       "<matplotlib.legend.Legend at 0x271950f9240>"
      ]
     },
     "execution_count": 6,
     "metadata": {},
     "output_type": "execute_result"
    },
    {
     "data": {
      "image/png": "[encoded data removed]",
      "text/plain": [
       "<Figure size 432x288 with 1 Axes>"
      ]
     },
     "metadata": {
      "needs_background": "light"
     },
     "output_type": "display_data"
    },
    {
     "data": {
      "image/png": "[encoded data removed]",
      "text/plain": [
       "<Figure size 432x288 with 1 Axes>"
      ]
     },
     "metadata": {
      "needs_background": "light"
     },
     "output_type": "display_data"
    }
   ],
   "source": [
    "import matplotlib.pyplot as plt\n",
    "\n",
    "plt.figure()\n",
    "plt.plot(history.history['accuracy'], label='Train_acc')\n",
    "plt.plot(history.history['val_accuracy'], label='Test_acc')\n",
    "plt.title(\"Accuracy over 100 Epochs\")\n",
    "plt.legend(loc='lower right')\n",
    "\n",
    "plt.figure()\n",
    "plt.plot(history.history['loss'], label='Train_acc')\n",
    "plt.plot(history.history['val_loss'], label='Test_acc')\n",
    "plt.title(\"Loss over 100 Epochs\")\n",
    "plt.legend(loc='upper right')"
   ]
  },
  {
   "cell_type": "markdown",
   "metadata": {
    "nbpresent": {
     "id": "66140980-2aa4-457f-b1df-74c10c234cc2"
    }
   },
   "source": [
    "#### Testing Model"
   ]
  },
  {
   "cell_type": "code",
   "execution_count": 7,
   "metadata": {},
   "outputs": [
    {
     "name": "stdout",
     "output_type": "stream",
     "text": [
      "Found 36 images belonging to 4 classes.\n",
      "36\n",
      "WARNING:tensorflow:From <ipython-input-7-6e2e55ffea00>:8: Model.evaluate_generator (from tensorflow.python.keras.engine.training) is deprecated and will be removed in a future version.\n",
      "Instructions for updating:\n",
      "Please use Model.evaluate, which supports generators.\n",
      "WARNING:tensorflow:sample_weight modes were coerced from\n",
      "  ...\n",
      "    to  \n",
      "  ['...']\n",
      "36/36 [==============================] - 1s 32ms/step - loss: 1.2537 - accuracy: 0.4167\n",
      "Test loss: 1.253677753938569\n",
      "Test accuracy: 0.41666666\n"
     ]
    }
   ],
   "source": [
    "test_datagen = ImageDataGenerator(rescale=1. / 255)\n",
    "\n",
    "eval_generator = test_datagen.flow_from_directory(TEST_DIR,target_size=IMAGE_SIZE,\n",
    "                                                  batch_size=1,shuffle=True,seed=42,class_mode=\"categorical\")\n",
    "eval_generator.reset()\n",
    "print(len(eval_generator))\n",
    "x = model.evaluate_generator(eval_generator,steps = np.ceil(len(eval_generator)),\n",
    "                           use_multiprocessing = False,verbose = 1,workers=1)\n",
    "print('Test loss:' , x[0])\n",
    "print('Test accuracy:',x[1])"
   ]
  },
  {
   "cell_type": "markdown",
   "metadata": {
    "nbpresent": {
     "id": "66140980-2aa4-457f-b1df-74c10c234cc2"
    }
   },
   "source": [
    "## [10 points] TSNE Plot\n",
    "t-Distributed Stochastic Neighbor Embedding (t-SNE) is a widely used technique for dimensionality reduction that is particularly well suited for the visualization of high-dimensional datasets. After training is complete, extract features from a specific deep layer of your choice, use t-SNE to reduce the dimensionality of your extracted features to 2 dimensions and plot the resulting 2D features."
   ]
  },
  {
   "cell_type": "code",
   "execution_count": 8,
   "metadata": {},
   "outputs": [
    {
     "name": "stdout",
     "output_type": "stream",
     "text": [
      "Found 270 images belonging to 4 classes.\n",
      "WARNING:tensorflow:From <ipython-input-8-f45e73657bb0>:9: Model.predict_generator (from tensorflow.python.keras.engine.training) is deprecated and will be removed in a future version.\n",
      "Instructions for updating:\n",
      "Please use Model.predict, which supports generators.\n",
      "270/270 [==============================] - 11s 40ms/step\n"
     ]
    },
    {
     "data": {
      "text/plain": [
       "(-25.0, 20.0)"
      ]
     },
     "execution_count": 8,
     "metadata": {},
     "output_type": "execute_result"
    },
    {
     "data": {
      "image/png": "[encoded data removed]",
      "text/plain": [
       "<Figure size 432x288 with 1 Axes>"
      ]
     },
     "metadata": {
      "needs_background": "light"
     },
     "output_type": "display_data"
    }
   ],
   "source": [
    "from sklearn.manifold import TSNE\n",
    "\n",
    "intermediate_layer_model = tf.keras.models.Model(inputs=model.input,\n",
    "                                        outputs=model.get_layer('dense').output)\n",
    "\n",
    "tsne_eval_generator = test_datagen.flow_from_directory(DATASET_PATH,target_size=IMAGE_SIZE,\n",
    "                                                  batch_size=1,shuffle=False,seed=42,class_mode=\"categorical\")\n",
    "\n",
    "outputs = intermediate_layer_model.predict_generator(tsne_eval_generator,270,verbose=1)\n",
    "label = tsne_eval_generator.classes\n",
    "features = TSNE(n_components=2).fit_transform(outputs)\n",
    "\n",
    "COVID_19_value_x, COVID_19_value_y = [], []\n",
    "Normal_value_x, Normal_value_y = [], []\n",
    "Pneumonia_ba_value_x, Pneumonia_ba_value_y = [], []\n",
    "Pneumonia_vir_value_x, Pneumonia_vir_value_y = [], []\n",
    "\n",
    "plt.figure()\n",
    "for index in range(len(features)):\n",
    "    if label[index] == 0:\n",
    "        # COVID\n",
    "        COVID_19_value_x.append(features[index, 0])\n",
    "        COVID_19_value_y.append(features[index, 1])\n",
    "    elif label[index] == 1:\n",
    "        # normal\n",
    "        Normal_value_x.append(features[index, 0])\n",
    "        Normal_value_y.append(features[index, 1])\n",
    "    elif label[index] == 2:\n",
    "        # Pneumonia_bac\n",
    "        Pneumonia_ba_value_x.append(features[index, 0])\n",
    "        Pneumonia_ba_value_y.append(features[index, 1])\n",
    "    elif label[index] == 3:\n",
    "        # Pneumonia_vir\n",
    "        Pneumonia_vir_value_x.append(features[index, 0])\n",
    "        Pneumonia_vir_value_y.append(features[index, 1])\n",
    "\n",
    "plt.scatter(COVID_19_value_x, COVID_19_value_y, s=16., marker='o', label=\"COVID-19\")\n",
    "plt.scatter(Normal_value_x, Normal_value_y, s=16., marker='o', label=\"Normal\")\n",
    "plt.scatter(Pneumonia_ba_value_x, Pneumonia_ba_value_y, s=16., marker='o', label=\"Pneumonia_ba\")\n",
    "plt.scatter(Pneumonia_vir_value_x, Pneumonia_vir_value_y, s=16., marker='o', label=\"Pneumonia_vir\")\n",
    "\n",
    "plt.legend(loc='lower left')\n",
    "plt.xlim([-25.0, 20.0]) \n",
    "plt.ylim([-25.0, 20.0]) "
   ]
  },
  {
   "cell_type": "markdown",
   "metadata": {},
   "source": [
    "<!-- ## Task 2: COVID-19 vs Normal vs Tertiary Pneumonia (Bacterial and Viral) -->"
   ]
  },
  {
   "cell_type": "markdown",
   "metadata": {
    "nbpresent": {
     "id": "66140980-2aa4-457f-b1df-74c10c234cc2"
    }
   },
   "source": [
    "<!-- #### Renew Training Batch and Validation Batch -->"
   ]
  },
  {
   "cell_type": "markdown",
   "metadata": {
    "nbpresent": {
     "id": "66140980-2aa4-457f-b1df-74c10c234cc2"
    }
   },
   "source": [
    "<!-- #### Renew Model -->"
   ]
  }
 ],
 "metadata": {
  "kernelspec": {
   "display_name": "Python 3",
   "language": "python",
   "name": "python3"
  },
  "language_info": {
   "codemirror_mode": {
    "name": "ipython",
    "version": 3
   },
   "file_extension": ".py",
   "mimetype": "text/x-python",
   "name": "python",
   "nbconvert_exporter": "python",
   "pygments_lexer": "ipython3",
   "version": "3.6.9"
  },
  "latex_envs": {
   "LaTeX_envs_menu_present": true,
   "autoclose": false,
   "autocomplete": true,
   "bibliofile": "biblio.bib",
   "cite_by": "apalike",
   "current_citInitial": 1,
   "eqLabelWithNumbers": true,
   "eqNumInitial": 1,
   "hotkeys": {
    "equation": "Ctrl-E",
    "itemize": "Ctrl-I"
   },
   "labels_anchors": false,
   "latex_user_defs": false,
   "report_style_numbering": false,
   "user_envs_cfg": false
  },
  "toc": {
   "base_numbering": 1,
   "nav_menu": {},
   "number_sections": true,
   "sideBar": true,
   "skip_h1_title": false,
   "title_cell": "Table of Contents",
   "title_sidebar": "Contents",
   "toc_cell": false,
   "toc_position": {},
   "toc_section_display": true,
   "toc_window_display": false
  },
  "varInspector": {
   "cols": {
    "lenName": 16,
    "lenType": 16,
    "lenVar": 40
   },
   "kernels_config": {
    "python": {
     "delete_cmd_postfix": "",
     "delete_cmd_prefix": "del ",
     "library": "var_list.py",
     "varRefreshCmd": "print(var_dic_list())"
    },
    "r": {
     "delete_cmd_postfix": ") ",
     "delete_cmd_prefix": "rm(",
     "library": "var_list.r",
     "varRefreshCmd": "cat(var_dic_list()) "
    }
   },
   "types_to_exclude": [
    "module",
    "function",
    "builtin_function_or_method",
    "instance",
    "_Feature"
   ],
   "window_display": false
  }
 },
 "nbformat": 4,
 "nbformat_minor": 4
}
