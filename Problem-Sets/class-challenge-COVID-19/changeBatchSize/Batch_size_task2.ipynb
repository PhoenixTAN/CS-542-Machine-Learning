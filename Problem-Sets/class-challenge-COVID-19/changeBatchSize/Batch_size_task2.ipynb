{
 "cells": [
  {
   "cell_type": "markdown",
   "metadata": {
    "nbpresent": {
     "id": "1d234e3f-af8b-4757-83f3-241b04b7a511"
    }
   },
   "source": [
    "# Class Challenge: Image Classification of COVID-19 X-rays\n",
    "# Task 2 [Total points: 30]"
   ]
  },
  {
   "cell_type": "markdown",
   "metadata": {
    "nbpresent": {
     "id": "b07b9992-b592-4871-9f9a-3b0ae5fa8b5f"
    }
   },
   "source": [
    "## Setup\n",
    "\n",
    "* This assignment involves the following packages: 'matplotlib', 'numpy', and 'sklearn'. \n",
    "\n",
    "* If you are using conda, use the following commands to install the above packages:<br>\n",
    "```shell\n",
    "conda install matplotlib\n",
    "conda install numpy\n",
    "conda install -c anaconda scikit-learn\n",
    "```\n",
    "\n",
    "* If you are using pip, use use the following commands to install the above packages: <br> \n",
    "```shell\n",
    "pip install matplotlib\n",
    "pip install numpy\n",
    "pip install sklearn\n",
    "```"
   ]
  },
  {
   "cell_type": "markdown",
   "metadata": {
    "nbpresent": {
     "id": "5516f610-f00c-43c3-bf19-4cf7ab9c089f"
    }
   },
   "source": [
    "## Data\n",
    "\n",
    "Please download the data using the following link: [COVID-19](https://drive.google.com/file/d/1Y88tgqpQ1Pjko_7rntcPowOJs_QNOrJ-/view). \n",
    "\n",
    "* After downloading 'Covid_Data_GradientCrescent.zip', unzip the file and you should see the following data structure:\n",
    "\n",
    "\n",
    "|--all<br>\n",
    "|--------train<br>\n",
    "|--------test<br>\n",
    "|--two<br>\n",
    "|--------train<br>\n",
    "|--------test<br>\n",
    "\n",
    "\n",
    "* Put the 'all' folder, the 'two' folder and this python notebook in the **same directory** so that the following code can correctly locate the data.  \n",
    "\n"
   ]
  },
  {
   "cell_type": "markdown",
   "metadata": {
    "nbpresent": {
     "id": "66140980-2aa4-457f-b1df-74c10c234cc2"
    }
   },
   "source": [
    "## [20 points] Multi-class Classification"
   ]
  },
  {
   "cell_type": "code",
   "execution_count": 1,
   "metadata": {
    "nbpresent": {
     "id": "5e05f980-3d14-4367-b3d1-664249145b13"
    },
    "scrolled": true
   },
   "outputs": [
    {
     "name": "stdout",
     "output_type": "stream",
     "text": [
      "[name: \"/device:CPU:0\"\n",
      "device_type: \"CPU\"\n",
      "memory_limit: 268435456\n",
      "locality {\n",
      "}\n",
      "incarnation: 7436988907245973698\n",
      ", name: \"/device:GPU:0\"\n",
      "device_type: \"GPU\"\n",
      "memory_limit: 4930941747\n",
      "locality {\n",
      "  bus_id: 1\n",
      "  links {\n",
      "  }\n",
      "}\n",
      "incarnation: 15569183219393043352\n",
      "physical_device_desc: \"device: 0, name: GeForce GTX 1060, pci bus id: 0000:01:00.0, compute capability: 6.1\"\n",
      "]\n"
     ]
    },
    {
     "data": {
      "text/plain": [
       "'2.1.0'"
      ]
     },
     "execution_count": 1,
     "metadata": {},
     "output_type": "execute_result"
    }
   ],
   "source": [
    "import os\n",
    "\n",
    "import tensorflow as tf\n",
    "import numpy as np\n",
    "import matplotlib.pyplot as plt\n",
    "from tensorflow.keras.preprocessing.image import ImageDataGenerator\n",
    "\n",
    "from tensorflow.python.client import device_lib\n",
    "\n",
    "print(device_lib.list_local_devices())\n",
    "\n",
    "os.environ['OMP_NUM_THREADS'] = '1'\n",
    "os.environ['CUDA_VISIBLE_DEVICES'] = '-1'\n",
    "tf.__version__"
   ]
  },
  {
   "cell_type": "markdown",
   "metadata": {
    "nbpresent": {
     "id": "66140980-2aa4-457f-b1df-74c10c234cc2"
    }
   },
   "source": [
    "#### Load Image Data"
   ]
  },
  {
   "cell_type": "code",
   "execution_count": 2,
   "metadata": {
    "nbpresent": {
     "id": "58317664-8da3-4283-b3e5-35721687e7ab"
    }
   },
   "outputs": [],
   "source": [
    "DATA_LIST = os.listdir('../all/train')\n",
    "DATASET_PATH  = '../all/train'\n",
    "TEST_DIR =  '../all/test'\n",
    "IMAGE_SIZE    = (224, 224)\n",
    "NUM_CLASSES   = len(DATA_LIST)\n",
    "BATCH_SIZE    = 6  # try reducing batch size or freeze more layers if your GPU runs out of memory\n",
    "NUM_EPOCHS    = 100\n",
    "LEARNING_RATE = 0.0001 # start off with high rate first 0.001 and experiment with reducing it gradually "
   ]
  },
  {
   "cell_type": "markdown",
   "metadata": {
    "nbpresent": {
     "id": "66140980-2aa4-457f-b1df-74c10c234cc2"
    }
   },
   "source": [
    "#### Generate Training and Validation Batches"
   ]
  },
  {
   "cell_type": "code",
   "execution_count": 3,
   "metadata": {
    "nbpresent": {
     "id": "71760e29-2b08-4259-93f1-ebe68cd74a6d"
    }
   },
   "outputs": [
    {
     "name": "stdout",
     "output_type": "stream",
     "text": [
      "Found 216 images belonging to 4 classes.\n",
      "Found 54 images belonging to 4 classes.\n"
     ]
    },
    {
     "name": "stderr",
     "output_type": "stream",
     "text": [
      "C:\\Users\\tanzi\\Anaconda3\\lib\\site-packages\\keras_preprocessing\\image\\image_data_generator.py:341: UserWarning: This ImageDataGenerator specifies `zca_whitening` which overrides setting of`featurewise_std_normalization`.\n",
      "  warnings.warn('This ImageDataGenerator specifies '\n"
     ]
    }
   ],
   "source": [
    "train_datagen = ImageDataGenerator(rescale=1./255,rotation_range=50,featurewise_center = True,\n",
    "                                   featurewise_std_normalization = True,width_shift_range=0.2,\n",
    "                                   height_shift_range=0.2,shear_range=0.25,zoom_range=0.1,\n",
    "                                   zca_whitening = True,channel_shift_range = 20,\n",
    "                                   horizontal_flip = True,vertical_flip = True,\n",
    "                                   validation_split = 0.2,fill_mode='constant')\n",
    "\n",
    "\n",
    "train_batches = train_datagen.flow_from_directory(DATASET_PATH,target_size=IMAGE_SIZE,\n",
    "                                                  shuffle=True,batch_size=BATCH_SIZE,\n",
    "                                                  subset = \"training\",seed=42,\n",
    "                                                  class_mode=\"categorical\")\n",
    "\n",
    "valid_batches = train_datagen.flow_from_directory(DATASET_PATH,target_size=IMAGE_SIZE,\n",
    "                                                  shuffle=True,batch_size=BATCH_SIZE,\n",
    "                                                  subset = \"validation\",\n",
    "                                                  seed=42,class_mode=\"categorical\")"
   ]
  },
  {
   "cell_type": "markdown",
   "metadata": {
    "nbpresent": {
     "id": "66140980-2aa4-457f-b1df-74c10c234cc2"
    }
   },
   "source": [
    "#### [10 points] Build Model\n",
    "Hint: Starting from a pre-trained model typically helps performance on a new task, e.g. starting with weights obtained by training on ImageNet. "
   ]
  },
  {
   "cell_type": "code",
   "execution_count": 4,
   "metadata": {
    "nbpresent": {
     "id": "5c52eeb2-1092-4d45-9e16-02219c82cb5e"
    }
   },
   "outputs": [
    {
     "name": "stdout",
     "output_type": "stream",
     "text": [
      "Model: \"vgg16\"\n",
      "_________________________________________________________________\n",
      "Layer (type)                 Output Shape              Param #   \n",
      "=================================================================\n",
      "input_1 (InputLayer)         [(None, 224, 224, 3)]     0         \n",
      "_________________________________________________________________\n",
      "block1_conv1 (Conv2D)        (None, 224, 224, 64)      1792      \n",
      "_________________________________________________________________\n",
      "block1_conv2 (Conv2D)        (None, 224, 224, 64)      36928     \n",
      "_________________________________________________________________\n",
      "block1_pool (MaxPooling2D)   (None, 112, 112, 64)      0         \n",
      "_________________________________________________________________\n",
      "block2_conv1 (Conv2D)        (None, 112, 112, 128)     73856     \n",
      "_________________________________________________________________\n",
      "block2_conv2 (Conv2D)        (None, 112, 112, 128)     147584    \n",
      "_________________________________________________________________\n",
      "block2_pool (MaxPooling2D)   (None, 56, 56, 128)       0         \n",
      "_________________________________________________________________\n",
      "block3_conv1 (Conv2D)        (None, 56, 56, 256)       295168    \n",
      "_________________________________________________________________\n",
      "block3_conv2 (Conv2D)        (None, 56, 56, 256)       590080    \n",
      "_________________________________________________________________\n",
      "block3_conv3 (Conv2D)        (None, 56, 56, 256)       590080    \n",
      "_________________________________________________________________\n",
      "block3_pool (MaxPooling2D)   (None, 28, 28, 256)       0         \n",
      "_________________________________________________________________\n",
      "block4_conv1 (Conv2D)        (None, 28, 28, 512)       1180160   \n",
      "_________________________________________________________________\n",
      "block4_conv2 (Conv2D)        (None, 28, 28, 512)       2359808   \n",
      "_________________________________________________________________\n",
      "block4_conv3 (Conv2D)        (None, 28, 28, 512)       2359808   \n",
      "_________________________________________________________________\n",
      "block4_pool (MaxPooling2D)   (None, 14, 14, 512)       0         \n",
      "_________________________________________________________________\n",
      "block5_conv1 (Conv2D)        (None, 14, 14, 512)       2359808   \n",
      "_________________________________________________________________\n",
      "block5_conv2 (Conv2D)        (None, 14, 14, 512)       2359808   \n",
      "_________________________________________________________________\n",
      "block5_conv3 (Conv2D)        (None, 14, 14, 512)       2359808   \n",
      "_________________________________________________________________\n",
      "block5_pool (MaxPooling2D)   (None, 7, 7, 512)         0         \n",
      "=================================================================\n",
      "Total params: 14,714,688\n",
      "Trainable params: 14,714,688\n",
      "Non-trainable params: 0\n",
      "_________________________________________________________________\n",
      "None\n",
      "Model: \"sequential\"\n",
      "_________________________________________________________________\n",
      "Layer (type)                 Output Shape              Param #   \n",
      "=================================================================\n",
      "vgg16 (Model)                (None, 7, 7, 512)         14714688  \n",
      "_________________________________________________________________\n",
      "flatten (Flatten)            (None, 25088)             0         \n",
      "_________________________________________________________________\n",
      "dropout (Dropout)            (None, 25088)             0         \n",
      "_________________________________________________________________\n",
      "dense (Dense)                (None, 2048)              51382272  \n",
      "_________________________________________________________________\n",
      "dropout_1 (Dropout)          (None, 2048)              0         \n",
      "_________________________________________________________________\n",
      "dense_1 (Dense)              (None, 256)               524544    \n",
      "_________________________________________________________________\n",
      "dense_2 (Dense)              (None, 4)                 1028      \n",
      "=================================================================\n",
      "Total params: 66,622,532\n",
      "Trainable params: 51,907,844\n",
      "Non-trainable params: 14,714,688\n",
      "_________________________________________________________________\n"
     ]
    }
   ],
   "source": [
    "# raise NotImplementedError(\"Build your model based on an architecture of your choice \"\n",
    "#                           \"A sample model summary is shown below\")\n",
    "\n",
    "# Implement VGG16\n",
    "from tensorflow.keras.applications import VGG16\n",
    "from tensorflow.keras.layers import Flatten, Dense, Dropout\n",
    "from tensorflow.keras.models import Sequential\n",
    "\n",
    "vgg_16 = VGG16(include_top=False, weights='imagenet', input_shape=(224, 224, 3), pooling='None', classes=4)\n",
    "print(vgg_16.summary())\n",
    "vgg_16.trainable = False\n",
    "\n",
    "covid_model = Sequential()\n",
    "covid_model.add(vgg_16)\n",
    "covid_model.add(Flatten())\n",
    "covid_model.add(Dropout(0.4))\n",
    "covid_model.add(Dense(2048, activation='relu'))\n",
    "covid_model.add(Dropout(0.3))\n",
    "covid_model.add(Dense(256, activation='relu'))\n",
    "covid_model.add(Dense(4, activation='softmax'))\n",
    "\n",
    "covid_model.build(input_shape=(224, 224, 3))\n",
    "covid_model.summary()"
   ]
  },
  {
   "cell_type": "markdown",
   "metadata": {
    "nbpresent": {
     "id": "66140980-2aa4-457f-b1df-74c10c234cc2"
    }
   },
   "source": [
    "#### [5 points] Train Model"
   ]
  },
  {
   "cell_type": "code",
   "execution_count": 5,
   "metadata": {
    "nbpresent": {
     "id": "cdb90d24-6a23-4969-8138-f37e7050062d"
    },
    "scrolled": false
   },
   "outputs": [
    {
     "name": "stdout",
     "output_type": "stream",
     "text": [
      "36\n",
      "9\n",
      "[name: \"/device:CPU:0\"\n",
      "device_type: \"CPU\"\n",
      "memory_limit: 268435456\n",
      "locality {\n",
      "}\n",
      "incarnation: 10726673521720993639\n",
      ", name: \"/device:GPU:0\"\n",
      "device_type: \"GPU\"\n",
      "memory_limit: 4930941747\n",
      "locality {\n",
      "  bus_id: 1\n",
      "  links {\n",
      "  }\n",
      "}\n",
      "incarnation: 17414817835669497270\n",
      "physical_device_desc: \"device: 0, name: GeForce GTX 1060, pci bus id: 0000:01:00.0, compute capability: 6.1\"\n",
      "]\n",
      "WARNING:tensorflow:From <ipython-input-5-93010db56821>:24: Model.fit_generator (from tensorflow.python.keras.engine.training) is deprecated and will be removed in a future version.\n",
      "Instructions for updating:\n",
      "Please use Model.fit, which supports generators.\n",
      "WARNING:tensorflow:sample_weight modes were coerced from\n",
      "  ...\n",
      "    to  \n",
      "  ['...']\n"
     ]
    },
    {
     "name": "stderr",
     "output_type": "stream",
     "text": [
      "C:\\Users\\tanzi\\Anaconda3\\lib\\site-packages\\keras_preprocessing\\image\\image_data_generator.py:716: UserWarning: This ImageDataGenerator specifies `featurewise_center`, but it hasn't been fit on any training data. Fit it first by calling `.fit(numpy_data)`.\n",
      "  warnings.warn('This ImageDataGenerator specifies '\n",
      "C:\\Users\\tanzi\\Anaconda3\\lib\\site-packages\\keras_preprocessing\\image\\image_data_generator.py:735: UserWarning: This ImageDataGenerator specifies `zca_whitening`, but it hasn't been fit on any training data. Fit it first by calling `.fit(numpy_data)`.\n",
      "  warnings.warn('This ImageDataGenerator specifies '\n"
     ]
    },
    {
     "name": "stdout",
     "output_type": "stream",
     "text": [
      "WARNING:tensorflow:sample_weight modes were coerced from\n",
      "  ...\n",
      "    to  \n",
      "  ['...']\n",
      "Train for 36 steps, validate for 9 steps\n",
      "Epoch 1/100\n"
     ]
    },
    {
     "name": "stderr",
     "output_type": "stream",
     "text": [
      "C:\\Users\\tanzi\\Anaconda3\\lib\\site-packages\\keras_preprocessing\\image\\image_data_generator.py:716: UserWarning: This ImageDataGenerator specifies `featurewise_center`, but it hasn't been fit on any training data. Fit it first by calling `.fit(numpy_data)`.\n",
      "  warnings.warn('This ImageDataGenerator specifies '\n",
      "C:\\Users\\tanzi\\Anaconda3\\lib\\site-packages\\keras_preprocessing\\image\\image_data_generator.py:735: UserWarning: This ImageDataGenerator specifies `zca_whitening`, but it hasn't been fit on any training data. Fit it first by calling `.fit(numpy_data)`.\n",
      "  warnings.warn('This ImageDataGenerator specifies '\n"
     ]
    },
    {
     "name": "stdout",
     "output_type": "stream",
     "text": [
      "36/36 [==============================] - 7s 206ms/step - loss: 5.0013 - accuracy: 0.3056 - val_loss: 1.6534 - val_accuracy: 0.5185\n",
      "Epoch 2/100\n",
      "36/36 [==============================] - 6s 173ms/step - loss: 2.5630 - accuracy: 0.3519 - val_loss: 2.0635 - val_accuracy: 0.4630\n",
      "Epoch 3/100\n",
      "36/36 [==============================] - 6s 171ms/step - loss: 1.5861 - accuracy: 0.4352 - val_loss: 1.3836 - val_accuracy: 0.5000\n",
      "Epoch 4/100\n",
      "36/36 [==============================] - 6s 170ms/step - loss: 1.3949 - accuracy: 0.4583 - val_loss: 1.0128 - val_accuracy: 0.5926\n",
      "Epoch 5/100\n",
      "36/36 [==============================] - 6s 171ms/step - loss: 1.0480 - accuracy: 0.5370 - val_loss: 0.9629 - val_accuracy: 0.5185\n",
      "Epoch 6/100\n",
      "36/36 [==============================] - 6s 171ms/step - loss: 1.0820 - accuracy: 0.5417 - val_loss: 1.3686 - val_accuracy: 0.5741\n",
      "Epoch 7/100\n",
      "36/36 [==============================] - 6s 170ms/step - loss: 1.1276 - accuracy: 0.5139 - val_loss: 1.4196 - val_accuracy: 0.3889\n",
      "Epoch 8/100\n",
      "36/36 [==============================] - 6s 171ms/step - loss: 1.0243 - accuracy: 0.5278 - val_loss: 1.0739 - val_accuracy: 0.4630\n",
      "Epoch 9/100\n",
      "36/36 [==============================] - 6s 171ms/step - loss: 1.0333 - accuracy: 0.5648 - val_loss: 0.9166 - val_accuracy: 0.5370\n",
      "Epoch 10/100\n",
      "36/36 [==============================] - 6s 170ms/step - loss: 0.9669 - accuracy: 0.5833 - val_loss: 0.8725 - val_accuracy: 0.5926\n",
      "Epoch 11/100\n",
      "36/36 [==============================] - 6s 170ms/step - loss: 1.0161 - accuracy: 0.5741 - val_loss: 0.9563 - val_accuracy: 0.6111\n",
      "Epoch 12/100\n",
      "36/36 [==============================] - 6s 171ms/step - loss: 0.9958 - accuracy: 0.5370 - val_loss: 1.0769 - val_accuracy: 0.5185\n",
      "Epoch 13/100\n",
      "36/36 [==============================] - 6s 171ms/step - loss: 1.0293 - accuracy: 0.5093 - val_loss: 0.9679 - val_accuracy: 0.5185\n",
      "Epoch 14/100\n",
      "36/36 [==============================] - 6s 172ms/step - loss: 0.9005 - accuracy: 0.5741 - val_loss: 0.7038 - val_accuracy: 0.6111\n",
      "Epoch 15/100\n",
      "36/36 [==============================] - 6s 170ms/step - loss: 0.9429 - accuracy: 0.5880 - val_loss: 0.7265 - val_accuracy: 0.6852\n",
      "Epoch 16/100\n",
      "36/36 [==============================] - 6s 171ms/step - loss: 0.8612 - accuracy: 0.6481 - val_loss: 0.8694 - val_accuracy: 0.6296\n",
      "Epoch 17/100\n",
      "36/36 [==============================] - 6s 171ms/step - loss: 0.8651 - accuracy: 0.6528 - val_loss: 0.8418 - val_accuracy: 0.5926\n",
      "Epoch 18/100\n",
      "36/36 [==============================] - 6s 170ms/step - loss: 0.9583 - accuracy: 0.5694 - val_loss: 0.8253 - val_accuracy: 0.6111\n",
      "Epoch 19/100\n",
      "36/36 [==============================] - 6s 171ms/step - loss: 0.8506 - accuracy: 0.6204 - val_loss: 0.8369 - val_accuracy: 0.5741\n",
      "Epoch 20/100\n",
      "36/36 [==============================] - 6s 178ms/step - loss: 0.9275 - accuracy: 0.6019 - val_loss: 0.8921 - val_accuracy: 0.5741\n",
      "Epoch 21/100\n",
      "36/36 [==============================] - 6s 174ms/step - loss: 0.7780 - accuracy: 0.6343 - val_loss: 0.6457 - val_accuracy: 0.6667\n",
      "Epoch 22/100\n",
      "36/36 [==============================] - 6s 172ms/step - loss: 0.8690 - accuracy: 0.5694 - val_loss: 0.6496 - val_accuracy: 0.6481\n",
      "Epoch 23/100\n",
      "36/36 [==============================] - 6s 173ms/step - loss: 0.9260 - accuracy: 0.5972 - val_loss: 0.6891 - val_accuracy: 0.6296\n",
      "Epoch 24/100\n",
      "36/36 [==============================] - 6s 172ms/step - loss: 0.8405 - accuracy: 0.6389 - val_loss: 0.7308 - val_accuracy: 0.6481\n",
      "Epoch 25/100\n",
      "36/36 [==============================] - 6s 172ms/step - loss: 0.8164 - accuracy: 0.6065 - val_loss: 0.6092 - val_accuracy: 0.7407\n",
      "Epoch 26/100\n",
      "36/36 [==============================] - 6s 179ms/step - loss: 0.8331 - accuracy: 0.6065 - val_loss: 0.8331 - val_accuracy: 0.5370\n",
      "Epoch 27/100\n",
      "36/36 [==============================] - 6s 178ms/step - loss: 0.8334 - accuracy: 0.6296 - val_loss: 0.6600 - val_accuracy: 0.6667\n",
      "Epoch 28/100\n",
      "36/36 [==============================] - 6s 180ms/step - loss: 0.9206 - accuracy: 0.5926 - val_loss: 0.7200 - val_accuracy: 0.6111\n",
      "Epoch 29/100\n",
      "36/36 [==============================] - 6s 179ms/step - loss: 0.7849 - accuracy: 0.6343 - val_loss: 0.6096 - val_accuracy: 0.6852\n",
      "Epoch 30/100\n",
      "36/36 [==============================] - 7s 182ms/step - loss: 0.7743 - accuracy: 0.6481 - val_loss: 0.8433 - val_accuracy: 0.5556\n",
      "Epoch 31/100\n",
      "36/36 [==============================] - 6s 178ms/step - loss: 0.8844 - accuracy: 0.5556 - val_loss: 0.8690 - val_accuracy: 0.5370\n",
      "Epoch 32/100\n",
      "36/36 [==============================] - 6s 178ms/step - loss: 0.7977 - accuracy: 0.6991 - val_loss: 0.6626 - val_accuracy: 0.6852\n",
      "Epoch 33/100\n",
      "36/36 [==============================] - 6s 180ms/step - loss: 0.8013 - accuracy: 0.6667 - val_loss: 0.6939 - val_accuracy: 0.6667\n",
      "Epoch 34/100\n",
      "36/36 [==============================] - 7s 184ms/step - loss: 0.7566 - accuracy: 0.6806 - val_loss: 0.5954 - val_accuracy: 0.7037\n",
      "Epoch 35/100\n",
      "36/36 [==============================] - 7s 183ms/step - loss: 0.8424 - accuracy: 0.6111 - val_loss: 0.7522 - val_accuracy: 0.6481\n",
      "Epoch 36/100\n",
      "36/36 [==============================] - 6s 179ms/step - loss: 0.6985 - accuracy: 0.6620 - val_loss: 0.7546 - val_accuracy: 0.6111\n",
      "Epoch 37/100\n",
      "36/36 [==============================] - 6s 177ms/step - loss: 0.8248 - accuracy: 0.6157 - val_loss: 0.7034 - val_accuracy: 0.6481\n",
      "Epoch 38/100\n",
      "36/36 [==============================] - 6s 177ms/step - loss: 0.7400 - accuracy: 0.6806 - val_loss: 0.6726 - val_accuracy: 0.5926\n",
      "Epoch 39/100\n",
      "36/36 [==============================] - 6s 176ms/step - loss: 0.8506 - accuracy: 0.5972 - val_loss: 0.7975 - val_accuracy: 0.5741\n",
      "Epoch 40/100\n",
      "36/36 [==============================] - 6s 178ms/step - loss: 0.7782 - accuracy: 0.7037 - val_loss: 0.5873 - val_accuracy: 0.7037\n",
      "Epoch 41/100\n",
      "36/36 [==============================] - 6s 176ms/step - loss: 0.7089 - accuracy: 0.6944 - val_loss: 0.6511 - val_accuracy: 0.7037\n",
      "Epoch 42/100\n",
      "36/36 [==============================] - 6s 175ms/step - loss: 0.9028 - accuracy: 0.5787 - val_loss: 0.6887 - val_accuracy: 0.6667\n",
      "Epoch 43/100\n",
      "36/36 [==============================] - 6s 175ms/step - loss: 0.7634 - accuracy: 0.6713 - val_loss: 0.6222 - val_accuracy: 0.7222\n",
      "Epoch 44/100\n",
      "36/36 [==============================] - 6s 176ms/step - loss: 0.7916 - accuracy: 0.6204 - val_loss: 0.5862 - val_accuracy: 0.7407\n",
      "Epoch 45/100\n",
      "36/36 [==============================] - 6s 176ms/step - loss: 0.7719 - accuracy: 0.5972 - val_loss: 0.5613 - val_accuracy: 0.7222\n",
      "Epoch 46/100\n",
      "36/36 [==============================] - 6s 176ms/step - loss: 0.7281 - accuracy: 0.7130 - val_loss: 0.6276 - val_accuracy: 0.7222\n",
      "Epoch 47/100\n",
      "36/36 [==============================] - 6s 177ms/step - loss: 0.7128 - accuracy: 0.7037 - val_loss: 0.9157 - val_accuracy: 0.5556\n",
      "Epoch 48/100\n",
      "36/36 [==============================] - 7s 183ms/step - loss: 0.7639 - accuracy: 0.6435 - val_loss: 0.7327 - val_accuracy: 0.5926\n",
      "Epoch 49/100\n",
      "36/36 [==============================] - 7s 185ms/step - loss: 0.7640 - accuracy: 0.6574 - val_loss: 0.6428 - val_accuracy: 0.6667\n",
      "Epoch 50/100\n",
      "36/36 [==============================] - 6s 180ms/step - loss: 0.7510 - accuracy: 0.6852 - val_loss: 0.6181 - val_accuracy: 0.7222\n",
      "Epoch 51/100\n",
      "36/36 [==============================] - 7s 196ms/step - loss: 0.8006 - accuracy: 0.6435 - val_loss: 0.5413 - val_accuracy: 0.7593\n",
      "Epoch 52/100\n",
      "36/36 [==============================] - 7s 185ms/step - loss: 0.6739 - accuracy: 0.7130 - val_loss: 0.6232 - val_accuracy: 0.7037\n",
      "Epoch 53/100\n",
      "36/36 [==============================] - 7s 187ms/step - loss: 0.6596 - accuracy: 0.7037 - val_loss: 0.5919 - val_accuracy: 0.7037\n",
      "Epoch 54/100\n",
      "36/36 [==============================] - 6s 180ms/step - loss: 0.6606 - accuracy: 0.6852 - val_loss: 0.5754 - val_accuracy: 0.6852\n",
      "Epoch 55/100\n",
      "36/36 [==============================] - 7s 186ms/step - loss: 0.7482 - accuracy: 0.6944 - val_loss: 0.5954 - val_accuracy: 0.6667\n",
      "Epoch 56/100\n",
      "36/36 [==============================] - 7s 184ms/step - loss: 0.7155 - accuracy: 0.7083 - val_loss: 0.7613 - val_accuracy: 0.6111\n",
      "Epoch 57/100\n",
      "36/36 [==============================] - 6s 180ms/step - loss: 0.7198 - accuracy: 0.6759 - val_loss: 0.6733 - val_accuracy: 0.6852\n",
      "Epoch 58/100\n"
     ]
    },
    {
     "name": "stdout",
     "output_type": "stream",
     "text": [
      "36/36 [==============================] - 7s 185ms/step - loss: 0.7693 - accuracy: 0.6991 - val_loss: 0.8335 - val_accuracy: 0.5926\n",
      "Epoch 59/100\n",
      "36/36 [==============================] - 7s 192ms/step - loss: 0.6926 - accuracy: 0.6574 - val_loss: 0.6164 - val_accuracy: 0.6667\n",
      "Epoch 60/100\n",
      "36/36 [==============================] - 7s 190ms/step - loss: 0.7799 - accuracy: 0.6852 - val_loss: 0.5621 - val_accuracy: 0.7407\n",
      "Epoch 61/100\n",
      "36/36 [==============================] - 7s 182ms/step - loss: 0.7476 - accuracy: 0.6389 - val_loss: 0.7041 - val_accuracy: 0.6296\n",
      "Epoch 62/100\n",
      "36/36 [==============================] - 6s 179ms/step - loss: 0.6765 - accuracy: 0.7037 - val_loss: 0.7710 - val_accuracy: 0.6296\n",
      "Epoch 63/100\n",
      "36/36 [==============================] - 7s 195ms/step - loss: 0.6845 - accuracy: 0.6898 - val_loss: 0.5718 - val_accuracy: 0.7037\n",
      "Epoch 64/100\n",
      "36/36 [==============================] - 7s 201ms/step - loss: 0.7173 - accuracy: 0.6528 - val_loss: 0.6348 - val_accuracy: 0.6667\n",
      "Epoch 65/100\n",
      "36/36 [==============================] - 7s 189ms/step - loss: 0.7185 - accuracy: 0.6667 - val_loss: 0.7954 - val_accuracy: 0.5556\n",
      "Epoch 66/100\n",
      "36/36 [==============================] - 7s 191ms/step - loss: 0.7125 - accuracy: 0.7037 - val_loss: 0.5752 - val_accuracy: 0.7222\n",
      "Epoch 67/100\n",
      "36/36 [==============================] - 7s 187ms/step - loss: 0.7624 - accuracy: 0.6620 - val_loss: 0.6733 - val_accuracy: 0.6667\n",
      "Epoch 68/100\n",
      "36/36 [==============================] - 7s 186ms/step - loss: 0.7487 - accuracy: 0.6435 - val_loss: 0.5694 - val_accuracy: 0.6667\n",
      "Epoch 69/100\n",
      "36/36 [==============================] - 7s 191ms/step - loss: 0.6573 - accuracy: 0.6991 - val_loss: 0.5303 - val_accuracy: 0.7222\n",
      "Epoch 70/100\n",
      "36/36 [==============================] - 7s 191ms/step - loss: 0.7545 - accuracy: 0.6481 - val_loss: 0.5849 - val_accuracy: 0.7222\n",
      "Epoch 71/100\n",
      "36/36 [==============================] - 7s 181ms/step - loss: 0.6601 - accuracy: 0.6759 - val_loss: 0.5768 - val_accuracy: 0.7222\n",
      "Epoch 72/100\n",
      "36/36 [==============================] - 7s 185ms/step - loss: 0.7252 - accuracy: 0.7083 - val_loss: 0.6252 - val_accuracy: 0.7037\n",
      "Epoch 73/100\n",
      "36/36 [==============================] - 7s 187ms/step - loss: 0.6844 - accuracy: 0.6806 - val_loss: 0.5169 - val_accuracy: 0.7407\n",
      "Epoch 74/100\n",
      "36/36 [==============================] - 7s 191ms/step - loss: 0.7386 - accuracy: 0.6713 - val_loss: 0.5656 - val_accuracy: 0.7037\n",
      "Epoch 75/100\n",
      "36/36 [==============================] - 7s 181ms/step - loss: 0.7025 - accuracy: 0.6481 - val_loss: 0.5556 - val_accuracy: 0.7037\n",
      "Epoch 76/100\n",
      "36/36 [==============================] - 7s 182ms/step - loss: 0.7632 - accuracy: 0.6481 - val_loss: 0.7913 - val_accuracy: 0.6481\n",
      "Epoch 77/100\n",
      "36/36 [==============================] - 7s 187ms/step - loss: 0.6846 - accuracy: 0.6528 - val_loss: 0.7070 - val_accuracy: 0.6481\n",
      "Epoch 78/100\n",
      "36/36 [==============================] - 7s 195ms/step - loss: 0.6121 - accuracy: 0.7222 - val_loss: 0.5734 - val_accuracy: 0.6667\n",
      "Epoch 79/100\n",
      "36/36 [==============================] - 7s 198ms/step - loss: 0.6824 - accuracy: 0.6667 - val_loss: 0.5902 - val_accuracy: 0.6852\n",
      "Epoch 80/100\n",
      "36/36 [==============================] - 7s 192ms/step - loss: 0.6502 - accuracy: 0.7037 - val_loss: 0.5275 - val_accuracy: 0.7222\n",
      "Epoch 81/100\n",
      "36/36 [==============================] - 7s 183ms/step - loss: 0.6937 - accuracy: 0.7269 - val_loss: 0.6750 - val_accuracy: 0.6481\n",
      "Epoch 82/100\n",
      "36/36 [==============================] - 7s 193ms/step - loss: 0.5838 - accuracy: 0.7269 - val_loss: 0.6212 - val_accuracy: 0.6296\n",
      "Epoch 83/100\n",
      "36/36 [==============================] - 8s 213ms/step - loss: 0.7026 - accuracy: 0.6898 - val_loss: 0.7512 - val_accuracy: 0.6481\n",
      "Epoch 84/100\n",
      "36/36 [==============================] - 8s 212ms/step - loss: 0.7367 - accuracy: 0.6944 - val_loss: 0.5569 - val_accuracy: 0.7593\n",
      "Epoch 85/100\n",
      "36/36 [==============================] - 7s 199ms/step - loss: 0.6674 - accuracy: 0.7361 - val_loss: 0.5970 - val_accuracy: 0.6667\n",
      "Epoch 86/100\n",
      "36/36 [==============================] - 7s 187ms/step - loss: 0.6737 - accuracy: 0.6806 - val_loss: 0.6967 - val_accuracy: 0.5926\n",
      "Epoch 87/100\n",
      "36/36 [==============================] - 7s 184ms/step - loss: 0.6668 - accuracy: 0.7176 - val_loss: 0.7001 - val_accuracy: 0.6852\n",
      "Epoch 88/100\n",
      "36/36 [==============================] - 7s 191ms/step - loss: 0.6858 - accuracy: 0.7083 - val_loss: 0.6245 - val_accuracy: 0.6852\n",
      "Epoch 89/100\n",
      "36/36 [==============================] - 7s 188ms/step - loss: 0.7286 - accuracy: 0.6944 - val_loss: 0.7360 - val_accuracy: 0.6481\n",
      "Epoch 90/100\n",
      "36/36 [==============================] - 7s 189ms/step - loss: 0.6507 - accuracy: 0.6991 - val_loss: 0.6144 - val_accuracy: 0.7593\n",
      "Epoch 91/100\n",
      "36/36 [==============================] - 7s 194ms/step - loss: 0.6710 - accuracy: 0.7454 - val_loss: 0.5745 - val_accuracy: 0.6852\n",
      "Epoch 92/100\n",
      "36/36 [==============================] - 7s 191ms/step - loss: 0.5980 - accuracy: 0.7037 - val_loss: 0.6848 - val_accuracy: 0.6296\n",
      "Epoch 93/100\n",
      "36/36 [==============================] - 7s 196ms/step - loss: 0.6820 - accuracy: 0.6667 - val_loss: 0.6898 - val_accuracy: 0.6667\n",
      "Epoch 94/100\n",
      "36/36 [==============================] - 7s 201ms/step - loss: 0.6125 - accuracy: 0.7037 - val_loss: 0.6272 - val_accuracy: 0.7407\n",
      "Epoch 95/100\n",
      "36/36 [==============================] - 7s 197ms/step - loss: 0.7705 - accuracy: 0.6944 - val_loss: 0.5848 - val_accuracy: 0.7037\n",
      "Epoch 96/100\n",
      "36/36 [==============================] - 7s 189ms/step - loss: 0.5703 - accuracy: 0.7454 - val_loss: 0.6284 - val_accuracy: 0.7037\n",
      "Epoch 97/100\n",
      "36/36 [==============================] - 7s 193ms/step - loss: 0.5851 - accuracy: 0.7500 - val_loss: 0.5752 - val_accuracy: 0.6667\n",
      "Epoch 98/100\n",
      "36/36 [==============================] - 7s 188ms/step - loss: 0.5287 - accuracy: 0.7500 - val_loss: 0.5332 - val_accuracy: 0.7593\n",
      "Epoch 99/100\n",
      "36/36 [==============================] - 7s 186ms/step - loss: 0.6182 - accuracy: 0.7222 - val_loss: 0.5904 - val_accuracy: 0.6852\n",
      "Epoch 100/100\n",
      "36/36 [==============================] - 7s 191ms/step - loss: 0.6473 - accuracy: 0.7222 - val_loss: 0.5314 - val_accuracy: 0.7407\n"
     ]
    }
   ],
   "source": [
    "# FIT MODEL\n",
    "from tensorflow.keras.optimizers import SGD\n",
    "print(len(train_batches))\n",
    "print(len(valid_batches))\n",
    "\n",
    "STEP_SIZE_TRAIN=train_batches.n//train_batches.batch_size\n",
    "STEP_SIZE_VALID=valid_batches.n//valid_batches.batch_size\n",
    "\n",
    "# raise NotImplementedError(\"Use the model.fit function to train your network\")\n",
    "# Best Accuracy: \n",
    "covid_model.compile(optimizer='adam', loss=tf.keras.losses.CategoricalCrossentropy(from_logits=False), metrics=['accuracy'])\n",
    "\n",
    "# print the device library\n",
    "print(device_lib.list_local_devices())\n",
    "\n",
    "history = None\n",
    "\n",
    "with tf.device(\"GPU:0\"):\n",
    "    # history = covid_model.fit(train_batches, epochs=100, validation_data=(valid_batches))\n",
    "    history = covid_model.fit_generator(generator=train_batches, \n",
    "                              steps_per_epoch=STEP_SIZE_TRAIN, \n",
    "                              epochs=100,\n",
    "                              validation_data=(valid_batches),\n",
    "                              validation_steps=STEP_SIZE_VALID)"
   ]
  },
  {
   "cell_type": "markdown",
   "metadata": {
    "nbpresent": {
     "id": "66140980-2aa4-457f-b1df-74c10c234cc2"
    }
   },
   "source": [
    "#### [5 points] Plot Accuracy and Loss During Training"
   ]
  },
  {
   "cell_type": "code",
   "execution_count": 6,
   "metadata": {
    "nbpresent": {
     "id": "ff342098-784a-4e20-ac34-b74ca8ebe839"
    }
   },
   "outputs": [
    {
     "data": {
      "text/plain": [
       "<matplotlib.legend.Legend at 0x28265d9ff98>"
      ]
     },
     "execution_count": 6,
     "metadata": {},
     "output_type": "execute_result"
    },
    {
     "data": {
      "image/png": "[encoded data removed]",
      "text/plain": [
       "<Figure size 432x288 with 1 Axes>"
      ]
     },
     "metadata": {
      "needs_background": "light"
     },
     "output_type": "display_data"
    },
    {
     "data": {
      "image/png": "[encoded data removed]",
      "text/plain": [
       "<Figure size 432x288 with 1 Axes>"
      ]
     },
     "metadata": {
      "needs_background": "light"
     },
     "output_type": "display_data"
    }
   ],
   "source": [
    "import matplotlib.pyplot as plt\n",
    "\n",
    "# raise NotImplementedError(\"Plot the accuracy and the loss during training\")\n",
    "\n",
    "# Accuracy over 40 Epochs\n",
    "plt.figure()\n",
    "plt.plot(history.history['accuracy'], label='train accuracy') \n",
    "plt.plot(history.history['val_accuracy'], label = 'validation accuracy') \n",
    "plt.title('Accuracy over 40 epochs')\n",
    "plt.xlabel('Epoch') \n",
    "plt.ylabel('Accuracy') \n",
    "plt.ylim([0.1, 0.9]) \n",
    "plt.legend(loc='lower right')\n",
    "\n",
    "# Loss over 40 Epochs\n",
    "plt.figure()\n",
    "plt.plot(history.history['loss'], label='train loss') \n",
    "plt.plot(history.history['val_loss'], label = 'validation loss') \n",
    "plt.title('Loss over 40 epochs')\n",
    "plt.xlabel('Epoch') \n",
    "plt.ylabel('Loss') \n",
    "plt.ylim([0.3, 2.5]) \n",
    "plt.legend(loc='upper right')"
   ]
  },
  {
   "cell_type": "markdown",
   "metadata": {
    "nbpresent": {
     "id": "66140980-2aa4-457f-b1df-74c10c234cc2"
    }
   },
   "source": [
    "#### Testing Model"
   ]
  },
  {
   "cell_type": "code",
   "execution_count": 7,
   "metadata": {},
   "outputs": [
    {
     "name": "stdout",
     "output_type": "stream",
     "text": [
      "Found 36 images belonging to 4 classes.\n",
      "36\n",
      "WARNING:tensorflow:From <ipython-input-7-dedefa902e64>:8: Model.evaluate_generator (from tensorflow.python.keras.engine.training) is deprecated and will be removed in a future version.\n",
      "Instructions for updating:\n",
      "Please use Model.evaluate, which supports generators.\n",
      "WARNING:tensorflow:sample_weight modes were coerced from\n",
      "  ...\n",
      "    to  \n",
      "  ['...']\n",
      "36/36 [==============================] - 1s 31ms/step - loss: 0.7991 - accuracy: 0.6944: 0s - loss: 0.9705 - accura\n",
      "Test loss: 0.799088882822174\n",
      "Test accuracy: 0.6944444\n"
     ]
    }
   ],
   "source": [
    "test_datagen = ImageDataGenerator(rescale=1. / 255)\n",
    "\n",
    "eval_generator = test_datagen.flow_from_directory(TEST_DIR,target_size=IMAGE_SIZE,\n",
    "                                                  batch_size=1,shuffle=True,seed=42,class_mode=\"categorical\")\n",
    "eval_generator.reset()\n",
    "print(len(eval_generator))\n",
    "x = covid_model.evaluate_generator(eval_generator,steps = np.ceil(len(eval_generator)),\n",
    "                           use_multiprocessing = False,verbose = 1,workers=1)\n",
    "print('Test loss:' , x[0])\n",
    "print('Test accuracy:',x[1])"
   ]
  },
  {
   "cell_type": "markdown",
   "metadata": {
    "nbpresent": {
     "id": "66140980-2aa4-457f-b1df-74c10c234cc2"
    }
   },
   "source": [
    "## [10 points] TSNE Plot\n",
    "t-Distributed Stochastic Neighbor Embedding (t-SNE) is a widely used technique for dimensionality reduction that is particularly well suited for the visualization of high-dimensional datasets. After training is complete, extract features from a specific deep layer of your choice, use t-SNE to reduce the dimensionality of your extracted features to 2 dimensions and plot the resulting 2D features."
   ]
  },
  {
   "cell_type": "code",
   "execution_count": 8,
   "metadata": {},
   "outputs": [
    {
     "name": "stdout",
     "output_type": "stream",
     "text": [
      "Found 270 images belonging to 4 classes.\n",
      "WARNING:tensorflow:From <ipython-input-8-91f9848620dd>:12: Model.predict_generator (from tensorflow.python.keras.engine.training) is deprecated and will be removed in a future version.\n",
      "Instructions for updating:\n",
      "Please use Model.predict, which supports generators.\n",
      "270/270 [==============================] - 5s 20ms/step\n",
      "(270, 256)\n",
      "(270, 2)\n"
     ]
    },
    {
     "data": {
      "text/plain": [
       "<matplotlib.legend.Legend at 0x2827eae14a8>"
      ]
     },
     "execution_count": 8,
     "metadata": {},
     "output_type": "execute_result"
    },
    {
     "data": {
      "image/png": "[encoded data removed]",
      "text/plain": [
       "<Figure size 432x288 with 1 Axes>"
      ]
     },
     "metadata": {
      "needs_background": "light"
     },
     "output_type": "display_data"
    }
   ],
   "source": [
    "from sklearn.manifold import TSNE\n",
    "\n",
    "intermediate_layer_model = tf.keras.models.Model(inputs=covid_model.input,\n",
    "                                        outputs=covid_model.get_layer('dense_1').output)\n",
    "\n",
    "tsne_eval_generator = test_datagen.flow_from_directory(DATASET_PATH,target_size=IMAGE_SIZE,\n",
    "                                                  batch_size=1,shuffle=False,seed=42,class_mode=\"categorical\")\n",
    "\n",
    "# raise NotImplementedError(\"Extract features from the tsne_data_generator and fit a t-SNE model for the features,\"\n",
    "#                           \"and plot the resulting 2D features of the four classes.\")\n",
    "\n",
    "outputs = intermediate_layer_model.predict_generator(tsne_eval_generator,270,verbose=1)\n",
    "print(outputs.shape)\n",
    "label = tsne_eval_generator.classes\n",
    "features = TSNE(n_components=2).fit_transform(outputs)\n",
    "print(features.shape)\n",
    "\n",
    "covid_x = []\n",
    "covid_y = []\n",
    "normal_x = []\n",
    "normal_y = []\n",
    "pneumonia_bac_x = []\n",
    "pneumonia_bac_y = []\n",
    "pneumonia_vir_x = []\n",
    "pneumonia_vir_y = []\n",
    "\n",
    "plt.figure()\n",
    "for index in range(len(features)):\n",
    "    if label[index] == 0:\n",
    "        # COVID: Blue\n",
    "        covid_x.append(features[index, 0])\n",
    "        covid_y.append(features[index, 1])        \n",
    "    elif label[index] == 1:\n",
    "        # Normal: Yellow\n",
    "        normal_x.append(features[index, 0])\n",
    "        normal_y.append(features[index, 1]) \n",
    "    elif label[index] == 2:\n",
    "        # Pneumonia_bac: Green\n",
    "        pneumonia_bac_x.append(features[index, 0])\n",
    "        pneumonia_bac_y.append(features[index, 1]) \n",
    "    else:\n",
    "        # Pneumonia_vir: Red\n",
    "        pneumonia_vir_x.append(features[index, 0])\n",
    "        pneumonia_vir_y.append(features[index, 1]) \n",
    "\n",
    "plt.title('2D features')\n",
    "plt.plot(covid_x, covid_y, 'bo', label=\"COVID-19\")\n",
    "plt.plot(normal_x, normal_y, 'yo', label=\"Normal\")\n",
    "plt.plot(pneumonia_bac_x, pneumonia_bac_y, 'go', label=\"Pneumonia_ba\")\n",
    "plt.plot(pneumonia_vir_x, pneumonia_vir_y, 'ro', label=\"Pneumonia_vir\")\n",
    "plt.legend(loc='lower right')"
   ]
  },
  {
   "cell_type": "code",
   "execution_count": null,
   "metadata": {},
   "outputs": [],
   "source": []
  }
 ],
 "metadata": {
  "kernelspec": {
   "display_name": "Python 3",
   "language": "python",
   "name": "python3"
  },
  "language_info": {
   "codemirror_mode": {
    "name": "ipython",
    "version": 3
   },
   "file_extension": ".py",
   "mimetype": "text/x-python",
   "name": "python",
   "nbconvert_exporter": "python",
   "pygments_lexer": "ipython3",
   "version": "3.6.9"
  },
  "latex_envs": {
   "LaTeX_envs_menu_present": true,
   "autoclose": false,
   "autocomplete": true,
   "bibliofile": "biblio.bib",
   "cite_by": "apalike",
   "current_citInitial": 1,
   "eqLabelWithNumbers": true,
   "eqNumInitial": 1,
   "hotkeys": {
    "equation": "Ctrl-E",
    "itemize": "Ctrl-I"
   },
   "labels_anchors": false,
   "latex_user_defs": false,
   "report_style_numbering": false,
   "user_envs_cfg": false
  },
  "toc": {
   "base_numbering": 1,
   "nav_menu": {},
   "number_sections": true,
   "sideBar": true,
   "skip_h1_title": false,
   "title_cell": "Table of Contents",
   "title_sidebar": "Contents",
   "toc_cell": false,
   "toc_position": {},
   "toc_section_display": true,
   "toc_window_display": false
  },
  "varInspector": {
   "cols": {
    "lenName": 16,
    "lenType": 16,
    "lenVar": 40
   },
   "kernels_config": {
    "python": {
     "delete_cmd_postfix": "",
     "delete_cmd_prefix": "del ",
     "library": "var_list.py",
     "varRefreshCmd": "print(var_dic_list())"
    },
    "r": {
     "delete_cmd_postfix": ") ",
     "delete_cmd_prefix": "rm(",
     "library": "var_list.r",
     "varRefreshCmd": "cat(var_dic_list()) "
    }
   },
   "types_to_exclude": [
    "module",
    "function",
    "builtin_function_or_method",
    "instance",
    "_Feature"
   ],
   "window_display": false
  }
 },
 "nbformat": 4,
 "nbformat_minor": 4
}
