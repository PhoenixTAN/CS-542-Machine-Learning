{
 "cells": [
  {
   "cell_type": "markdown",
   "metadata": {
    "nbpresent": {
     "id": "1d234e3f-af8b-4757-83f3-241b04b7a511"
    }
   },
   "source": [
    "# Class Challenge: Image Classification of COVID-19 X-rays\n",
    "# Task 2 [Total points: 30]"
   ]
  },
  {
   "cell_type": "markdown",
   "metadata": {
    "nbpresent": {
     "id": "b07b9992-b592-4871-9f9a-3b0ae5fa8b5f"
    }
   },
   "source": [
    "## Setup\n",
    "\n",
    "* This assignment involves the following packages: 'matplotlib', 'numpy', and 'sklearn'. \n",
    "\n",
    "* If you are using conda, use the following commands to install the above packages:<br>\n",
    "```shell\n",
    "conda install matplotlib\n",
    "conda install numpy\n",
    "conda install -c anaconda scikit-learn\n",
    "```\n",
    "\n",
    "* If you are using pip, use use the following commands to install the above packages: <br> \n",
    "```shell\n",
    "pip install matplotlib\n",
    "pip install numpy\n",
    "pip install sklearn\n",
    "```"
   ]
  },
  {
   "cell_type": "markdown",
   "metadata": {
    "nbpresent": {
     "id": "5516f610-f00c-43c3-bf19-4cf7ab9c089f"
    }
   },
   "source": [
    "## Data\n",
    "\n",
    "Please download the data using the following link: [COVID-19](https://drive.google.com/file/d/1Y88tgqpQ1Pjko_7rntcPowOJs_QNOrJ-/view). \n",
    "\n",
    "* After downloading 'Covid_Data_GradientCrescent.zip', unzip the file and you should see the following data structure:\n",
    "\n",
    "\n",
    "|--all<br>\n",
    "|--------train<br>\n",
    "|--------test<br>\n",
    "|--two<br>\n",
    "|--------train<br>\n",
    "|--------test<br>\n",
    "\n",
    "\n",
    "* Put the 'all' folder, the 'two' folder and this python notebook in the **same directory** so that the following code can correctly locate the data.  \n",
    "\n"
   ]
  },
  {
   "cell_type": "markdown",
   "metadata": {
    "nbpresent": {
     "id": "66140980-2aa4-457f-b1df-74c10c234cc2"
    }
   },
   "source": [
    "## [20 points] Multi-class Classification"
   ]
  },
  {
   "cell_type": "code",
   "execution_count": 1,
   "metadata": {
    "nbpresent": {
     "id": "5e05f980-3d14-4367-b3d1-664249145b13"
    },
    "scrolled": true
   },
   "outputs": [
    {
     "name": "stdout",
     "output_type": "stream",
     "text": [
      "[name: \"/device:CPU:0\"\n",
      "device_type: \"CPU\"\n",
      "memory_limit: 268435456\n",
      "locality {\n",
      "}\n",
      "incarnation: 8422582948625777615\n",
      ", name: \"/device:GPU:0\"\n",
      "device_type: \"GPU\"\n",
      "memory_limit: 4930941747\n",
      "locality {\n",
      "  bus_id: 1\n",
      "  links {\n",
      "  }\n",
      "}\n",
      "incarnation: 5243339779544236191\n",
      "physical_device_desc: \"device: 0, name: GeForce GTX 1060, pci bus id: 0000:01:00.0, compute capability: 6.1\"\n",
      "]\n"
     ]
    },
    {
     "data": {
      "text/plain": [
       "'2.1.0'"
      ]
     },
     "execution_count": 1,
     "metadata": {},
     "output_type": "execute_result"
    }
   ],
   "source": [
    "import os\n",
    "import tensorflow as tf\n",
    "import numpy as np\n",
    "import matplotlib.pyplot as plt\n",
    "from tensorflow.keras.preprocessing.image import ImageDataGenerator\n",
    "\n",
    "from tensorflow.python.client import device_lib\n",
    "\n",
    "print(device_lib.list_local_devices())\n",
    "\n",
    "os.environ['OMP_NUM_THREADS'] = '1'\n",
    "os.environ['CUDA_VISIBLE_DEVICES'] = '-1'\n",
    "tf.__version__"
   ]
  },
  {
   "cell_type": "markdown",
   "metadata": {
    "nbpresent": {
     "id": "66140980-2aa4-457f-b1df-74c10c234cc2"
    }
   },
   "source": [
    "#### Load Image Data"
   ]
  },
  {
   "cell_type": "code",
   "execution_count": 2,
   "metadata": {
    "nbpresent": {
     "id": "58317664-8da3-4283-b3e5-35721687e7ab"
    }
   },
   "outputs": [],
   "source": [
    "DATA_LIST = os.listdir('all/train')\n",
    "DATASET_PATH  = 'all/train'\n",
    "TEST_DIR =  'all/test'\n",
    "IMAGE_SIZE    = (224, 224)\n",
    "NUM_CLASSES   = len(DATA_LIST)\n",
    "BATCH_SIZE    = 10  # try reducing batch size or freeze more layers if your GPU runs out of memory\n",
    "NUM_EPOCHS    = 100\n",
    "LEARNING_RATE = 0.0001 # start off with high rate first 0.001 and experiment with reducing it gradually "
   ]
  },
  {
   "cell_type": "markdown",
   "metadata": {
    "nbpresent": {
     "id": "66140980-2aa4-457f-b1df-74c10c234cc2"
    }
   },
   "source": [
    "#### Generate Training and Validation Batches"
   ]
  },
  {
   "cell_type": "code",
   "execution_count": 3,
   "metadata": {
    "nbpresent": {
     "id": "71760e29-2b08-4259-93f1-ebe68cd74a6d"
    }
   },
   "outputs": [
    {
     "name": "stdout",
     "output_type": "stream",
     "text": [
      "Found 216 images belonging to 4 classes.\n",
      "Found 54 images belonging to 4 classes.\n"
     ]
    },
    {
     "name": "stderr",
     "output_type": "stream",
     "text": [
      "C:\\Users\\tanzi\\Anaconda3\\lib\\site-packages\\keras_preprocessing\\image\\image_data_generator.py:341: UserWarning: This ImageDataGenerator specifies `zca_whitening` which overrides setting of`featurewise_std_normalization`.\n",
      "  warnings.warn('This ImageDataGenerator specifies '\n"
     ]
    }
   ],
   "source": [
    "train_datagen = ImageDataGenerator(rescale=1./255,rotation_range=50,featurewise_center = True,\n",
    "                                   featurewise_std_normalization = True,width_shift_range=0.2,\n",
    "                                   height_shift_range=0.2,shear_range=0.25,zoom_range=0.1,\n",
    "                                   zca_whitening = True,channel_shift_range = 20,\n",
    "                                   horizontal_flip = True,vertical_flip = True,\n",
    "                                   validation_split = 0.2,fill_mode='constant')\n",
    "\n",
    "\n",
    "train_batches = train_datagen.flow_from_directory(DATASET_PATH,target_size=IMAGE_SIZE,\n",
    "                                                  shuffle=True,batch_size=BATCH_SIZE,\n",
    "                                                  subset = \"training\",seed=42,\n",
    "                                                  class_mode=\"categorical\")\n",
    "\n",
    "valid_batches = train_datagen.flow_from_directory(DATASET_PATH,target_size=IMAGE_SIZE,\n",
    "                                                  shuffle=True,batch_size=BATCH_SIZE,\n",
    "                                                  subset = \"validation\",\n",
    "                                                  seed=42,class_mode=\"categorical\")"
   ]
  },
  {
   "cell_type": "markdown",
   "metadata": {
    "nbpresent": {
     "id": "66140980-2aa4-457f-b1df-74c10c234cc2"
    }
   },
   "source": [
    "#### [10 points] Build Model\n",
    "Hint: Starting from a pre-trained model typically helps performance on a new task, e.g. starting with weights obtained by training on ImageNet. "
   ]
  },
  {
   "cell_type": "code",
   "execution_count": 12,
   "metadata": {
    "nbpresent": {
     "id": "5c52eeb2-1092-4d45-9e16-02219c82cb5e"
    }
   },
   "outputs": [
    {
     "name": "stdout",
     "output_type": "stream",
     "text": [
      "Model: \"vgg16\"\n",
      "_________________________________________________________________\n",
      "Layer (type)                 Output Shape              Param #   \n",
      "=================================================================\n",
      "input_2 (InputLayer)         [(None, 224, 224, 3)]     0         \n",
      "_________________________________________________________________\n",
      "block1_conv1 (Conv2D)        (None, 224, 224, 64)      1792      \n",
      "_________________________________________________________________\n",
      "block1_conv2 (Conv2D)        (None, 224, 224, 64)      36928     \n",
      "_________________________________________________________________\n",
      "block1_pool (MaxPooling2D)   (None, 112, 112, 64)      0         \n",
      "_________________________________________________________________\n",
      "block2_conv1 (Conv2D)        (None, 112, 112, 128)     73856     \n",
      "_________________________________________________________________\n",
      "block2_conv2 (Conv2D)        (None, 112, 112, 128)     147584    \n",
      "_________________________________________________________________\n",
      "block2_pool (MaxPooling2D)   (None, 56, 56, 128)       0         \n",
      "_________________________________________________________________\n",
      "block3_conv1 (Conv2D)        (None, 56, 56, 256)       295168    \n",
      "_________________________________________________________________\n",
      "block3_conv2 (Conv2D)        (None, 56, 56, 256)       590080    \n",
      "_________________________________________________________________\n",
      "block3_conv3 (Conv2D)        (None, 56, 56, 256)       590080    \n",
      "_________________________________________________________________\n",
      "block3_pool (MaxPooling2D)   (None, 28, 28, 256)       0         \n",
      "_________________________________________________________________\n",
      "block4_conv1 (Conv2D)        (None, 28, 28, 512)       1180160   \n",
      "_________________________________________________________________\n",
      "block4_conv2 (Conv2D)        (None, 28, 28, 512)       2359808   \n",
      "_________________________________________________________________\n",
      "block4_conv3 (Conv2D)        (None, 28, 28, 512)       2359808   \n",
      "_________________________________________________________________\n",
      "block4_pool (MaxPooling2D)   (None, 14, 14, 512)       0         \n",
      "_________________________________________________________________\n",
      "block5_conv1 (Conv2D)        (None, 14, 14, 512)       2359808   \n",
      "_________________________________________________________________\n",
      "block5_conv2 (Conv2D)        (None, 14, 14, 512)       2359808   \n",
      "_________________________________________________________________\n",
      "block5_conv3 (Conv2D)        (None, 14, 14, 512)       2359808   \n",
      "_________________________________________________________________\n",
      "block5_pool (MaxPooling2D)   (None, 7, 7, 512)         0         \n",
      "=================================================================\n",
      "Total params: 14,714,688\n",
      "Trainable params: 0\n",
      "Non-trainable params: 14,714,688\n",
      "_________________________________________________________________\n",
      "None\n",
      "Model: \"sequential_1\"\n",
      "_________________________________________________________________\n",
      "Layer (type)                 Output Shape              Param #   \n",
      "=================================================================\n",
      "vgg16 (Model)                (None, 7, 7, 512)         14714688  \n",
      "_________________________________________________________________\n",
      "flatten_1 (Flatten)          (None, 25088)             0         \n",
      "_________________________________________________________________\n",
      "dropout_2 (Dropout)          (None, 25088)             0         \n",
      "_________________________________________________________________\n",
      "dense_3 (Dense)              (None, 2048)              51382272  \n",
      "_________________________________________________________________\n",
      "dropout_3 (Dropout)          (None, 2048)              0         \n",
      "_________________________________________________________________\n",
      "dense_4 (Dense)              (None, 512)               1049088   \n",
      "_________________________________________________________________\n",
      "dense_5 (Dense)              (None, 4)                 2052      \n",
      "=================================================================\n",
      "Total params: 67,148,100\n",
      "Trainable params: 52,433,412\n",
      "Non-trainable params: 14,714,688\n",
      "_________________________________________________________________\n",
      "None\n"
     ]
    }
   ],
   "source": [
    "from tensorflow.keras.applications.vgg16 import VGG16\n",
    "\n",
    "vgg_16 = VGG16(\n",
    "    include_top=False,\n",
    "    weights='imagenet',\n",
    "    input_shape=(224, 224, 3),\n",
    "    pooling='None',\n",
    "    classes=NUM_CLASSES\n",
    ")\n",
    "vgg_16.trainable = False\n",
    "print(vgg_16.summary())\n",
    "model = tf.keras.models.Sequential()\n",
    "model.add(vgg_16)\n",
    "model.add(tf.keras.layers.Flatten())\n",
    "model.add(tf.keras.layers.Dropout(0.5))\n",
    "model.add(tf.keras.layers.Dense(2048, activation='relu'))\n",
    "model.add(tf.keras.layers.Dropout(0.4))\n",
    "model.add(tf.keras.layers.Dense(512, activation='relu'))\n",
    "model.add(tf.keras.layers.Dense(4, activation='softmax'))\n",
    "print(model.summary())"
   ]
  },
  {
   "cell_type": "markdown",
   "metadata": {
    "nbpresent": {
     "id": "66140980-2aa4-457f-b1df-74c10c234cc2"
    }
   },
   "source": [
    "#### [5 points] Train Model"
   ]
  },
  {
   "cell_type": "code",
   "execution_count": 13,
   "metadata": {
    "nbpresent": {
     "id": "cdb90d24-6a23-4969-8138-f37e7050062d"
    }
   },
   "outputs": [
    {
     "name": "stdout",
     "output_type": "stream",
     "text": [
      "22\n",
      "6\n",
      "[name: \"/device:CPU:0\"\n",
      "device_type: \"CPU\"\n",
      "memory_limit: 268435456\n",
      "locality {\n",
      "}\n",
      "incarnation: 14503462020301004352\n",
      ", name: \"/device:GPU:0\"\n",
      "device_type: \"GPU\"\n",
      "memory_limit: 4930941747\n",
      "locality {\n",
      "  bus_id: 1\n",
      "  links {\n",
      "  }\n",
      "}\n",
      "incarnation: 15476115882636019213\n",
      "physical_device_desc: \"device: 0, name: GeForce GTX 1060, pci bus id: 0000:01:00.0, compute capability: 6.1\"\n",
      "]\n",
      "WARNING:tensorflow:sample_weight modes were coerced from\n",
      "  ...\n",
      "    to  \n",
      "  ['...']\n"
     ]
    },
    {
     "name": "stderr",
     "output_type": "stream",
     "text": [
      "C:\\Users\\tanzi\\Anaconda3\\lib\\site-packages\\keras_preprocessing\\image\\image_data_generator.py:716: UserWarning: This ImageDataGenerator specifies `featurewise_center`, but it hasn't been fit on any training data. Fit it first by calling `.fit(numpy_data)`.\n",
      "  warnings.warn('This ImageDataGenerator specifies '\n",
      "C:\\Users\\tanzi\\Anaconda3\\lib\\site-packages\\keras_preprocessing\\image\\image_data_generator.py:735: UserWarning: This ImageDataGenerator specifies `zca_whitening`, but it hasn't been fit on any training data. Fit it first by calling `.fit(numpy_data)`.\n",
      "  warnings.warn('This ImageDataGenerator specifies '\n"
     ]
    },
    {
     "name": "stdout",
     "output_type": "stream",
     "text": [
      "WARNING:tensorflow:sample_weight modes were coerced from\n",
      "  ...\n",
      "    to  \n",
      "  ['...']\n",
      "Train for 21 steps, validate for 5 steps\n",
      "Epoch 1/100\n"
     ]
    },
    {
     "name": "stderr",
     "output_type": "stream",
     "text": [
      "C:\\Users\\tanzi\\Anaconda3\\lib\\site-packages\\keras_preprocessing\\image\\image_data_generator.py:716: UserWarning: This ImageDataGenerator specifies `featurewise_center`, but it hasn't been fit on any training data. Fit it first by calling `.fit(numpy_data)`.\n",
      "  warnings.warn('This ImageDataGenerator specifies '\n",
      "C:\\Users\\tanzi\\Anaconda3\\lib\\site-packages\\keras_preprocessing\\image\\image_data_generator.py:735: UserWarning: This ImageDataGenerator specifies `zca_whitening`, but it hasn't been fit on any training data. Fit it first by calling `.fit(numpy_data)`.\n",
      "  warnings.warn('This ImageDataGenerator specifies '\n"
     ]
    },
    {
     "name": "stdout",
     "output_type": "stream",
     "text": [
      "21/21 [==============================] - 7s 325ms/step - loss: 6.0445 - accuracy: 0.2476 - val_loss: 1.3431 - val_accuracy: 0.3200\n",
      "Epoch 2/100\n",
      "21/21 [==============================] - 6s 278ms/step - loss: 2.1155 - accuracy: 0.3447 - val_loss: 1.5230 - val_accuracy: 0.4400\n",
      "Epoch 3/100\n",
      "21/21 [==============================] - 6s 281ms/step - loss: 1.7756 - accuracy: 0.4078 - val_loss: 1.3532 - val_accuracy: 0.3800\n",
      "Epoch 4/100\n",
      "21/21 [==============================] - 6s 277ms/step - loss: 1.3865 - accuracy: 0.4126 - val_loss: 1.1133 - val_accuracy: 0.5400\n",
      "Epoch 5/100\n",
      "21/21 [==============================] - 6s 281ms/step - loss: 1.3550 - accuracy: 0.3738 - val_loss: 1.0384 - val_accuracy: 0.5800\n",
      "Epoch 6/100\n",
      "21/21 [==============================] - 6s 275ms/step - loss: 1.2269 - accuracy: 0.4903 - val_loss: 0.9120 - val_accuracy: 0.6400\n",
      "Epoch 7/100\n",
      "21/21 [==============================] - 6s 283ms/step - loss: 1.2069 - accuracy: 0.4417 - val_loss: 1.0816 - val_accuracy: 0.5000\n",
      "Epoch 8/100\n",
      "21/21 [==============================] - 6s 280ms/step - loss: 1.1639 - accuracy: 0.4466 - val_loss: 1.0842 - val_accuracy: 0.4000\n",
      "Epoch 9/100\n",
      "21/21 [==============================] - 6s 279ms/step - loss: 1.1183 - accuracy: 0.4563 - val_loss: 0.8375 - val_accuracy: 0.6200\n",
      "Epoch 10/100\n",
      "21/21 [==============================] - 6s 278ms/step - loss: 0.9780 - accuracy: 0.5388 - val_loss: 0.7444 - val_accuracy: 0.6800\n",
      "Epoch 11/100\n",
      "21/21 [==============================] - 6s 281ms/step - loss: 1.0271 - accuracy: 0.5825 - val_loss: 0.8477 - val_accuracy: 0.6200\n",
      "Epoch 12/100\n",
      "21/21 [==============================] - 6s 275ms/step - loss: 1.0474 - accuracy: 0.5097 - val_loss: 0.7569 - val_accuracy: 0.6400\n",
      "Epoch 13/100\n",
      "21/21 [==============================] - 6s 282ms/step - loss: 1.0849 - accuracy: 0.5291 - val_loss: 1.0726 - val_accuracy: 0.4400\n",
      "Epoch 14/100\n",
      "21/21 [==============================] - 6s 282ms/step - loss: 0.9866 - accuracy: 0.5680 - val_loss: 0.8077 - val_accuracy: 0.6400\n",
      "Epoch 15/100\n",
      "21/21 [==============================] - 6s 278ms/step - loss: 1.1552 - accuracy: 0.4806 - val_loss: 0.8051 - val_accuracy: 0.7000\n",
      "Epoch 16/100\n",
      "21/21 [==============================] - 6s 279ms/step - loss: 1.0216 - accuracy: 0.5631 - val_loss: 0.7547 - val_accuracy: 0.7000\n",
      "Epoch 17/100\n",
      "21/21 [==============================] - 6s 281ms/step - loss: 0.8971 - accuracy: 0.5534 - val_loss: 0.7254 - val_accuracy: 0.6400\n",
      "Epoch 18/100\n",
      "21/21 [==============================] - 6s 279ms/step - loss: 0.8487 - accuracy: 0.6117 - val_loss: 0.7948 - val_accuracy: 0.5800\n",
      "Epoch 19/100\n",
      "21/21 [==============================] - 6s 280ms/step - loss: 0.9158 - accuracy: 0.5825 - val_loss: 0.6611 - val_accuracy: 0.7200\n",
      "Epoch 20/100\n",
      "21/21 [==============================] - 6s 281ms/step - loss: 0.8394 - accuracy: 0.6359 - val_loss: 0.6734 - val_accuracy: 0.6200\n",
      "Epoch 21/100\n",
      "21/21 [==============================] - 6s 280ms/step - loss: 0.9334 - accuracy: 0.5680 - val_loss: 0.6964 - val_accuracy: 0.6800\n",
      "Epoch 22/100\n",
      "21/21 [==============================] - 6s 285ms/step - loss: 0.8531 - accuracy: 0.6048 - val_loss: 0.7822 - val_accuracy: 0.6400\n",
      "Epoch 23/100\n",
      "21/21 [==============================] - 6s 280ms/step - loss: 0.9596 - accuracy: 0.5583 - val_loss: 0.7723 - val_accuracy: 0.6000\n",
      "Epoch 24/100\n",
      "21/21 [==============================] - 6s 277ms/step - loss: 0.7618 - accuracy: 0.6359 - val_loss: 0.6792 - val_accuracy: 0.6800\n",
      "Epoch 25/100\n",
      "21/21 [==============================] - 6s 281ms/step - loss: 0.8070 - accuracy: 0.6408 - val_loss: 0.7391 - val_accuracy: 0.6200\n",
      "Epoch 26/100\n",
      "21/21 [==============================] - 6s 280ms/step - loss: 0.9441 - accuracy: 0.5583 - val_loss: 0.8108 - val_accuracy: 0.6600\n",
      "Epoch 27/100\n",
      "21/21 [==============================] - 6s 284ms/step - loss: 0.9698 - accuracy: 0.5485 - val_loss: 0.7192 - val_accuracy: 0.6600\n",
      "Epoch 28/100\n",
      "21/21 [==============================] - 6s 282ms/step - loss: 0.8750 - accuracy: 0.5728 - val_loss: 0.7763 - val_accuracy: 0.6000\n",
      "Epoch 29/100\n",
      "21/21 [==============================] - 6s 281ms/step - loss: 0.8840 - accuracy: 0.6165 - val_loss: 0.8552 - val_accuracy: 0.6000\n",
      "Epoch 30/100\n",
      "21/21 [==============================] - 6s 282ms/step - loss: 0.9433 - accuracy: 0.5777 - val_loss: 0.6786 - val_accuracy: 0.6600\n",
      "Epoch 31/100\n",
      "21/21 [==============================] - 6s 282ms/step - loss: 0.8658 - accuracy: 0.6214 - val_loss: 0.8112 - val_accuracy: 0.6600\n",
      "Epoch 32/100\n",
      "21/21 [==============================] - 6s 282ms/step - loss: 0.9864 - accuracy: 0.5825 - val_loss: 0.8753 - val_accuracy: 0.5600\n",
      "Epoch 33/100\n",
      "21/21 [==============================] - 6s 282ms/step - loss: 0.8547 - accuracy: 0.6068 - val_loss: 0.7777 - val_accuracy: 0.6800\n",
      "Epoch 34/100\n",
      "21/21 [==============================] - 6s 293ms/step - loss: 0.8548 - accuracy: 0.5631 - val_loss: 0.8406 - val_accuracy: 0.6400\n",
      "Epoch 35/100\n",
      "21/21 [==============================] - 6s 289ms/step - loss: 0.8129 - accuracy: 0.6553 - val_loss: 0.7925 - val_accuracy: 0.5200\n",
      "Epoch 36/100\n",
      "21/21 [==============================] - 6s 284ms/step - loss: 0.7835 - accuracy: 0.6214 - val_loss: 0.7095 - val_accuracy: 0.6200\n",
      "Epoch 37/100\n",
      "21/21 [==============================] - 6s 288ms/step - loss: 0.7283 - accuracy: 0.6748 - val_loss: 0.6460 - val_accuracy: 0.6800\n",
      "Epoch 38/100\n",
      "21/21 [==============================] - 6s 288ms/step - loss: 0.8007 - accuracy: 0.6165 - val_loss: 0.6727 - val_accuracy: 0.6400\n",
      "Epoch 39/100\n",
      "21/21 [==============================] - 6s 285ms/step - loss: 0.8478 - accuracy: 0.6262 - val_loss: 0.6931 - val_accuracy: 0.6200\n",
      "Epoch 40/100\n",
      "21/21 [==============================] - 6s 282ms/step - loss: 0.7741 - accuracy: 0.6505 - val_loss: 0.8876 - val_accuracy: 0.5000\n",
      "Epoch 41/100\n",
      "21/21 [==============================] - 6s 284ms/step - loss: 0.7961 - accuracy: 0.6408 - val_loss: 0.8320 - val_accuracy: 0.5400\n",
      "Epoch 42/100\n",
      "21/21 [==============================] - 6s 284ms/step - loss: 0.7905 - accuracy: 0.6408 - val_loss: 0.6659 - val_accuracy: 0.7000\n",
      "Epoch 43/100\n",
      "21/21 [==============================] - 6s 279ms/step - loss: 0.7480 - accuracy: 0.6748 - val_loss: 0.7017 - val_accuracy: 0.6400\n",
      "Epoch 44/100\n",
      "21/21 [==============================] - 6s 283ms/step - loss: 0.8860 - accuracy: 0.6165 - val_loss: 0.6351 - val_accuracy: 0.7800\n",
      "Epoch 45/100\n",
      "21/21 [==============================] - 6s 286ms/step - loss: 0.7720 - accuracy: 0.6602 - val_loss: 0.7372 - val_accuracy: 0.6200\n",
      "Epoch 46/100\n",
      "21/21 [==============================] - 6s 278ms/step - loss: 0.8228 - accuracy: 0.6699 - val_loss: 0.6672 - val_accuracy: 0.7000\n",
      "Epoch 47/100\n",
      "21/21 [==============================] - 6s 278ms/step - loss: 0.7088 - accuracy: 0.6650 - val_loss: 0.5671 - val_accuracy: 0.6400\n",
      "Epoch 48/100\n",
      "21/21 [==============================] - 6s 285ms/step - loss: 0.8301 - accuracy: 0.6408 - val_loss: 0.6394 - val_accuracy: 0.6400\n",
      "Epoch 49/100\n",
      "21/21 [==============================] - 6s 289ms/step - loss: 0.8814 - accuracy: 0.6048 - val_loss: 0.8397 - val_accuracy: 0.6400\n",
      "Epoch 50/100\n",
      "21/21 [==============================] - 6s 287ms/step - loss: 0.7970 - accuracy: 0.6165 - val_loss: 0.7439 - val_accuracy: 0.5600\n",
      "Epoch 51/100\n",
      "21/21 [==============================] - 6s 281ms/step - loss: 0.8271 - accuracy: 0.6311 - val_loss: 0.8934 - val_accuracy: 0.5600\n",
      "Epoch 52/100\n",
      "21/21 [==============================] - 6s 285ms/step - loss: 0.7559 - accuracy: 0.6553 - val_loss: 0.7760 - val_accuracy: 0.6600\n",
      "Epoch 53/100\n",
      "21/21 [==============================] - 6s 297ms/step - loss: 0.7675 - accuracy: 0.6505 - val_loss: 0.8225 - val_accuracy: 0.5800\n",
      "Epoch 54/100\n",
      "21/21 [==============================] - 6s 288ms/step - loss: 0.7681 - accuracy: 0.6117 - val_loss: 0.5936 - val_accuracy: 0.7400\n",
      "Epoch 55/100\n",
      "21/21 [==============================] - 6s 283ms/step - loss: 0.7828 - accuracy: 0.6408 - val_loss: 0.6536 - val_accuracy: 0.6600\n",
      "Epoch 56/100\n",
      "21/21 [==============================] - 6s 294ms/step - loss: 0.8087 - accuracy: 0.6262 - val_loss: 0.5372 - val_accuracy: 0.7000\n",
      "Epoch 57/100\n",
      "21/21 [==============================] - 8s 358ms/step - loss: 0.7729 - accuracy: 0.6311 - val_loss: 0.7595 - val_accuracy: 0.6400\n",
      "Epoch 58/100\n"
     ]
    },
    {
     "name": "stdout",
     "output_type": "stream",
     "text": [
      "21/21 [==============================] - 6s 286ms/step - loss: 0.8566 - accuracy: 0.6262 - val_loss: 0.8296 - val_accuracy: 0.6400\n",
      "Epoch 59/100\n",
      "21/21 [==============================] - 6s 297ms/step - loss: 0.8496 - accuracy: 0.6238 - val_loss: 0.6810 - val_accuracy: 0.6600\n",
      "Epoch 60/100\n",
      "21/21 [==============================] - 6s 292ms/step - loss: 0.7190 - accuracy: 0.6165 - val_loss: 0.6651 - val_accuracy: 0.6600\n",
      "Epoch 61/100\n",
      "21/21 [==============================] - 6s 290ms/step - loss: 0.7859 - accuracy: 0.6942 - val_loss: 0.6496 - val_accuracy: 0.7600\n",
      "Epoch 62/100\n",
      "21/21 [==============================] - 6s 290ms/step - loss: 0.7356 - accuracy: 0.6456 - val_loss: 0.6864 - val_accuracy: 0.7000\n",
      "Epoch 63/100\n",
      "21/21 [==============================] - 6s 291ms/step - loss: 0.7939 - accuracy: 0.6359 - val_loss: 0.6282 - val_accuracy: 0.6400\n",
      "Epoch 64/100\n",
      "21/21 [==============================] - 6s 288ms/step - loss: 0.7158 - accuracy: 0.6699 - val_loss: 0.7464 - val_accuracy: 0.6800\n",
      "Epoch 65/100\n",
      "21/21 [==============================] - 6s 291ms/step - loss: 0.8247 - accuracy: 0.6429 - val_loss: 0.9829 - val_accuracy: 0.5200\n",
      "Epoch 66/100\n",
      "21/21 [==============================] - 6s 294ms/step - loss: 0.7839 - accuracy: 0.6359 - val_loss: 0.6325 - val_accuracy: 0.6800\n",
      "Epoch 67/100\n",
      "21/21 [==============================] - 6s 291ms/step - loss: 0.7483 - accuracy: 0.6553 - val_loss: 0.6523 - val_accuracy: 0.6400\n",
      "Epoch 68/100\n",
      "21/21 [==============================] - 6s 288ms/step - loss: 0.7729 - accuracy: 0.6748 - val_loss: 0.6307 - val_accuracy: 0.7000\n",
      "Epoch 69/100\n",
      "21/21 [==============================] - 6s 289ms/step - loss: 0.6953 - accuracy: 0.6748 - val_loss: 0.5402 - val_accuracy: 0.7400\n",
      "Epoch 70/100\n",
      "21/21 [==============================] - 6s 289ms/step - loss: 0.7660 - accuracy: 0.6796 - val_loss: 0.7247 - val_accuracy: 0.6200\n",
      "Epoch 71/100\n",
      "21/21 [==============================] - 6s 281ms/step - loss: 0.7764 - accuracy: 0.6650 - val_loss: 0.6561 - val_accuracy: 0.7000\n",
      "Epoch 72/100\n",
      "21/21 [==============================] - 6s 285ms/step - loss: 0.7523 - accuracy: 0.6699 - val_loss: 0.5493 - val_accuracy: 0.7000\n",
      "Epoch 73/100\n",
      "21/21 [==============================] - 6s 283ms/step - loss: 0.7269 - accuracy: 0.6214 - val_loss: 0.6370 - val_accuracy: 0.7200\n",
      "Epoch 74/100\n",
      "21/21 [==============================] - 6s 284ms/step - loss: 0.8438 - accuracy: 0.6505 - val_loss: 0.6819 - val_accuracy: 0.6600\n",
      "Epoch 75/100\n",
      "21/21 [==============================] - 6s 297ms/step - loss: 0.7665 - accuracy: 0.6857 - val_loss: 0.5875 - val_accuracy: 0.7600\n",
      "Epoch 76/100\n",
      "21/21 [==============================] - 6s 292ms/step - loss: 0.7082 - accuracy: 0.6942 - val_loss: 0.5674 - val_accuracy: 0.7800\n",
      "Epoch 77/100\n",
      "21/21 [==============================] - 6s 288ms/step - loss: 0.6698 - accuracy: 0.6845 - val_loss: 0.6630 - val_accuracy: 0.7000\n",
      "Epoch 78/100\n",
      "21/21 [==============================] - 6s 292ms/step - loss: 0.7726 - accuracy: 0.6942 - val_loss: 0.6371 - val_accuracy: 0.7400\n",
      "Epoch 79/100\n",
      "21/21 [==============================] - 6s 290ms/step - loss: 0.7236 - accuracy: 0.6553 - val_loss: 0.6125 - val_accuracy: 0.6600\n",
      "Epoch 80/100\n",
      "21/21 [==============================] - 6s 292ms/step - loss: 0.7302 - accuracy: 0.6699 - val_loss: 0.6553 - val_accuracy: 0.5800\n",
      "Epoch 81/100\n",
      "21/21 [==============================] - 6s 290ms/step - loss: 0.7654 - accuracy: 0.6214 - val_loss: 0.7414 - val_accuracy: 0.6800\n",
      "Epoch 82/100\n",
      "21/21 [==============================] - 6s 289ms/step - loss: 0.7611 - accuracy: 0.6359 - val_loss: 0.5880 - val_accuracy: 0.7000\n",
      "Epoch 83/100\n",
      "21/21 [==============================] - 6s 294ms/step - loss: 0.8182 - accuracy: 0.6165 - val_loss: 0.6950 - val_accuracy: 0.6600\n",
      "Epoch 84/100\n",
      "21/21 [==============================] - 6s 297ms/step - loss: 0.7455 - accuracy: 0.6359 - val_loss: 0.6070 - val_accuracy: 0.7000\n",
      "Epoch 85/100\n",
      "21/21 [==============================] - 7s 310ms/step - loss: 0.7469 - accuracy: 0.6359 - val_loss: 0.7606 - val_accuracy: 0.6200\n",
      "Epoch 86/100\n",
      "21/21 [==============================] - 6s 304ms/step - loss: 0.8123 - accuracy: 0.6311 - val_loss: 0.7049 - val_accuracy: 0.6600\n",
      "Epoch 87/100\n",
      "21/21 [==============================] - 6s 294ms/step - loss: 0.7085 - accuracy: 0.6796 - val_loss: 0.6682 - val_accuracy: 0.5800\n",
      "Epoch 88/100\n",
      "21/21 [==============================] - 6s 291ms/step - loss: 0.6960 - accuracy: 0.6990 - val_loss: 0.5126 - val_accuracy: 0.8000\n",
      "Epoch 89/100\n",
      "21/21 [==============================] - 6s 291ms/step - loss: 0.7607 - accuracy: 0.6553 - val_loss: 0.5904 - val_accuracy: 0.7400\n",
      "Epoch 90/100\n",
      "21/21 [==============================] - 6s 299ms/step - loss: 0.7927 - accuracy: 0.6553 - val_loss: 0.6515 - val_accuracy: 0.7000\n",
      "Epoch 91/100\n",
      "21/21 [==============================] - 6s 299ms/step - loss: 0.6719 - accuracy: 0.7039 - val_loss: 0.4801 - val_accuracy: 0.7600\n",
      "Epoch 92/100\n",
      "21/21 [==============================] - 6s 292ms/step - loss: 0.7241 - accuracy: 0.6699 - val_loss: 0.6192 - val_accuracy: 0.6800\n",
      "Epoch 93/100\n",
      "21/21 [==============================] - 6s 306ms/step - loss: 0.6923 - accuracy: 0.6699 - val_loss: 0.6101 - val_accuracy: 0.7200\n",
      "Epoch 94/100\n",
      "21/21 [==============================] - 6s 297ms/step - loss: 0.6668 - accuracy: 0.7039 - val_loss: 0.6291 - val_accuracy: 0.7200\n",
      "Epoch 95/100\n",
      "21/21 [==============================] - 6s 292ms/step - loss: 0.7528 - accuracy: 0.6505 - val_loss: 0.6988 - val_accuracy: 0.6600\n",
      "Epoch 96/100\n",
      "21/21 [==============================] - 6s 296ms/step - loss: 0.7896 - accuracy: 0.6408 - val_loss: 0.6732 - val_accuracy: 0.7000\n",
      "Epoch 97/100\n",
      "21/21 [==============================] - 6s 292ms/step - loss: 0.7760 - accuracy: 0.6408 - val_loss: 0.6852 - val_accuracy: 0.6400\n",
      "Epoch 98/100\n",
      "21/21 [==============================] - 6s 296ms/step - loss: 0.7503 - accuracy: 0.6796 - val_loss: 0.6251 - val_accuracy: 0.7800\n",
      "Epoch 99/100\n",
      "21/21 [==============================] - 6s 295ms/step - loss: 0.7468 - accuracy: 0.6602 - val_loss: 0.5887 - val_accuracy: 0.6800\n",
      "Epoch 100/100\n",
      "21/21 [==============================] - 6s 297ms/step - loss: 0.6808 - accuracy: 0.6845 - val_loss: 0.6008 - val_accuracy: 0.6800\n"
     ]
    }
   ],
   "source": [
    "#FIT MODEL\n",
    "print(len(train_batches))\n",
    "print(len(valid_batches))\n",
    "\n",
    "STEP_SIZE_TRAIN=train_batches.n//train_batches.batch_size\n",
    "STEP_SIZE_VALID=valid_batches.n//valid_batches.batch_size\n",
    "\n",
    "model.compile(optimizer='adam',\n",
    "                loss=tf.keras.losses.CategoricalCrossentropy(from_logits=False),\n",
    "                metrics=['accuracy'])\n",
    "\n",
    "print(device_lib.list_local_devices())\n",
    "\n",
    "history = None\n",
    "\n",
    "with tf.device(\"GPU:0\"):\n",
    "    history = model.fit_generator(generator=train_batches, \n",
    "                steps_per_epoch=STEP_SIZE_TRAIN, \n",
    "                epochs=NUM_EPOCHS, \n",
    "                validation_data=(valid_batches),\n",
    "                validation_steps=STEP_SIZE_VALID)"
   ]
  },
  {
   "cell_type": "markdown",
   "metadata": {
    "nbpresent": {
     "id": "66140980-2aa4-457f-b1df-74c10c234cc2"
    }
   },
   "source": [
    "#### [5 points] Plot Accuracy and Loss During Training"
   ]
  },
  {
   "cell_type": "code",
   "execution_count": 15,
   "metadata": {
    "nbpresent": {
     "id": "ff342098-784a-4e20-ac34-b74ca8ebe839"
    }
   },
   "outputs": [
    {
     "data": {
      "text/plain": [
       "<matplotlib.legend.Legend at 0x26292f9bdd8>"
      ]
     },
     "execution_count": 15,
     "metadata": {},
     "output_type": "execute_result"
    },
    {
     "data": {
      "image/png": "[encoded data removed]",
      "text/plain": [
       "<Figure size 432x288 with 1 Axes>"
      ]
     },
     "metadata": {
      "needs_background": "light"
     },
     "output_type": "display_data"
    },
    {
     "data": {
      "image/png": "[encoded data removed]",
      "text/plain": [
       "<Figure size 432x288 with 1 Axes>"
      ]
     },
     "metadata": {
      "needs_background": "light"
     },
     "output_type": "display_data"
    }
   ],
   "source": [
    "import matplotlib.pyplot as plt\n",
    "\n",
    "plt.figure()\n",
    "plt.plot(history.history['accuracy'], label='Train_acc')\n",
    "plt.plot(history.history['val_accuracy'], label='Test_acc')\n",
    "plt.title(\"Accuracy over 100 Epochs\")\n",
    "plt.legend(loc='lower right')\n",
    "\n",
    "plt.figure()\n",
    "plt.plot(history.history['loss'], label='Train_acc')\n",
    "plt.plot(history.history['val_loss'], label='Test_acc')\n",
    "plt.title(\"Loss over 100 Epochs\")\n",
    "plt.legend(loc='upper right')"
   ]
  },
  {
   "cell_type": "markdown",
   "metadata": {
    "nbpresent": {
     "id": "66140980-2aa4-457f-b1df-74c10c234cc2"
    }
   },
   "source": [
    "#### Testing Model"
   ]
  },
  {
   "cell_type": "code",
   "execution_count": 14,
   "metadata": {},
   "outputs": [
    {
     "name": "stdout",
     "output_type": "stream",
     "text": [
      "Found 36 images belonging to 4 classes.\n",
      "36\n",
      "WARNING:tensorflow:sample_weight modes were coerced from\n",
      "  ...\n",
      "    to  \n",
      "  ['...']\n",
      "36/36 [==============================] - 1s 21ms/step - loss: 0.7652 - accuracy: 0.7222\n",
      "Test loss: 0.7651614456279074\n",
      "Test accuracy: 0.7222222\n"
     ]
    }
   ],
   "source": [
    "test_datagen = ImageDataGenerator(rescale=1. / 255)\n",
    "\n",
    "eval_generator = test_datagen.flow_from_directory(TEST_DIR,target_size=IMAGE_SIZE,\n",
    "                                                  batch_size=1,shuffle=True,seed=42,class_mode=\"categorical\")\n",
    "eval_generator.reset()\n",
    "print(len(eval_generator))\n",
    "x = model.evaluate_generator(eval_generator,steps = np.ceil(len(eval_generator)),\n",
    "                           use_multiprocessing = False,verbose = 1,workers=1)\n",
    "print('Test loss:' , x[0])\n",
    "print('Test accuracy:',x[1])"
   ]
  },
  {
   "cell_type": "markdown",
   "metadata": {
    "nbpresent": {
     "id": "66140980-2aa4-457f-b1df-74c10c234cc2"
    }
   },
   "source": [
    "## [10 points] TSNE Plot\n",
    "t-Distributed Stochastic Neighbor Embedding (t-SNE) is a widely used technique for dimensionality reduction that is particularly well suited for the visualization of high-dimensional datasets. After training is complete, extract features from a specific deep layer of your choice, use t-SNE to reduce the dimensionality of your extracted features to 2 dimensions and plot the resulting 2D features."
   ]
  },
  {
   "cell_type": "code",
   "execution_count": 45,
   "metadata": {},
   "outputs": [
    {
     "name": "stdout",
     "output_type": "stream",
     "text": [
      "Found 270 images belonging to 4 classes.\n",
      "270/270 [==============================] - 6s 20ms/step\n"
     ]
    },
    {
     "data": {
      "text/plain": [
       "(-15.0, 18.0)"
      ]
     },
     "execution_count": 45,
     "metadata": {},
     "output_type": "execute_result"
    },
    {
     "data": {
      "image/png": "[encoded data removed]",
      "text/plain": [
       "<Figure size 432x288 with 1 Axes>"
      ]
     },
     "metadata": {
      "needs_background": "light"
     },
     "output_type": "display_data"
    }
   ],
   "source": [
    "from sklearn.manifold import TSNE\n",
    "\n",
    "intermediate_layer_model = tf.keras.models.Model(inputs=model.input,\n",
    "                                        outputs=model.get_layer('dense_4').output)\n",
    "\n",
    "tsne_eval_generator = test_datagen.flow_from_directory(DATASET_PATH,target_size=IMAGE_SIZE,\n",
    "                                                  batch_size=1,shuffle=False,seed=42,class_mode=\"categorical\")\n",
    "\n",
    "outputs = intermediate_layer_model.predict_generator(tsne_eval_generator,270,verbose=1)\n",
    "label = tsne_eval_generator.classes\n",
    "features = TSNE(n_components=2).fit_transform(outputs)\n",
    "\n",
    "COVID_19_value_x, COVID_19_value_y = [], []\n",
    "Normal_value_x, Normal_value_y = [], []\n",
    "Pneumonia_ba_value_x, Pneumonia_ba_value_y = [], []\n",
    "Pneumonia_vir_value_x, Pneumonia_vir_value_y = [], []\n",
    "\n",
    "plt.figure()\n",
    "for index in range(len(features)):\n",
    "    if label[index] == 0:\n",
    "        # COVID\n",
    "        COVID_19_value_x.append(features[index, 0])\n",
    "        COVID_19_value_y.append(features[index, 1])\n",
    "    elif label[index] == 1:\n",
    "        # normal\n",
    "        Normal_value_x.append(features[index, 0])\n",
    "        Normal_value_y.append(features[index, 1])\n",
    "    elif label[index] == 2:\n",
    "        # Pneumonia_bac\n",
    "        Pneumonia_ba_value_x.append(features[index, 0])\n",
    "        Pneumonia_ba_value_y.append(features[index, 1])\n",
    "    elif label[index] == 3:\n",
    "        # Pneumonia_vir\n",
    "        Pneumonia_vir_value_x.append(features[index, 0])\n",
    "        Pneumonia_vir_value_y.append(features[index, 1])\n",
    "\n",
    "plt.scatter(COVID_19_value_x, COVID_19_value_y, s=16., marker='o', label=\"COVID-19\")\n",
    "plt.scatter(Normal_value_x, Normal_value_y, s=16., marker='o', label=\"Normal\")\n",
    "plt.scatter(Pneumonia_ba_value_x, Pneumonia_ba_value_y, s=16., marker='o', label=\"Pneumonia_ba\")\n",
    "plt.scatter(Pneumonia_vir_value_x, Pneumonia_vir_value_y, s=16., marker='o', label=\"Pneumonia_vir\")\n",
    "\n",
    "plt.legend(loc='lower right')\n",
    "plt.xlim([-23.0, 33.0]) \n",
    "plt.ylim([-15.0, 18.0]) "
   ]
  },
  {
   "cell_type": "markdown",
   "metadata": {},
   "source": [
    "<!-- ## Task 2: COVID-19 vs Normal vs Tertiary Pneumonia (Bacterial and Viral) -->"
   ]
  },
  {
   "cell_type": "markdown",
   "metadata": {
    "nbpresent": {
     "id": "66140980-2aa4-457f-b1df-74c10c234cc2"
    }
   },
   "source": [
    "<!-- #### Renew Training Batch and Validation Batch -->"
   ]
  },
  {
   "cell_type": "markdown",
   "metadata": {
    "nbpresent": {
     "id": "66140980-2aa4-457f-b1df-74c10c234cc2"
    }
   },
   "source": [
    "<!-- #### Renew Model -->"
   ]
  }
 ],
 "metadata": {
  "kernelspec": {
   "display_name": "Python 3",
   "language": "python",
   "name": "python3"
  },
  "language_info": {
   "codemirror_mode": {
    "name": "ipython",
    "version": 3
   },
   "file_extension": ".py",
   "mimetype": "text/x-python",
   "name": "python",
   "nbconvert_exporter": "python",
   "pygments_lexer": "ipython3",
   "version": "3.6.9"
  },
  "latex_envs": {
   "LaTeX_envs_menu_present": true,
   "autoclose": false,
   "autocomplete": true,
   "bibliofile": "biblio.bib",
   "cite_by": "apalike",
   "current_citInitial": 1,
   "eqLabelWithNumbers": true,
   "eqNumInitial": 1,
   "hotkeys": {
    "equation": "Ctrl-E",
    "itemize": "Ctrl-I"
   },
   "labels_anchors": false,
   "latex_user_defs": false,
   "report_style_numbering": false,
   "user_envs_cfg": false
  },
  "toc": {
   "base_numbering": 1,
   "nav_menu": {},
   "number_sections": true,
   "sideBar": true,
   "skip_h1_title": false,
   "title_cell": "Table of Contents",
   "title_sidebar": "Contents",
   "toc_cell": false,
   "toc_position": {},
   "toc_section_display": true,
   "toc_window_display": false
  },
  "varInspector": {
   "cols": {
    "lenName": 16,
    "lenType": 16,
    "lenVar": 40
   },
   "kernels_config": {
    "python": {
     "delete_cmd_postfix": "",
     "delete_cmd_prefix": "del ",
     "library": "var_list.py",
     "varRefreshCmd": "print(var_dic_list())"
    },
    "r": {
     "delete_cmd_postfix": ") ",
     "delete_cmd_prefix": "rm(",
     "library": "var_list.r",
     "varRefreshCmd": "cat(var_dic_list()) "
    }
   },
   "types_to_exclude": [
    "module",
    "function",
    "builtin_function_or_method",
    "instance",
    "_Feature"
   ],
   "window_display": false
  }
 },
 "nbformat": 4,
 "nbformat_minor": 4
}
