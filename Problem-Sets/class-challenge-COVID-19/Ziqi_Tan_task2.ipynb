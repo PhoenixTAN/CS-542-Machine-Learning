{
 "cells": [
  {
   "cell_type": "markdown",
   "metadata": {
    "nbpresent": {
     "id": "1d234e3f-af8b-4757-83f3-241b04b7a511"
    }
   },
   "source": [
    "# Class Challenge: Image Classification of COVID-19 X-rays\n",
    "# Task 2 [Total points: 30]"
   ]
  },
  {
   "cell_type": "markdown",
   "metadata": {
    "nbpresent": {
     "id": "b07b9992-b592-4871-9f9a-3b0ae5fa8b5f"
    }
   },
   "source": [
    "## Setup\n",
    "\n",
    "* This assignment involves the following packages: 'matplotlib', 'numpy', and 'sklearn'. \n",
    "\n",
    "* If you are using conda, use the following commands to install the above packages:<br>\n",
    "```shell\n",
    "conda install matplotlib\n",
    "conda install numpy\n",
    "conda install -c anaconda scikit-learn\n",
    "```\n",
    "\n",
    "* If you are using pip, use use the following commands to install the above packages: <br> \n",
    "```shell\n",
    "pip install matplotlib\n",
    "pip install numpy\n",
    "pip install sklearn\n",
    "```"
   ]
  },
  {
   "cell_type": "markdown",
   "metadata": {
    "nbpresent": {
     "id": "5516f610-f00c-43c3-bf19-4cf7ab9c089f"
    }
   },
   "source": [
    "## Data\n",
    "\n",
    "Please download the data using the following link: [COVID-19](https://drive.google.com/file/d/1Y88tgqpQ1Pjko_7rntcPowOJs_QNOrJ-/view). \n",
    "\n",
    "* After downloading 'Covid_Data_GradientCrescent.zip', unzip the file and you should see the following data structure:\n",
    "\n",
    "\n",
    "|--all<br>\n",
    "|--------train<br>\n",
    "|--------test<br>\n",
    "|--two<br>\n",
    "|--------train<br>\n",
    "|--------test<br>\n",
    "\n",
    "\n",
    "* Put the 'all' folder, the 'two' folder and this python notebook in the **same directory** so that the following code can correctly locate the data.  \n",
    "\n"
   ]
  },
  {
   "cell_type": "markdown",
   "metadata": {
    "nbpresent": {
     "id": "66140980-2aa4-457f-b1df-74c10c234cc2"
    }
   },
   "source": [
    "## [20 points] Multi-class Classification"
   ]
  },
  {
   "cell_type": "code",
   "execution_count": 1,
   "metadata": {
    "nbpresent": {
     "id": "5e05f980-3d14-4367-b3d1-664249145b13"
    },
    "scrolled": true
   },
   "outputs": [
    {
     "name": "stdout",
     "output_type": "stream",
     "text": [
      "[name: \"/device:CPU:0\"\n",
      "device_type: \"CPU\"\n",
      "memory_limit: 268435456\n",
      "locality {\n",
      "}\n",
      "incarnation: 2772461128164207254\n",
      ", name: \"/device:GPU:0\"\n",
      "device_type: \"GPU\"\n",
      "memory_limit: 4930941747\n",
      "locality {\n",
      "  bus_id: 1\n",
      "  links {\n",
      "  }\n",
      "}\n",
      "incarnation: 18001219037859314738\n",
      "physical_device_desc: \"device: 0, name: GeForce GTX 1060, pci bus id: 0000:01:00.0, compute capability: 6.1\"\n",
      "]\n"
     ]
    },
    {
     "data": {
      "text/plain": [
       "'2.1.0'"
      ]
     },
     "execution_count": 1,
     "metadata": {},
     "output_type": "execute_result"
    }
   ],
   "source": [
    "import os\n",
    "\n",
    "import tensorflow as tf\n",
    "import numpy as np\n",
    "import matplotlib.pyplot as plt\n",
    "from tensorflow.keras.preprocessing.image import ImageDataGenerator\n",
    "\n",
    "from tensorflow.python.client import device_lib\n",
    "print(device_lib.list_local_devices())\n",
    "\n",
    "os.environ['OMP_NUM_THREADS'] = '1'\n",
    "os.environ['CUDA_VISIBLE_DEVICES'] = '-1'\n",
    "tf.__version__"
   ]
  },
  {
   "cell_type": "markdown",
   "metadata": {
    "nbpresent": {
     "id": "66140980-2aa4-457f-b1df-74c10c234cc2"
    }
   },
   "source": [
    "#### Load Image Data"
   ]
  },
  {
   "cell_type": "code",
   "execution_count": 2,
   "metadata": {
    "nbpresent": {
     "id": "58317664-8da3-4283-b3e5-35721687e7ab"
    }
   },
   "outputs": [],
   "source": [
    "DATA_LIST = os.listdir('all/train')\n",
    "DATASET_PATH  = 'all/train'\n",
    "TEST_DIR =  'all/test'\n",
    "IMAGE_SIZE    = (224, 224)\n",
    "NUM_CLASSES   = len(DATA_LIST)\n",
    "BATCH_SIZE    = 10  # try reducing batch size or freeze more layers if your GPU runs out of memory\n",
    "NUM_EPOCHS    = 100\n",
    "LEARNING_RATE = 0.0001 # start off with high rate first 0.001 and experiment with reducing it gradually "
   ]
  },
  {
   "cell_type": "markdown",
   "metadata": {
    "nbpresent": {
     "id": "66140980-2aa4-457f-b1df-74c10c234cc2"
    }
   },
   "source": [
    "#### Generate Training and Validation Batches"
   ]
  },
  {
   "cell_type": "code",
   "execution_count": 3,
   "metadata": {
    "nbpresent": {
     "id": "71760e29-2b08-4259-93f1-ebe68cd74a6d"
    }
   },
   "outputs": [
    {
     "name": "stdout",
     "output_type": "stream",
     "text": [
      "Found 216 images belonging to 4 classes.\n",
      "Found 54 images belonging to 4 classes.\n"
     ]
    },
    {
     "name": "stderr",
     "output_type": "stream",
     "text": [
      "C:\\Users\\tanzi\\Anaconda3\\lib\\site-packages\\keras_preprocessing\\image\\image_data_generator.py:341: UserWarning: This ImageDataGenerator specifies `zca_whitening` which overrides setting of`featurewise_std_normalization`.\n",
      "  warnings.warn('This ImageDataGenerator specifies '\n"
     ]
    }
   ],
   "source": [
    "train_datagen = ImageDataGenerator(rescale=1./255,rotation_range=50,featurewise_center = True,\n",
    "                                   featurewise_std_normalization = True,width_shift_range=0.2,\n",
    "                                   height_shift_range=0.2,shear_range=0.25,zoom_range=0.1,\n",
    "                                   zca_whitening = True,channel_shift_range = 20,\n",
    "                                   horizontal_flip = True,vertical_flip = True,\n",
    "                                   validation_split = 0.2,fill_mode='constant')\n",
    "\n",
    "\n",
    "train_batches = train_datagen.flow_from_directory(DATASET_PATH,target_size=IMAGE_SIZE,\n",
    "                                                  shuffle=True,batch_size=BATCH_SIZE,\n",
    "                                                  subset = \"training\",seed=42,\n",
    "                                                  class_mode=\"categorical\")\n",
    "\n",
    "valid_batches = train_datagen.flow_from_directory(DATASET_PATH,target_size=IMAGE_SIZE,\n",
    "                                                  shuffle=True,batch_size=BATCH_SIZE,\n",
    "                                                  subset = \"validation\",\n",
    "                                                  seed=42,class_mode=\"categorical\")"
   ]
  },
  {
   "cell_type": "markdown",
   "metadata": {
    "nbpresent": {
     "id": "66140980-2aa4-457f-b1df-74c10c234cc2"
    }
   },
   "source": [
    "#### [10 points] Build Model\n",
    "Hint: Starting from a pre-trained model typically helps performance on a new task, e.g. starting with weights obtained by training on ImageNet. "
   ]
  },
  {
   "cell_type": "code",
   "execution_count": 4,
   "metadata": {
    "nbpresent": {
     "id": "5c52eeb2-1092-4d45-9e16-02219c82cb5e"
    }
   },
   "outputs": [
    {
     "name": "stdout",
     "output_type": "stream",
     "text": [
      "Model: \"sequential\"\n",
      "_________________________________________________________________\n",
      "Layer (type)                 Output Shape              Param #   \n",
      "=================================================================\n",
      "vgg16 (Model)                (None, 7, 7, 512)         14714688  \n",
      "_________________________________________________________________\n",
      "flatten (Flatten)            (None, 25088)             0         \n",
      "_________________________________________________________________\n",
      "dense (Dense)                (None, 256)               6422784   \n",
      "_________________________________________________________________\n",
      "dropout (Dropout)            (None, 256)               0         \n",
      "_________________________________________________________________\n",
      "dense_1 (Dense)              (None, 4)                 1028      \n",
      "=================================================================\n",
      "Total params: 21,138,500\n",
      "Trainable params: 6,423,812\n",
      "Non-trainable params: 14,714,688\n",
      "_________________________________________________________________\n"
     ]
    }
   ],
   "source": [
    "# raise NotImplementedError(\"Build your model based on an architecture of your choice \"\n",
    "#                           \"A sample model summary is shown below\")\n",
    "\n",
    "# Implement VGG16\n",
    "from tensorflow.keras.applications import VGG16\n",
    "from tensorflow.keras.layers import Flatten, Dense, Dropout\n",
    "from tensorflow.keras.models import Sequential\n",
    "\n",
    "vgg_16 = VGG16(include_top=False, weights='imagenet', input_shape=(224, 224, 3), pooling='None', classes=4)\n",
    "            \n",
    "vgg_16.trainable = False\n",
    "\n",
    "covid_model = Sequential()\n",
    "covid_model.add(vgg_16)\n",
    "covid_model.add(Flatten())\n",
    "covid_model.add(Dense(256, activation='relu'))\n",
    "covid_model.add(Dropout(0.5))\n",
    "covid_model.add(Dense(4, activation=None))\n",
    "\n",
    "covid_model.build(input_shape=(224, 224, 3))\n",
    "covid_model.summary()"
   ]
  },
  {
   "cell_type": "markdown",
   "metadata": {
    "nbpresent": {
     "id": "66140980-2aa4-457f-b1df-74c10c234cc2"
    }
   },
   "source": [
    "#### [5 points] Train Model"
   ]
  },
  {
   "cell_type": "code",
   "execution_count": 5,
   "metadata": {
    "nbpresent": {
     "id": "cdb90d24-6a23-4969-8138-f37e7050062d"
    },
    "scrolled": false
   },
   "outputs": [
    {
     "name": "stdout",
     "output_type": "stream",
     "text": [
      "22\n",
      "6\n",
      "[name: \"/device:CPU:0\"\n",
      "device_type: \"CPU\"\n",
      "memory_limit: 268435456\n",
      "locality {\n",
      "}\n",
      "incarnation: 3433947137377466843\n",
      ", name: \"/device:GPU:0\"\n",
      "device_type: \"GPU\"\n",
      "memory_limit: 4930941747\n",
      "locality {\n",
      "  bus_id: 1\n",
      "  links {\n",
      "  }\n",
      "}\n",
      "incarnation: 17725556047565149100\n",
      "physical_device_desc: \"device: 0, name: GeForce GTX 1060, pci bus id: 0000:01:00.0, compute capability: 6.1\"\n",
      "]\n",
      "WARNING:tensorflow:sample_weight modes were coerced from\n",
      "  ...\n",
      "    to  \n",
      "  ['...']\n"
     ]
    },
    {
     "name": "stderr",
     "output_type": "stream",
     "text": [
      "C:\\Users\\tanzi\\Anaconda3\\lib\\site-packages\\keras_preprocessing\\image\\image_data_generator.py:716: UserWarning: This ImageDataGenerator specifies `featurewise_center`, but it hasn't been fit on any training data. Fit it first by calling `.fit(numpy_data)`.\n",
      "  warnings.warn('This ImageDataGenerator specifies '\n",
      "C:\\Users\\tanzi\\Anaconda3\\lib\\site-packages\\keras_preprocessing\\image\\image_data_generator.py:735: UserWarning: This ImageDataGenerator specifies `zca_whitening`, but it hasn't been fit on any training data. Fit it first by calling `.fit(numpy_data)`.\n",
      "  warnings.warn('This ImageDataGenerator specifies '\n"
     ]
    },
    {
     "name": "stdout",
     "output_type": "stream",
     "text": [
      "WARNING:tensorflow:sample_weight modes were coerced from\n",
      "  ...\n",
      "    to  \n",
      "  ['...']\n",
      "Train for 22 steps, validate for 6 steps\n",
      "Epoch 1/100\n"
     ]
    },
    {
     "name": "stderr",
     "output_type": "stream",
     "text": [
      "C:\\Users\\tanzi\\Anaconda3\\lib\\site-packages\\keras_preprocessing\\image\\image_data_generator.py:716: UserWarning: This ImageDataGenerator specifies `featurewise_center`, but it hasn't been fit on any training data. Fit it first by calling `.fit(numpy_data)`.\n",
      "  warnings.warn('This ImageDataGenerator specifies '\n",
      "C:\\Users\\tanzi\\Anaconda3\\lib\\site-packages\\keras_preprocessing\\image\\image_data_generator.py:735: UserWarning: This ImageDataGenerator specifies `zca_whitening`, but it hasn't been fit on any training data. Fit it first by calling `.fit(numpy_data)`.\n",
      "  warnings.warn('This ImageDataGenerator specifies '\n"
     ]
    },
    {
     "name": "stdout",
     "output_type": "stream",
     "text": [
      "22/22 [==============================] - 8s 370ms/step - loss: 4.8511 - accuracy: 0.2731 - val_loss: 1.2242 - val_accuracy: 0.5000\n",
      "Epoch 2/100\n",
      "22/22 [==============================] - 6s 288ms/step - loss: 1.6313 - accuracy: 0.3935 - val_loss: 1.0937 - val_accuracy: 0.5370\n",
      "Epoch 3/100\n",
      "22/22 [==============================] - 6s 286ms/step - loss: 1.2602 - accuracy: 0.3935 - val_loss: 1.1067 - val_accuracy: 0.4815\n",
      "Epoch 4/100\n",
      "22/22 [==============================] - 6s 285ms/step - loss: 1.2239 - accuracy: 0.4306 - val_loss: 0.9923 - val_accuracy: 0.6481\n",
      "Epoch 5/100\n",
      "22/22 [==============================] - 6s 294ms/step - loss: 1.1628 - accuracy: 0.4722 - val_loss: 1.0514 - val_accuracy: 0.5000\n",
      "Epoch 6/100\n",
      "22/22 [==============================] - 6s 288ms/step - loss: 1.2311 - accuracy: 0.3796 - val_loss: 1.0110 - val_accuracy: 0.5000\n",
      "Epoch 7/100\n",
      "22/22 [==============================] - 6s 289ms/step - loss: 1.1410 - accuracy: 0.4676 - val_loss: 0.9954 - val_accuracy: 0.5556\n",
      "Epoch 8/100\n",
      "22/22 [==============================] - 6s 288ms/step - loss: 1.0962 - accuracy: 0.4352 - val_loss: 0.9587 - val_accuracy: 0.5556\n",
      "Epoch 9/100\n",
      "22/22 [==============================] - 7s 296ms/step - loss: 1.1087 - accuracy: 0.4769 - val_loss: 0.9359 - val_accuracy: 0.6481\n",
      "Epoch 10/100\n",
      "22/22 [==============================] - 6s 289ms/step - loss: 1.1044 - accuracy: 0.4583 - val_loss: 0.9609 - val_accuracy: 0.5185\n",
      "Epoch 11/100\n",
      "22/22 [==============================] - 6s 294ms/step - loss: 1.0963 - accuracy: 0.4676 - val_loss: 0.8400 - val_accuracy: 0.6667\n",
      "Epoch 12/100\n",
      "22/22 [==============================] - 7s 298ms/step - loss: 1.0291 - accuracy: 0.4954 - val_loss: 0.9439 - val_accuracy: 0.5741\n",
      "Epoch 13/100\n",
      "22/22 [==============================] - 7s 296ms/step - loss: 1.0801 - accuracy: 0.5000 - val_loss: 0.8642 - val_accuracy: 0.6296\n",
      "Epoch 14/100\n",
      "22/22 [==============================] - 6s 291ms/step - loss: 0.9893 - accuracy: 0.5185 - val_loss: 0.7579 - val_accuracy: 0.5741\n",
      "Epoch 15/100\n",
      "22/22 [==============================] - 7s 298ms/step - loss: 0.9824 - accuracy: 0.5046 - val_loss: 0.8329 - val_accuracy: 0.5926\n",
      "Epoch 16/100\n",
      "22/22 [==============================] - 7s 306ms/step - loss: 1.0407 - accuracy: 0.5509 - val_loss: 0.8408 - val_accuracy: 0.7222\n",
      "Epoch 17/100\n",
      "22/22 [==============================] - 7s 300ms/step - loss: 1.0880 - accuracy: 0.4630 - val_loss: 0.9714 - val_accuracy: 0.5556\n",
      "Epoch 18/100\n",
      "22/22 [==============================] - 7s 297ms/step - loss: 1.0120 - accuracy: 0.5741 - val_loss: 0.8882 - val_accuracy: 0.6296\n",
      "Epoch 19/100\n",
      "22/22 [==============================] - 7s 302ms/step - loss: 1.0502 - accuracy: 0.5093 - val_loss: 0.8755 - val_accuracy: 0.6111\n",
      "Epoch 20/100\n",
      "22/22 [==============================] - 7s 302ms/step - loss: 1.0393 - accuracy: 0.4722 - val_loss: 0.8271 - val_accuracy: 0.5926\n",
      "Epoch 21/100\n",
      "22/22 [==============================] - 7s 297ms/step - loss: 0.9965 - accuracy: 0.5231 - val_loss: 0.9182 - val_accuracy: 0.6111\n",
      "Epoch 22/100\n",
      "22/22 [==============================] - 7s 304ms/step - loss: 0.9993 - accuracy: 0.5185 - val_loss: 0.8324 - val_accuracy: 0.6296\n",
      "Epoch 23/100\n",
      "22/22 [==============================] - 7s 303ms/step - loss: 1.0086 - accuracy: 0.4954 - val_loss: 0.8174 - val_accuracy: 0.6667\n",
      "Epoch 24/100\n",
      "22/22 [==============================] - 7s 314ms/step - loss: 1.0418 - accuracy: 0.4907 - val_loss: 0.6887 - val_accuracy: 0.5926\n",
      "Epoch 25/100\n",
      "22/22 [==============================] - 7s 326ms/step - loss: 1.0197 - accuracy: 0.5139 - val_loss: 0.8611 - val_accuracy: 0.5741\n",
      "Epoch 26/100\n",
      "22/22 [==============================] - 7s 301ms/step - loss: 0.9650 - accuracy: 0.5000 - val_loss: 0.7261 - val_accuracy: 0.6852\n",
      "Epoch 27/100\n",
      "22/22 [==============================] - 6s 295ms/step - loss: 0.9542 - accuracy: 0.5093 - val_loss: 0.7407 - val_accuracy: 0.6852\n",
      "Epoch 28/100\n",
      "22/22 [==============================] - 6s 295ms/step - loss: 0.9825 - accuracy: 0.5648 - val_loss: 0.8056 - val_accuracy: 0.6111\n",
      "Epoch 29/100\n",
      "22/22 [==============================] - 7s 296ms/step - loss: 1.0681 - accuracy: 0.4861 - val_loss: 0.9639 - val_accuracy: 0.5370\n",
      "Epoch 30/100\n",
      "22/22 [==============================] - 7s 299ms/step - loss: 1.0569 - accuracy: 0.5093 - val_loss: 0.9303 - val_accuracy: 0.5741\n",
      "Epoch 31/100\n",
      "22/22 [==============================] - 7s 297ms/step - loss: 0.9775 - accuracy: 0.5278 - val_loss: 0.8417 - val_accuracy: 0.6296\n",
      "Epoch 32/100\n",
      "22/22 [==============================] - 6s 295ms/step - loss: 0.9397 - accuracy: 0.5278 - val_loss: 0.7251 - val_accuracy: 0.6111\n",
      "Epoch 33/100\n",
      "22/22 [==============================] - 7s 296ms/step - loss: 0.9375 - accuracy: 0.5278 - val_loss: 0.7863 - val_accuracy: 0.5926\n",
      "Epoch 34/100\n",
      "22/22 [==============================] - 7s 299ms/step - loss: 0.9768 - accuracy: 0.5370 - val_loss: 0.8074 - val_accuracy: 0.7037\n",
      "Epoch 35/100\n",
      "22/22 [==============================] - 6s 292ms/step - loss: 0.9271 - accuracy: 0.5602 - val_loss: 0.7074 - val_accuracy: 0.6481\n",
      "Epoch 36/100\n",
      "22/22 [==============================] - 7s 301ms/step - loss: 1.0232 - accuracy: 0.5185 - val_loss: 0.7765 - val_accuracy: 0.7037\n",
      "Epoch 37/100\n",
      "22/22 [==============================] - 7s 302ms/step - loss: 0.9771 - accuracy: 0.5556 - val_loss: 0.6614 - val_accuracy: 0.6667\n",
      "Epoch 38/100\n",
      "22/22 [==============================] - 7s 304ms/step - loss: 0.9814 - accuracy: 0.5139 - val_loss: 0.8263 - val_accuracy: 0.6667\n",
      "Epoch 39/100\n",
      "22/22 [==============================] - 7s 301ms/step - loss: 0.9503 - accuracy: 0.5417 - val_loss: 0.9036 - val_accuracy: 0.6111\n",
      "Epoch 40/100\n",
      "22/22 [==============================] - 7s 298ms/step - loss: 0.9643 - accuracy: 0.5139 - val_loss: 0.8376 - val_accuracy: 0.6852\n",
      "Epoch 41/100\n",
      "22/22 [==============================] - 7s 315ms/step - loss: 1.0142 - accuracy: 0.4676 - val_loss: 0.8209 - val_accuracy: 0.6111\n",
      "Epoch 42/100\n",
      "22/22 [==============================] - 7s 319ms/step - loss: 0.9351 - accuracy: 0.5509 - val_loss: 0.6730 - val_accuracy: 0.6852\n",
      "Epoch 43/100\n",
      "22/22 [==============================] - 8s 348ms/step - loss: 0.9460 - accuracy: 0.5231 - val_loss: 0.7584 - val_accuracy: 0.6667\n",
      "Epoch 44/100\n",
      "22/22 [==============================] - 7s 328ms/step - loss: 0.8825 - accuracy: 0.5648 - val_loss: 0.6711 - val_accuracy: 0.6481\n",
      "Epoch 45/100\n",
      "22/22 [==============================] - 7s 323ms/step - loss: 0.9281 - accuracy: 0.5046 - val_loss: 0.6411 - val_accuracy: 0.7037\n",
      "Epoch 46/100\n",
      "22/22 [==============================] - 7s 306ms/step - loss: 0.9666 - accuracy: 0.4815 - val_loss: 0.7728 - val_accuracy: 0.6111\n",
      "Epoch 47/100\n",
      "22/22 [==============================] - 7s 308ms/step - loss: 0.9812 - accuracy: 0.5093 - val_loss: 0.7904 - val_accuracy: 0.6296\n",
      "Epoch 48/100\n",
      "22/22 [==============================] - 7s 308ms/step - loss: 0.8865 - accuracy: 0.5602 - val_loss: 0.8185 - val_accuracy: 0.6667\n",
      "Epoch 49/100\n",
      "22/22 [==============================] - 7s 314ms/step - loss: 0.9432 - accuracy: 0.5509 - val_loss: 0.8490 - val_accuracy: 0.6111\n",
      "Epoch 50/100\n",
      "22/22 [==============================] - 7s 334ms/step - loss: 0.9804 - accuracy: 0.4861 - val_loss: 0.6946 - val_accuracy: 0.6667\n",
      "Epoch 51/100\n",
      "22/22 [==============================] - 7s 328ms/step - loss: 0.8807 - accuracy: 0.5278 - val_loss: 0.9127 - val_accuracy: 0.6111\n",
      "Epoch 52/100\n",
      "22/22 [==============================] - 7s 325ms/step - loss: 0.8715 - accuracy: 0.5787 - val_loss: 0.7179 - val_accuracy: 0.6296\n",
      "Epoch 53/100\n",
      "22/22 [==============================] - 7s 325ms/step - loss: 0.8753 - accuracy: 0.5602 - val_loss: 0.7063 - val_accuracy: 0.7222\n",
      "Epoch 54/100\n",
      "22/22 [==============================] - 7s 324ms/step - loss: 0.8316 - accuracy: 0.5694 - val_loss: 0.6304 - val_accuracy: 0.7037\n",
      "Epoch 55/100\n",
      "22/22 [==============================] - 7s 323ms/step - loss: 0.8527 - accuracy: 0.6296 - val_loss: 0.7825 - val_accuracy: 0.5926\n",
      "Epoch 56/100\n",
      "22/22 [==============================] - 7s 321ms/step - loss: 0.9622 - accuracy: 0.4954 - val_loss: 0.7470 - val_accuracy: 0.7222\n",
      "Epoch 57/100\n",
      "22/22 [==============================] - 7s 320ms/step - loss: 0.8976 - accuracy: 0.5833 - val_loss: 0.6948 - val_accuracy: 0.6852\n",
      "Epoch 58/100\n"
     ]
    },
    {
     "name": "stdout",
     "output_type": "stream",
     "text": [
      "22/22 [==============================] - 7s 326ms/step - loss: 0.8916 - accuracy: 0.5463 - val_loss: 0.7288 - val_accuracy: 0.6481\n",
      "Epoch 59/100\n",
      "22/22 [==============================] - 7s 320ms/step - loss: 0.9245 - accuracy: 0.5093 - val_loss: 0.7571 - val_accuracy: 0.5370\n",
      "Epoch 60/100\n",
      "22/22 [==============================] - 7s 324ms/step - loss: 0.9628 - accuracy: 0.5324 - val_loss: 0.6778 - val_accuracy: 0.6111\n",
      "Epoch 61/100\n",
      "22/22 [==============================] - 8s 365ms/step - loss: 0.8625 - accuracy: 0.6065 - val_loss: 0.6234 - val_accuracy: 0.6852\n",
      "Epoch 62/100\n",
      "22/22 [==============================] - 8s 366ms/step - loss: 0.9193 - accuracy: 0.5509 - val_loss: 0.6999 - val_accuracy: 0.6852\n",
      "Epoch 63/100\n",
      "22/22 [==============================] - 7s 320ms/step - loss: 0.8933 - accuracy: 0.5602 - val_loss: 0.6357 - val_accuracy: 0.6481\n",
      "Epoch 64/100\n",
      "22/22 [==============================] - 7s 323ms/step - loss: 0.8873 - accuracy: 0.5324 - val_loss: 0.6685 - val_accuracy: 0.7222\n",
      "Epoch 65/100\n",
      "22/22 [==============================] - 7s 324ms/step - loss: 0.9079 - accuracy: 0.5602 - val_loss: 0.7540 - val_accuracy: 0.6667\n",
      "Epoch 66/100\n",
      "22/22 [==============================] - 7s 320ms/step - loss: 0.8987 - accuracy: 0.5278 - val_loss: 0.7102 - val_accuracy: 0.6111\n",
      "Epoch 67/100\n",
      "22/22 [==============================] - 7s 312ms/step - loss: 0.9409 - accuracy: 0.5463 - val_loss: 0.7120 - val_accuracy: 0.6667\n",
      "Epoch 68/100\n",
      "22/22 [==============================] - 7s 321ms/step - loss: 0.9208 - accuracy: 0.5648 - val_loss: 0.6535 - val_accuracy: 0.6852\n",
      "Epoch 69/100\n",
      "22/22 [==============================] - 7s 322ms/step - loss: 0.8994 - accuracy: 0.5648 - val_loss: 0.5978 - val_accuracy: 0.6667\n",
      "Epoch 70/100\n",
      "22/22 [==============================] - 7s 315ms/step - loss: 0.8424 - accuracy: 0.5648 - val_loss: 0.6767 - val_accuracy: 0.7037\n",
      "Epoch 71/100\n",
      "22/22 [==============================] - 7s 323ms/step - loss: 0.8992 - accuracy: 0.5926 - val_loss: 0.6960 - val_accuracy: 0.6852\n",
      "Epoch 72/100\n",
      "22/22 [==============================] - 7s 335ms/step - loss: 0.9474 - accuracy: 0.6065 - val_loss: 0.6343 - val_accuracy: 0.6667\n",
      "Epoch 73/100\n",
      "22/22 [==============================] - 7s 308ms/step - loss: 0.8809 - accuracy: 0.5602 - val_loss: 0.5805 - val_accuracy: 0.6852\n",
      "Epoch 74/100\n",
      "22/22 [==============================] - 7s 314ms/step - loss: 0.8142 - accuracy: 0.5880 - val_loss: 0.6377 - val_accuracy: 0.6852\n",
      "Epoch 75/100\n",
      "22/22 [==============================] - 7s 319ms/step - loss: 0.8536 - accuracy: 0.5926 - val_loss: 0.7491 - val_accuracy: 0.6667\n",
      "Epoch 76/100\n",
      "22/22 [==============================] - 7s 299ms/step - loss: 0.8461 - accuracy: 0.6065 - val_loss: 0.6774 - val_accuracy: 0.6111\n",
      "Epoch 77/100\n",
      "22/22 [==============================] - 7s 305ms/step - loss: 0.9030 - accuracy: 0.5231 - val_loss: 0.6886 - val_accuracy: 0.7037\n",
      "Epoch 78/100\n",
      "22/22 [==============================] - 7s 309ms/step - loss: 0.8877 - accuracy: 0.6157 - val_loss: 0.6622 - val_accuracy: 0.6667\n",
      "Epoch 79/100\n",
      "22/22 [==============================] - 7s 302ms/step - loss: 0.8331 - accuracy: 0.5833 - val_loss: 0.5910 - val_accuracy: 0.6481\n",
      "Epoch 80/100\n",
      "22/22 [==============================] - 7s 307ms/step - loss: 0.8761 - accuracy: 0.5741 - val_loss: 0.7219 - val_accuracy: 0.6667\n",
      "Epoch 81/100\n",
      "22/22 [==============================] - 7s 312ms/step - loss: 0.8677 - accuracy: 0.5926 - val_loss: 0.7300 - val_accuracy: 0.7222\n",
      "Epoch 82/100\n",
      "22/22 [==============================] - 7s 305ms/step - loss: 0.9438 - accuracy: 0.5463 - val_loss: 0.6748 - val_accuracy: 0.6852\n",
      "Epoch 83/100\n",
      "22/22 [==============================] - 7s 298ms/step - loss: 0.9602 - accuracy: 0.5093 - val_loss: 0.8309 - val_accuracy: 0.5741\n",
      "Epoch 84/100\n",
      "22/22 [==============================] - 7s 310ms/step - loss: 0.9194 - accuracy: 0.5278 - val_loss: 0.7058 - val_accuracy: 0.6667\n",
      "Epoch 85/100\n",
      "22/22 [==============================] - 7s 308ms/step - loss: 0.8596 - accuracy: 0.6065 - val_loss: 0.6609 - val_accuracy: 0.6481\n",
      "Epoch 86/100\n",
      "22/22 [==============================] - 7s 307ms/step - loss: 0.8530 - accuracy: 0.5880 - val_loss: 0.7915 - val_accuracy: 0.6111\n",
      "Epoch 87/100\n",
      "22/22 [==============================] - 7s 309ms/step - loss: 0.8814 - accuracy: 0.5926 - val_loss: 0.6406 - val_accuracy: 0.6481\n",
      "Epoch 88/100\n",
      "22/22 [==============================] - 7s 315ms/step - loss: 0.7808 - accuracy: 0.6389 - val_loss: 0.6562 - val_accuracy: 0.7037\n",
      "Epoch 89/100\n",
      "22/22 [==============================] - 7s 309ms/step - loss: 0.8386 - accuracy: 0.5648 - val_loss: 0.6456 - val_accuracy: 0.6481\n",
      "Epoch 90/100\n",
      "22/22 [==============================] - 7s 312ms/step - loss: 0.8038 - accuracy: 0.6157 - val_loss: 0.7438 - val_accuracy: 0.6296\n",
      "Epoch 91/100\n",
      "22/22 [==============================] - 7s 305ms/step - loss: 0.8511 - accuracy: 0.5833 - val_loss: 0.6229 - val_accuracy: 0.5926\n",
      "Epoch 92/100\n",
      "22/22 [==============================] - 7s 306ms/step - loss: 0.8304 - accuracy: 0.5787 - val_loss: 0.6302 - val_accuracy: 0.6481\n",
      "Epoch 93/100\n",
      "22/22 [==============================] - 7s 301ms/step - loss: 0.8893 - accuracy: 0.6111 - val_loss: 0.6399 - val_accuracy: 0.7037\n",
      "Epoch 94/100\n",
      "22/22 [==============================] - 7s 307ms/step - loss: 0.8064 - accuracy: 0.5972 - val_loss: 0.6052 - val_accuracy: 0.7222\n",
      "Epoch 95/100\n",
      "22/22 [==============================] - 7s 302ms/step - loss: 0.8476 - accuracy: 0.5602 - val_loss: 0.6305 - val_accuracy: 0.6296\n",
      "Epoch 96/100\n",
      "22/22 [==============================] - 7s 298ms/step - loss: 0.8873 - accuracy: 0.5926 - val_loss: 0.7544 - val_accuracy: 0.6481\n",
      "Epoch 97/100\n",
      "22/22 [==============================] - 6s 292ms/step - loss: 0.8670 - accuracy: 0.5602 - val_loss: 0.6952 - val_accuracy: 0.6667\n",
      "Epoch 98/100\n",
      "22/22 [==============================] - 6s 290ms/step - loss: 0.8336 - accuracy: 0.5694 - val_loss: 0.5867 - val_accuracy: 0.6667\n",
      "Epoch 99/100\n",
      "22/22 [==============================] - 6s 294ms/step - loss: 0.8322 - accuracy: 0.5648 - val_loss: 0.6319 - val_accuracy: 0.6481\n",
      "Epoch 100/100\n",
      "22/22 [==============================] - 7s 310ms/step - loss: 0.8526 - accuracy: 0.5972 - val_loss: 0.5326 - val_accuracy: 0.7037\n"
     ]
    }
   ],
   "source": [
    "# FIT MODEL\n",
    "from tensorflow.keras.optimizers import SGD\n",
    "print(len(train_batches))\n",
    "print(len(valid_batches))\n",
    "\n",
    "STEP_SIZE_TRAIN=train_batches.n//train_batches.batch_size\n",
    "STEP_SIZE_VALID=valid_batches.n//valid_batches.batch_size\n",
    "\n",
    "# raise NotImplementedError(\"Use the model.fit function to train your network\")\n",
    "covid_model.compile(optimizer='adam', loss=tf.keras.losses.CategoricalCrossentropy(from_logits=True), metrics=['accuracy'])\n",
    "# covid_model.compile(optimizer=SGD(lr=1e-3, momentum=0.9), loss=tf.keras.losses.CategoricalCrossentropy(from_logits=True), metrics=['accuracy'])\n",
    "\n",
    "# print the device library\n",
    "print(device_lib.list_local_devices())\n",
    "\n",
    "history = None\n",
    "\n",
    "with tf.device(\"GPU:0\"):\n",
    "    history = covid_model.fit(train_batches, epochs=100, validation_data=(valid_batches))"
   ]
  },
  {
   "cell_type": "markdown",
   "metadata": {
    "nbpresent": {
     "id": "66140980-2aa4-457f-b1df-74c10c234cc2"
    }
   },
   "source": [
    "#### [5 points] Plot Accuracy and Loss During Training"
   ]
  },
  {
   "cell_type": "code",
   "execution_count": 6,
   "metadata": {
    "nbpresent": {
     "id": "ff342098-784a-4e20-ac34-b74ca8ebe839"
    }
   },
   "outputs": [
    {
     "data": {
      "text/plain": [
       "<matplotlib.legend.Legend at 0x2baa041d048>"
      ]
     },
     "execution_count": 6,
     "metadata": {},
     "output_type": "execute_result"
    },
    {
     "data": {
      "image/png": "[encoded data removed]",
      "text/plain": [
       "<Figure size 432x288 with 1 Axes>"
      ]
     },
     "metadata": {
      "needs_background": "light"
     },
     "output_type": "display_data"
    },
    {
     "data": {
      "image/png": "[encoded data removed]",
      "text/plain": [
       "<Figure size 432x288 with 1 Axes>"
      ]
     },
     "metadata": {
      "needs_background": "light"
     },
     "output_type": "display_data"
    }
   ],
   "source": [
    "import matplotlib.pyplot as plt\n",
    "\n",
    "# raise NotImplementedError(\"Plot the accuracy and the loss during training\")\n",
    "\n",
    "# Accuracy over 40 Epochs\n",
    "plt.figure()\n",
    "plt.plot(history.history['accuracy'], label='train accuracy') \n",
    "plt.plot(history.history['val_accuracy'], label = 'validation accuracy') \n",
    "plt.title('Accuracy over 40 epochs')\n",
    "plt.xlabel('Epoch') \n",
    "plt.ylabel('Accuracy') \n",
    "plt.ylim([0.4, 1.1]) \n",
    "plt.legend(loc='lower right')\n",
    "\n",
    "# Loss over 40 Epochs\n",
    "plt.figure()\n",
    "plt.plot(history.history['loss'], label='train loss') \n",
    "plt.plot(history.history['val_loss'], label = 'validation loss') \n",
    "plt.title('Loss over 40 epochs')\n",
    "plt.xlabel('Epoch') \n",
    "plt.ylabel('Loss') \n",
    "plt.ylim([0, 1.2]) \n",
    "plt.legend(loc='upper right')"
   ]
  },
  {
   "cell_type": "markdown",
   "metadata": {
    "nbpresent": {
     "id": "66140980-2aa4-457f-b1df-74c10c234cc2"
    }
   },
   "source": [
    "#### Testing Model"
   ]
  },
  {
   "cell_type": "code",
   "execution_count": 7,
   "metadata": {},
   "outputs": [
    {
     "name": "stdout",
     "output_type": "stream",
     "text": [
      "Found 36 images belonging to 4 classes.\n",
      "36\n",
      "WARNING:tensorflow:From <ipython-input-7-dedefa902e64>:8: Model.evaluate_generator (from tensorflow.python.keras.engine.training) is deprecated and will be removed in a future version.\n",
      "Instructions for updating:\n",
      "Please use Model.evaluate, which supports generators.\n",
      "WARNING:tensorflow:sample_weight modes were coerced from\n",
      "  ...\n",
      "    to  \n",
      "  ['...']\n",
      "36/36 [==============================] - 1s 30ms/step - loss: 0.8586 - accuracy: 0.6667\n",
      "Test loss: 0.8585791914689859\n",
      "Test accuracy: 0.6666667\n"
     ]
    }
   ],
   "source": [
    "test_datagen = ImageDataGenerator(rescale=1. / 255)\n",
    "\n",
    "eval_generator = test_datagen.flow_from_directory(TEST_DIR,target_size=IMAGE_SIZE,\n",
    "                                                  batch_size=1,shuffle=True,seed=42,class_mode=\"categorical\")\n",
    "eval_generator.reset()\n",
    "print(len(eval_generator))\n",
    "x = covid_model.evaluate_generator(eval_generator,steps = np.ceil(len(eval_generator)),\n",
    "                           use_multiprocessing = False,verbose = 1,workers=1)\n",
    "print('Test loss:' , x[0])\n",
    "print('Test accuracy:',x[1])"
   ]
  },
  {
   "cell_type": "markdown",
   "metadata": {
    "nbpresent": {
     "id": "66140980-2aa4-457f-b1df-74c10c234cc2"
    }
   },
   "source": [
    "## [10 points] TSNE Plot\n",
    "t-Distributed Stochastic Neighbor Embedding (t-SNE) is a widely used technique for dimensionality reduction that is particularly well suited for the visualization of high-dimensional datasets. After training is complete, extract features from a specific deep layer of your choice, use t-SNE to reduce the dimensionality of your extracted features to 2 dimensions and plot the resulting 2D features."
   ]
  },
  {
   "cell_type": "code",
   "execution_count": 8,
   "metadata": {},
   "outputs": [
    {
     "name": "stdout",
     "output_type": "stream",
     "text": [
      "Found 270 images belonging to 4 classes.\n",
      "WARNING:tensorflow:From <ipython-input-8-808848757d18>:12: Model.predict_generator (from tensorflow.python.keras.engine.training) is deprecated and will be removed in a future version.\n",
      "Instructions for updating:\n",
      "Please use Model.predict, which supports generators.\n",
      "270/270 [==============================] - 5s 20ms/step\n",
      "(270, 256)\n",
      "(270, 2)\n"
     ]
    },
    {
     "data": {
      "text/plain": [
       "Text(0.5, 1.0, '2D features')"
      ]
     },
     "execution_count": 8,
     "metadata": {},
     "output_type": "execute_result"
    },
    {
     "data": {
      "image/png": "[encoded data removed]",
      "text/plain": [
       "<Figure size 432x288 with 1 Axes>"
      ]
     },
     "metadata": {
      "needs_background": "light"
     },
     "output_type": "display_data"
    }
   ],
   "source": [
    "from sklearn.manifold import TSNE\n",
    "\n",
    "intermediate_layer_model = tf.keras.models.Model(inputs=covid_model.input,\n",
    "                                        outputs=covid_model.get_layer('dense').output)\n",
    "\n",
    "tsne_eval_generator = test_datagen.flow_from_directory(DATASET_PATH,target_size=IMAGE_SIZE,\n",
    "                                                  batch_size=1,shuffle=False,seed=42,class_mode=\"categorical\")\n",
    "\n",
    "# raise NotImplementedError(\"Extract features from the tsne_data_generator and fit a t-SNE model for the features,\"\n",
    "#                           \"and plot the resulting 2D features of the four classes.\")\n",
    "\n",
    "outputs = intermediate_layer_model.predict_generator(tsne_eval_generator,270,verbose=1)\n",
    "print(outputs.shape)\n",
    "label = tsne_eval_generator.classes\n",
    "features = TSNE(n_components=2).fit_transform(outputs)\n",
    "print(features.shape)\n",
    "# 到底是获取参数还是输出\n",
    "plt.figure()\n",
    "for index in range(len(features)):\n",
    "    if label[index] == 0:\n",
    "        # COVID\n",
    "        plt.plot(features[index, 0], features[index, 1], 'bo')\n",
    "    elif label[index] == 1:\n",
    "        # normal\n",
    "        plt.plot(features[index, 0], features[index, 1], 'yo')\n",
    "    elif label[index] == 2:\n",
    "        # Pneumonia_bac\n",
    "        plt.plot(features[index, 0], features[index, 1], 'go')\n",
    "    else:\n",
    "        # Pneumonia_vir\n",
    "        plt.plot(features[index, 0], features[index, 1], 'ro')\n",
    "plt.title('2D features')"
   ]
  }
 ],
 "metadata": {
  "kernelspec": {
   "display_name": "Python 3",
   "language": "python",
   "name": "python3"
  },
  "language_info": {
   "codemirror_mode": {
    "name": "ipython",
    "version": 3
   },
   "file_extension": ".py",
   "mimetype": "text/x-python",
   "name": "python",
   "nbconvert_exporter": "python",
   "pygments_lexer": "ipython3",
   "version": "3.6.9"
  },
  "latex_envs": {
   "LaTeX_envs_menu_present": true,
   "autoclose": false,
   "autocomplete": true,
   "bibliofile": "biblio.bib",
   "cite_by": "apalike",
   "current_citInitial": 1,
   "eqLabelWithNumbers": true,
   "eqNumInitial": 1,
   "hotkeys": {
    "equation": "Ctrl-E",
    "itemize": "Ctrl-I"
   },
   "labels_anchors": false,
   "latex_user_defs": false,
   "report_style_numbering": false,
   "user_envs_cfg": false
  },
  "toc": {
   "base_numbering": 1,
   "nav_menu": {},
   "number_sections": true,
   "sideBar": true,
   "skip_h1_title": false,
   "title_cell": "Table of Contents",
   "title_sidebar": "Contents",
   "toc_cell": false,
   "toc_position": {},
   "toc_section_display": true,
   "toc_window_display": false
  },
  "varInspector": {
   "cols": {
    "lenName": 16,
    "lenType": 16,
    "lenVar": 40
   },
   "kernels_config": {
    "python": {
     "delete_cmd_postfix": "",
     "delete_cmd_prefix": "del ",
     "library": "var_list.py",
     "varRefreshCmd": "print(var_dic_list())"
    },
    "r": {
     "delete_cmd_postfix": ") ",
     "delete_cmd_prefix": "rm(",
     "library": "var_list.r",
     "varRefreshCmd": "cat(var_dic_list()) "
    }
   },
   "types_to_exclude": [
    "module",
    "function",
    "builtin_function_or_method",
    "instance",
    "_Feature"
   ],
   "window_display": false
  }
 },
 "nbformat": 4,
 "nbformat_minor": 4
}
