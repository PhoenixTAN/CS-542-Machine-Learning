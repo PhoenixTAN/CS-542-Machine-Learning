{
 "cells": [
  {
   "cell_type": "markdown",
   "metadata": {
    "nbpresent": {
     "id": "1d234e3f-af8b-4757-83f3-241b04b7a511"
    }
   },
   "source": [
    "# Class Challenge: Image Classification of COVID-19 X-rays\n",
    "# Task 2 [Total points: 30]"
   ]
  },
  {
   "cell_type": "markdown",
   "metadata": {
    "nbpresent": {
     "id": "b07b9992-b592-4871-9f9a-3b0ae5fa8b5f"
    }
   },
   "source": [
    "## Setup\n",
    "\n",
    "* This assignment involves the following packages: 'matplotlib', 'numpy', and 'sklearn'. \n",
    "\n",
    "* If you are using conda, use the following commands to install the above packages:<br>\n",
    "```shell\n",
    "conda install matplotlib\n",
    "conda install numpy\n",
    "conda install -c anaconda scikit-learn\n",
    "```\n",
    "\n",
    "* If you are using pip, use use the following commands to install the above packages: <br> \n",
    "```shell\n",
    "pip install matplotlib\n",
    "pip install numpy\n",
    "pip install sklearn\n",
    "```"
   ]
  },
  {
   "cell_type": "markdown",
   "metadata": {
    "nbpresent": {
     "id": "5516f610-f00c-43c3-bf19-4cf7ab9c089f"
    }
   },
   "source": [
    "## Data\n",
    "\n",
    "Please download the data using the following link: [COVID-19](https://drive.google.com/file/d/1Y88tgqpQ1Pjko_7rntcPowOJs_QNOrJ-/view). \n",
    "\n",
    "* After downloading 'Covid_Data_GradientCrescent.zip', unzip the file and you should see the following data structure:\n",
    "\n",
    "\n",
    "|--all<br>\n",
    "|--------train<br>\n",
    "|--------test<br>\n",
    "|--two<br>\n",
    "|--------train<br>\n",
    "|--------test<br>\n",
    "\n",
    "\n",
    "* Put the 'all' folder, the 'two' folder and this python notebook in the **same directory** so that the following code can correctly locate the data.  \n",
    "\n"
   ]
  },
  {
   "cell_type": "markdown",
   "metadata": {
    "nbpresent": {
     "id": "66140980-2aa4-457f-b1df-74c10c234cc2"
    }
   },
   "source": [
    "## [20 points] Multi-class Classification"
   ]
  },
  {
   "cell_type": "code",
   "execution_count": 1,
   "metadata": {
    "nbpresent": {
     "id": "5e05f980-3d14-4367-b3d1-664249145b13"
    },
    "scrolled": true
   },
   "outputs": [
    {
     "name": "stdout",
     "output_type": "stream",
     "text": [
      "[name: \"/device:CPU:0\"\n",
      "device_type: \"CPU\"\n",
      "memory_limit: 268435456\n",
      "locality {\n",
      "}\n",
      "incarnation: 8148909400042469667\n",
      ", name: \"/device:GPU:0\"\n",
      "device_type: \"GPU\"\n",
      "memory_limit: 4930941747\n",
      "locality {\n",
      "  bus_id: 1\n",
      "  links {\n",
      "  }\n",
      "}\n",
      "incarnation: 17748192500196653471\n",
      "physical_device_desc: \"device: 0, name: GeForce GTX 1060, pci bus id: 0000:01:00.0, compute capability: 6.1\"\n",
      "]\n"
     ]
    },
    {
     "data": {
      "text/plain": [
       "'2.1.0'"
      ]
     },
     "execution_count": 1,
     "metadata": {},
     "output_type": "execute_result"
    }
   ],
   "source": [
    "import os\n",
    "\n",
    "import tensorflow as tf\n",
    "import numpy as np\n",
    "import matplotlib.pyplot as plt\n",
    "from tensorflow.keras.preprocessing.image import ImageDataGenerator\n",
    "\n",
    "from tensorflow.python.client import device_lib\n",
    "\n",
    "print(device_lib.list_local_devices())\n",
    "\n",
    "os.environ['OMP_NUM_THREADS'] = '1'\n",
    "os.environ['CUDA_VISIBLE_DEVICES'] = '-1'\n",
    "tf.__version__"
   ]
  },
  {
   "cell_type": "markdown",
   "metadata": {
    "nbpresent": {
     "id": "66140980-2aa4-457f-b1df-74c10c234cc2"
    }
   },
   "source": [
    "#### Load Image Data"
   ]
  },
  {
   "cell_type": "code",
   "execution_count": 2,
   "metadata": {
    "nbpresent": {
     "id": "58317664-8da3-4283-b3e5-35721687e7ab"
    }
   },
   "outputs": [],
   "source": [
    "DATA_LIST = os.listdir('all/train')\n",
    "DATASET_PATH  = 'all/train'\n",
    "TEST_DIR =  'all/test'\n",
    "IMAGE_SIZE    = (224, 224)\n",
    "NUM_CLASSES   = len(DATA_LIST)\n",
    "BATCH_SIZE    = 10  # try reducing batch size or freeze more layers if your GPU runs out of memory\n",
    "NUM_EPOCHS    = 100\n",
    "LEARNING_RATE = 0.0001 # start off with high rate first 0.001 and experiment with reducing it gradually "
   ]
  },
  {
   "cell_type": "markdown",
   "metadata": {
    "nbpresent": {
     "id": "66140980-2aa4-457f-b1df-74c10c234cc2"
    }
   },
   "source": [
    "#### Generate Training and Validation Batches"
   ]
  },
  {
   "cell_type": "code",
   "execution_count": 3,
   "metadata": {
    "nbpresent": {
     "id": "71760e29-2b08-4259-93f1-ebe68cd74a6d"
    }
   },
   "outputs": [
    {
     "name": "stdout",
     "output_type": "stream",
     "text": [
      "Found 216 images belonging to 4 classes.\n",
      "Found 54 images belonging to 4 classes.\n"
     ]
    },
    {
     "name": "stderr",
     "output_type": "stream",
     "text": [
      "C:\\Users\\tanzi\\Anaconda3\\lib\\site-packages\\keras_preprocessing\\image\\image_data_generator.py:341: UserWarning: This ImageDataGenerator specifies `zca_whitening` which overrides setting of`featurewise_std_normalization`.\n",
      "  warnings.warn('This ImageDataGenerator specifies '\n"
     ]
    }
   ],
   "source": [
    "train_datagen = ImageDataGenerator(rescale=1./255,rotation_range=50,featurewise_center = True,\n",
    "                                   featurewise_std_normalization = True,width_shift_range=0.2,\n",
    "                                   height_shift_range=0.2,shear_range=0.25,zoom_range=0.1,\n",
    "                                   zca_whitening = True,channel_shift_range = 20,\n",
    "                                   horizontal_flip = True,vertical_flip = True,\n",
    "                                   validation_split = 0.2,fill_mode='constant')\n",
    "\n",
    "\n",
    "train_batches = train_datagen.flow_from_directory(DATASET_PATH,target_size=IMAGE_SIZE,\n",
    "                                                  shuffle=True,batch_size=BATCH_SIZE,\n",
    "                                                  subset = \"training\",seed=42,\n",
    "                                                  class_mode=\"categorical\")\n",
    "\n",
    "valid_batches = train_datagen.flow_from_directory(DATASET_PATH,target_size=IMAGE_SIZE,\n",
    "                                                  shuffle=True,batch_size=BATCH_SIZE,\n",
    "                                                  subset = \"validation\",\n",
    "                                                  seed=42,class_mode=\"categorical\")"
   ]
  },
  {
   "cell_type": "markdown",
   "metadata": {
    "nbpresent": {
     "id": "66140980-2aa4-457f-b1df-74c10c234cc2"
    }
   },
   "source": [
    "#### [10 points] Build Model\n",
    "Hint: Starting from a pre-trained model typically helps performance on a new task, e.g. starting with weights obtained by training on ImageNet. "
   ]
  },
  {
   "cell_type": "code",
   "execution_count": 4,
   "metadata": {
    "nbpresent": {
     "id": "5c52eeb2-1092-4d45-9e16-02219c82cb5e"
    }
   },
   "outputs": [
    {
     "name": "stdout",
     "output_type": "stream",
     "text": [
      "Model: \"vgg16\"\n",
      "_________________________________________________________________\n",
      "Layer (type)                 Output Shape              Param #   \n",
      "=================================================================\n",
      "input_1 (InputLayer)         [(None, 224, 224, 3)]     0         \n",
      "_________________________________________________________________\n",
      "block1_conv1 (Conv2D)        (None, 224, 224, 64)      1792      \n",
      "_________________________________________________________________\n",
      "block1_conv2 (Conv2D)        (None, 224, 224, 64)      36928     \n",
      "_________________________________________________________________\n",
      "block1_pool (MaxPooling2D)   (None, 112, 112, 64)      0         \n",
      "_________________________________________________________________\n",
      "block2_conv1 (Conv2D)        (None, 112, 112, 128)     73856     \n",
      "_________________________________________________________________\n",
      "block2_conv2 (Conv2D)        (None, 112, 112, 128)     147584    \n",
      "_________________________________________________________________\n",
      "block2_pool (MaxPooling2D)   (None, 56, 56, 128)       0         \n",
      "_________________________________________________________________\n",
      "block3_conv1 (Conv2D)        (None, 56, 56, 256)       295168    \n",
      "_________________________________________________________________\n",
      "block3_conv2 (Conv2D)        (None, 56, 56, 256)       590080    \n",
      "_________________________________________________________________\n",
      "block3_conv3 (Conv2D)        (None, 56, 56, 256)       590080    \n",
      "_________________________________________________________________\n",
      "block3_pool (MaxPooling2D)   (None, 28, 28, 256)       0         \n",
      "_________________________________________________________________\n",
      "block4_conv1 (Conv2D)        (None, 28, 28, 512)       1180160   \n",
      "_________________________________________________________________\n",
      "block4_conv2 (Conv2D)        (None, 28, 28, 512)       2359808   \n",
      "_________________________________________________________________\n",
      "block4_conv3 (Conv2D)        (None, 28, 28, 512)       2359808   \n",
      "_________________________________________________________________\n",
      "block4_pool (MaxPooling2D)   (None, 14, 14, 512)       0         \n",
      "_________________________________________________________________\n",
      "block5_conv1 (Conv2D)        (None, 14, 14, 512)       2359808   \n",
      "_________________________________________________________________\n",
      "block5_conv2 (Conv2D)        (None, 14, 14, 512)       2359808   \n",
      "_________________________________________________________________\n",
      "block5_conv3 (Conv2D)        (None, 14, 14, 512)       2359808   \n",
      "_________________________________________________________________\n",
      "block5_pool (MaxPooling2D)   (None, 7, 7, 512)         0         \n",
      "=================================================================\n",
      "Total params: 14,714,688\n",
      "Trainable params: 14,714,688\n",
      "Non-trainable params: 0\n",
      "_________________________________________________________________\n",
      "None\n",
      "Model: \"sequential\"\n",
      "_________________________________________________________________\n",
      "Layer (type)                 Output Shape              Param #   \n",
      "=================================================================\n",
      "vgg16 (Model)                (None, 7, 7, 512)         14714688  \n",
      "_________________________________________________________________\n",
      "flatten (Flatten)            (None, 25088)             0         \n",
      "_________________________________________________________________\n",
      "dropout (Dropout)            (None, 25088)             0         \n",
      "_________________________________________________________________\n",
      "dense (Dense)                (None, 2048)              51382272  \n",
      "_________________________________________________________________\n",
      "dropout_1 (Dropout)          (None, 2048)              0         \n",
      "_________________________________________________________________\n",
      "dense_1 (Dense)              (None, 256)               524544    \n",
      "_________________________________________________________________\n",
      "dense_2 (Dense)              (None, 4)                 1028      \n",
      "=================================================================\n",
      "Total params: 66,622,532\n",
      "Trainable params: 51,907,844\n",
      "Non-trainable params: 14,714,688\n",
      "_________________________________________________________________\n"
     ]
    }
   ],
   "source": [
    "# raise NotImplementedError(\"Build your model based on an architecture of your choice \"\n",
    "#                           \"A sample model summary is shown below\")\n",
    "\n",
    "# Implement VGG16\n",
    "from tensorflow.keras.applications import VGG16\n",
    "from tensorflow.keras.layers import Flatten, Dense, Dropout\n",
    "from tensorflow.keras.models import Sequential\n",
    "\n",
    "vgg_16 = VGG16(include_top=False, weights='imagenet', input_shape=(224, 224, 3), pooling='None', classes=4)\n",
    "print(vgg_16.summary())\n",
    "vgg_16.trainable = False\n",
    "\n",
    "covid_model = Sequential()\n",
    "covid_model.add(vgg_16)\n",
    "covid_model.add(Flatten())\n",
    "covid_model.add(Dropout(0.4))\n",
    "covid_model.add(Dense(2048, activation='relu'))\n",
    "covid_model.add(Dropout(0.3))\n",
    "covid_model.add(Dense(256, activation='relu'))\n",
    "covid_model.add(Dense(4, activation='softmax'))\n",
    "\n",
    "covid_model.build(input_shape=(224, 224, 3))\n",
    "covid_model.summary()"
   ]
  },
  {
   "cell_type": "markdown",
   "metadata": {
    "nbpresent": {
     "id": "66140980-2aa4-457f-b1df-74c10c234cc2"
    }
   },
   "source": [
    "#### [5 points] Train Model"
   ]
  },
  {
   "cell_type": "code",
   "execution_count": 5,
   "metadata": {
    "nbpresent": {
     "id": "cdb90d24-6a23-4969-8138-f37e7050062d"
    },
    "scrolled": false
   },
   "outputs": [
    {
     "name": "stdout",
     "output_type": "stream",
     "text": [
      "22\n",
      "6\n",
      "[name: \"/device:CPU:0\"\n",
      "device_type: \"CPU\"\n",
      "memory_limit: 268435456\n",
      "locality {\n",
      "}\n",
      "incarnation: 16475019960960570557\n",
      ", name: \"/device:GPU:0\"\n",
      "device_type: \"GPU\"\n",
      "memory_limit: 4930941747\n",
      "locality {\n",
      "  bus_id: 1\n",
      "  links {\n",
      "  }\n",
      "}\n",
      "incarnation: 12251531707959702585\n",
      "physical_device_desc: \"device: 0, name: GeForce GTX 1060, pci bus id: 0000:01:00.0, compute capability: 6.1\"\n",
      "]\n",
      "WARNING:tensorflow:From <ipython-input-5-93010db56821>:24: Model.fit_generator (from tensorflow.python.keras.engine.training) is deprecated and will be removed in a future version.\n",
      "Instructions for updating:\n",
      "Please use Model.fit, which supports generators.\n",
      "WARNING:tensorflow:sample_weight modes were coerced from\n",
      "  ...\n",
      "    to  \n",
      "  ['...']\n"
     ]
    },
    {
     "name": "stderr",
     "output_type": "stream",
     "text": [
      "C:\\Users\\tanzi\\Anaconda3\\lib\\site-packages\\keras_preprocessing\\image\\image_data_generator.py:716: UserWarning: This ImageDataGenerator specifies `featurewise_center`, but it hasn't been fit on any training data. Fit it first by calling `.fit(numpy_data)`.\n",
      "  warnings.warn('This ImageDataGenerator specifies '\n",
      "C:\\Users\\tanzi\\Anaconda3\\lib\\site-packages\\keras_preprocessing\\image\\image_data_generator.py:735: UserWarning: This ImageDataGenerator specifies `zca_whitening`, but it hasn't been fit on any training data. Fit it first by calling `.fit(numpy_data)`.\n",
      "  warnings.warn('This ImageDataGenerator specifies '\n"
     ]
    },
    {
     "name": "stdout",
     "output_type": "stream",
     "text": [
      "WARNING:tensorflow:sample_weight modes were coerced from\n",
      "  ...\n",
      "    to  \n",
      "  ['...']\n",
      "Train for 21 steps, validate for 5 steps\n",
      "Epoch 1/100\n"
     ]
    },
    {
     "name": "stderr",
     "output_type": "stream",
     "text": [
      "C:\\Users\\tanzi\\Anaconda3\\lib\\site-packages\\keras_preprocessing\\image\\image_data_generator.py:716: UserWarning: This ImageDataGenerator specifies `featurewise_center`, but it hasn't been fit on any training data. Fit it first by calling `.fit(numpy_data)`.\n",
      "  warnings.warn('This ImageDataGenerator specifies '\n",
      "C:\\Users\\tanzi\\Anaconda3\\lib\\site-packages\\keras_preprocessing\\image\\image_data_generator.py:735: UserWarning: This ImageDataGenerator specifies `zca_whitening`, but it hasn't been fit on any training data. Fit it first by calling `.fit(numpy_data)`.\n",
      "  warnings.warn('This ImageDataGenerator specifies '\n"
     ]
    },
    {
     "name": "stdout",
     "output_type": "stream",
     "text": [
      "21/21 [==============================] - 8s 370ms/step - loss: 3.8587 - accuracy: 0.3495 - val_loss: 1.1898 - val_accuracy: 0.4600\n",
      "Epoch 2/100\n",
      "21/21 [==============================] - 6s 286ms/step - loss: 2.0441 - accuracy: 0.3981 - val_loss: 1.8222 - val_accuracy: 0.5600\n",
      "Epoch 3/100\n",
      "21/21 [==============================] - 6s 288ms/step - loss: 1.5520 - accuracy: 0.4272 - val_loss: 1.1167 - val_accuracy: 0.4600\n",
      "Epoch 4/100\n",
      "21/21 [==============================] - 6s 291ms/step - loss: 1.4100 - accuracy: 0.4175 - val_loss: 1.1131 - val_accuracy: 0.4600\n",
      "Epoch 5/100\n",
      "21/21 [==============================] - 6s 285ms/step - loss: 1.3205 - accuracy: 0.4466 - val_loss: 1.2768 - val_accuracy: 0.4800\n",
      "Epoch 6/100\n",
      "21/21 [==============================] - 6s 289ms/step - loss: 1.2613 - accuracy: 0.4466 - val_loss: 0.8208 - val_accuracy: 0.6000\n",
      "Epoch 7/100\n",
      "21/21 [==============================] - 6s 304ms/step - loss: 0.9607 - accuracy: 0.5437 - val_loss: 0.8576 - val_accuracy: 0.5600\n",
      "Epoch 8/100\n",
      "21/21 [==============================] - 6s 306ms/step - loss: 1.0339 - accuracy: 0.5340 - val_loss: 0.9405 - val_accuracy: 0.5800\n",
      "Epoch 9/100\n",
      "21/21 [==============================] - 7s 324ms/step - loss: 0.9154 - accuracy: 0.6019 - val_loss: 0.8321 - val_accuracy: 0.5600\n",
      "Epoch 10/100\n",
      "21/21 [==============================] - 6s 293ms/step - loss: 0.9540 - accuracy: 0.5874 - val_loss: 0.8509 - val_accuracy: 0.6200\n",
      "Epoch 11/100\n",
      "21/21 [==============================] - 6s 308ms/step - loss: 0.9162 - accuracy: 0.5243 - val_loss: 0.7800 - val_accuracy: 0.6800\n",
      "Epoch 12/100\n",
      "21/21 [==============================] - 6s 307ms/step - loss: 0.9532 - accuracy: 0.5667 - val_loss: 0.9397 - val_accuracy: 0.5200\n",
      "Epoch 13/100\n",
      "21/21 [==============================] - 6s 297ms/step - loss: 0.8424 - accuracy: 0.6311 - val_loss: 0.7853 - val_accuracy: 0.6200\n",
      "Epoch 14/100\n",
      "21/21 [==============================] - 6s 295ms/step - loss: 0.9242 - accuracy: 0.6165 - val_loss: 0.7193 - val_accuracy: 0.7200\n",
      "Epoch 15/100\n",
      "21/21 [==============================] - 6s 292ms/step - loss: 0.8644 - accuracy: 0.5922 - val_loss: 0.8498 - val_accuracy: 0.5800\n",
      "Epoch 16/100\n",
      "21/21 [==============================] - 7s 323ms/step - loss: 0.9213 - accuracy: 0.5825 - val_loss: 0.9498 - val_accuracy: 0.5200\n",
      "Epoch 17/100\n",
      "21/21 [==============================] - 6s 309ms/step - loss: 0.8941 - accuracy: 0.6165 - val_loss: 0.6927 - val_accuracy: 0.7400\n",
      "Epoch 18/100\n",
      "21/21 [==============================] - 7s 332ms/step - loss: 0.9299 - accuracy: 0.5728 - val_loss: 0.8056 - val_accuracy: 0.6200\n",
      "Epoch 19/100\n",
      "21/21 [==============================] - 7s 327ms/step - loss: 0.8936 - accuracy: 0.6165 - val_loss: 0.7002 - val_accuracy: 0.6600\n",
      "Epoch 20/100\n",
      "21/21 [==============================] - 6s 302ms/step - loss: 0.8612 - accuracy: 0.5874 - val_loss: 0.7184 - val_accuracy: 0.6400\n",
      "Epoch 21/100\n",
      "21/21 [==============================] - 6s 305ms/step - loss: 0.8224 - accuracy: 0.6262 - val_loss: 0.6335 - val_accuracy: 0.7200\n",
      "Epoch 22/100\n",
      "21/21 [==============================] - 6s 302ms/step - loss: 0.8099 - accuracy: 0.6408 - val_loss: 0.6922 - val_accuracy: 0.6800\n",
      "Epoch 23/100\n",
      "21/21 [==============================] - 7s 313ms/step - loss: 0.7974 - accuracy: 0.6311 - val_loss: 0.6061 - val_accuracy: 0.6800\n",
      "Epoch 24/100\n",
      "21/21 [==============================] - 7s 328ms/step - loss: 0.7831 - accuracy: 0.6456 - val_loss: 0.6088 - val_accuracy: 0.7400\n",
      "Epoch 25/100\n",
      "21/21 [==============================] - 7s 343ms/step - loss: 0.7973 - accuracy: 0.6214 - val_loss: 0.7293 - val_accuracy: 0.7000\n",
      "Epoch 26/100\n",
      "21/21 [==============================] - 7s 310ms/step - loss: 0.7863 - accuracy: 0.6262 - val_loss: 0.7739 - val_accuracy: 0.6600\n",
      "Epoch 27/100\n",
      "21/21 [==============================] - 6s 303ms/step - loss: 0.7823 - accuracy: 0.6845 - val_loss: 0.8004 - val_accuracy: 0.5600\n",
      "Epoch 28/100\n",
      "21/21 [==============================] - 7s 320ms/step - loss: 0.7809 - accuracy: 0.6505 - val_loss: 0.7135 - val_accuracy: 0.6000\n",
      "Epoch 29/100\n",
      "21/21 [==============================] - 7s 337ms/step - loss: 0.8037 - accuracy: 0.6456 - val_loss: 0.7832 - val_accuracy: 0.6200\n",
      "Epoch 30/100\n",
      "21/21 [==============================] - 7s 333ms/step - loss: 0.7879 - accuracy: 0.6748 - val_loss: 0.7098 - val_accuracy: 0.6800\n",
      "Epoch 31/100\n",
      "21/21 [==============================] - 7s 325ms/step - loss: 0.8194 - accuracy: 0.6650 - val_loss: 0.6194 - val_accuracy: 0.7200\n",
      "Epoch 32/100\n",
      "21/21 [==============================] - 7s 313ms/step - loss: 0.7809 - accuracy: 0.6456 - val_loss: 0.5439 - val_accuracy: 0.7200\n",
      "Epoch 33/100\n",
      "21/21 [==============================] - 7s 328ms/step - loss: 0.6872 - accuracy: 0.7233 - val_loss: 0.7928 - val_accuracy: 0.6000\n",
      "Epoch 34/100\n",
      "21/21 [==============================] - 7s 329ms/step - loss: 0.7159 - accuracy: 0.6845 - val_loss: 0.6797 - val_accuracy: 0.7000\n",
      "Epoch 35/100\n",
      "21/21 [==============================] - 7s 327ms/step - loss: 0.7249 - accuracy: 0.6845 - val_loss: 0.7856 - val_accuracy: 0.5600\n",
      "Epoch 36/100\n",
      "21/21 [==============================] - 6s 299ms/step - loss: 0.8282 - accuracy: 0.6505 - val_loss: 0.6439 - val_accuracy: 0.6600\n",
      "Epoch 37/100\n",
      "21/21 [==============================] - 6s 295ms/step - loss: 0.6671 - accuracy: 0.6845 - val_loss: 0.5900 - val_accuracy: 0.7800\n",
      "Epoch 38/100\n",
      "21/21 [==============================] - 6s 301ms/step - loss: 0.6975 - accuracy: 0.6602 - val_loss: 0.6348 - val_accuracy: 0.7400\n",
      "Epoch 39/100\n",
      "21/21 [==============================] - 6s 297ms/step - loss: 0.6470 - accuracy: 0.7087 - val_loss: 0.6431 - val_accuracy: 0.6800\n",
      "Epoch 40/100\n",
      "21/21 [==============================] - 6s 297ms/step - loss: 0.7934 - accuracy: 0.6311 - val_loss: 0.7585 - val_accuracy: 0.6800\n",
      "Epoch 41/100\n",
      "21/21 [==============================] - 6s 299ms/step - loss: 0.8159 - accuracy: 0.6165 - val_loss: 0.6815 - val_accuracy: 0.7000\n",
      "Epoch 42/100\n",
      "21/21 [==============================] - 6s 303ms/step - loss: 0.8345 - accuracy: 0.6117 - val_loss: 0.5631 - val_accuracy: 0.8000\n",
      "Epoch 43/100\n",
      "21/21 [==============================] - 6s 302ms/step - loss: 0.7545 - accuracy: 0.6796 - val_loss: 0.5804 - val_accuracy: 0.7800\n",
      "Epoch 44/100\n",
      "21/21 [==============================] - 7s 331ms/step - loss: 0.7569 - accuracy: 0.6456 - val_loss: 0.7406 - val_accuracy: 0.6000\n",
      "Epoch 45/100\n",
      "21/21 [==============================] - 7s 314ms/step - loss: 0.8799 - accuracy: 0.5922 - val_loss: 0.9570 - val_accuracy: 0.5600\n",
      "Epoch 46/100\n",
      "21/21 [==============================] - 7s 330ms/step - loss: 0.7156 - accuracy: 0.6602 - val_loss: 0.6582 - val_accuracy: 0.6000\n",
      "Epoch 47/100\n",
      "21/21 [==============================] - 7s 316ms/step - loss: 0.7574 - accuracy: 0.6408 - val_loss: 0.6184 - val_accuracy: 0.7200\n",
      "Epoch 48/100\n",
      "21/21 [==============================] - 7s 332ms/step - loss: 0.7024 - accuracy: 0.6942 - val_loss: 0.6061 - val_accuracy: 0.6800\n",
      "Epoch 49/100\n",
      "21/21 [==============================] - 7s 335ms/step - loss: 0.6875 - accuracy: 0.7039 - val_loss: 0.6364 - val_accuracy: 0.6600\n",
      "Epoch 50/100\n",
      "21/21 [==============================] - 7s 313ms/step - loss: 0.6608 - accuracy: 0.7233 - val_loss: 0.5682 - val_accuracy: 0.7200\n",
      "Epoch 51/100\n",
      "21/21 [==============================] - 7s 315ms/step - loss: 0.6426 - accuracy: 0.6845 - val_loss: 0.6027 - val_accuracy: 0.7200\n",
      "Epoch 52/100\n",
      "21/21 [==============================] - 7s 316ms/step - loss: 0.6916 - accuracy: 0.6748 - val_loss: 0.5864 - val_accuracy: 0.6800\n",
      "Epoch 53/100\n",
      "21/21 [==============================] - 7s 312ms/step - loss: 0.6819 - accuracy: 0.7136 - val_loss: 0.5381 - val_accuracy: 0.6600\n",
      "Epoch 54/100\n",
      "21/21 [==============================] - 6s 304ms/step - loss: 0.7215 - accuracy: 0.6893 - val_loss: 0.5720 - val_accuracy: 0.6600\n",
      "Epoch 55/100\n",
      "21/21 [==============================] - 6s 308ms/step - loss: 0.6529 - accuracy: 0.7087 - val_loss: 0.7006 - val_accuracy: 0.7000\n",
      "Epoch 56/100\n",
      "21/21 [==============================] - 7s 336ms/step - loss: 0.6582 - accuracy: 0.7379 - val_loss: 0.9457 - val_accuracy: 0.5600\n",
      "Epoch 57/100\n",
      "21/21 [==============================] - 7s 342ms/step - loss: 0.6781 - accuracy: 0.6942 - val_loss: 0.7476 - val_accuracy: 0.6800\n",
      "Epoch 58/100\n"
     ]
    },
    {
     "name": "stdout",
     "output_type": "stream",
     "text": [
      "21/21 [==============================] - 7s 321ms/step - loss: 0.8233 - accuracy: 0.6602 - val_loss: 0.6619 - val_accuracy: 0.7000\n",
      "Epoch 59/100\n",
      "21/21 [==============================] - 7s 331ms/step - loss: 0.6612 - accuracy: 0.7282 - val_loss: 0.5853 - val_accuracy: 0.6800\n",
      "Epoch 60/100\n",
      "21/21 [==============================] - 7s 329ms/step - loss: 0.6325 - accuracy: 0.7524 - val_loss: 0.6752 - val_accuracy: 0.6800\n",
      "Epoch 61/100\n",
      "21/21 [==============================] - 7s 323ms/step - loss: 0.7368 - accuracy: 0.6796 - val_loss: 0.7286 - val_accuracy: 0.6000\n",
      "Epoch 62/100\n",
      "21/21 [==============================] - 7s 328ms/step - loss: 0.7283 - accuracy: 0.6553 - val_loss: 0.5970 - val_accuracy: 0.6800\n",
      "Epoch 63/100\n",
      "21/21 [==============================] - 8s 385ms/step - loss: 0.6396 - accuracy: 0.7136 - val_loss: 0.5369 - val_accuracy: 0.6600\n",
      "Epoch 64/100\n",
      "21/21 [==============================] - 7s 330ms/step - loss: 0.6504 - accuracy: 0.7039 - val_loss: 0.7590 - val_accuracy: 0.6400\n",
      "Epoch 65/100\n",
      "21/21 [==============================] - 7s 331ms/step - loss: 0.7254 - accuracy: 0.6505 - val_loss: 0.7043 - val_accuracy: 0.6400\n",
      "Epoch 66/100\n",
      "21/21 [==============================] - 7s 337ms/step - loss: 0.6929 - accuracy: 0.6857 - val_loss: 0.5924 - val_accuracy: 0.6400\n",
      "Epoch 67/100\n",
      "21/21 [==============================] - 7s 319ms/step - loss: 0.6208 - accuracy: 0.7087 - val_loss: 0.5933 - val_accuracy: 0.7200\n",
      "Epoch 68/100\n",
      "21/21 [==============================] - 7s 319ms/step - loss: 0.6414 - accuracy: 0.7233 - val_loss: 0.6660 - val_accuracy: 0.6400\n",
      "Epoch 69/100\n",
      "21/21 [==============================] - 7s 322ms/step - loss: 0.6678 - accuracy: 0.6990 - val_loss: 0.8315 - val_accuracy: 0.6000\n",
      "Epoch 70/100\n",
      "21/21 [==============================] - 7s 316ms/step - loss: 0.7031 - accuracy: 0.6505 - val_loss: 0.6619 - val_accuracy: 0.6800\n",
      "Epoch 71/100\n",
      "21/21 [==============================] - 7s 328ms/step - loss: 0.6461 - accuracy: 0.6990 - val_loss: 0.5982 - val_accuracy: 0.6600\n",
      "Epoch 72/100\n",
      "21/21 [==============================] - 7s 326ms/step - loss: 0.6104 - accuracy: 0.7233 - val_loss: 0.6970 - val_accuracy: 0.6200\n",
      "Epoch 73/100\n",
      "21/21 [==============================] - 6s 307ms/step - loss: 0.6344 - accuracy: 0.7039 - val_loss: 0.5784 - val_accuracy: 0.6800\n",
      "Epoch 74/100\n",
      "21/21 [==============================] - 6s 300ms/step - loss: 0.7281 - accuracy: 0.6553 - val_loss: 0.8764 - val_accuracy: 0.6000\n",
      "Epoch 75/100\n",
      "21/21 [==============================] - 7s 338ms/step - loss: 0.7901 - accuracy: 0.6553 - val_loss: 0.9124 - val_accuracy: 0.6000\n",
      "Epoch 76/100\n",
      "21/21 [==============================] - 7s 316ms/step - loss: 0.7149 - accuracy: 0.6796 - val_loss: 0.7966 - val_accuracy: 0.5800\n",
      "Epoch 77/100\n",
      "21/21 [==============================] - 6s 309ms/step - loss: 0.6509 - accuracy: 0.6845 - val_loss: 0.5494 - val_accuracy: 0.7600\n",
      "Epoch 78/100\n",
      "21/21 [==============================] - 7s 317ms/step - loss: 0.6340 - accuracy: 0.7184 - val_loss: 0.5362 - val_accuracy: 0.7400\n",
      "Epoch 79/100\n",
      "21/21 [==============================] - 7s 310ms/step - loss: 0.6719 - accuracy: 0.6990 - val_loss: 0.7533 - val_accuracy: 0.6400\n",
      "Epoch 80/100\n",
      "21/21 [==============================] - 7s 314ms/step - loss: 0.6150 - accuracy: 0.7087 - val_loss: 0.4776 - val_accuracy: 0.7600\n",
      "Epoch 81/100\n",
      "21/21 [==============================] - 6s 309ms/step - loss: 0.6313 - accuracy: 0.7136 - val_loss: 0.5546 - val_accuracy: 0.7200\n",
      "Epoch 82/100\n",
      "21/21 [==============================] - 6s 308ms/step - loss: 0.6292 - accuracy: 0.7136 - val_loss: 0.5645 - val_accuracy: 0.7000\n",
      "Epoch 83/100\n",
      "21/21 [==============================] - 7s 320ms/step - loss: 0.6085 - accuracy: 0.7136 - val_loss: 0.7518 - val_accuracy: 0.6800\n",
      "Epoch 84/100\n",
      "21/21 [==============================] - 7s 310ms/step - loss: 0.7134 - accuracy: 0.7087 - val_loss: 0.5164 - val_accuracy: 0.7400\n",
      "Epoch 85/100\n",
      "21/21 [==============================] - 7s 319ms/step - loss: 0.6645 - accuracy: 0.7136 - val_loss: 0.6991 - val_accuracy: 0.6400\n",
      "Epoch 86/100\n",
      "21/21 [==============================] - 7s 333ms/step - loss: 0.6927 - accuracy: 0.6990 - val_loss: 0.6768 - val_accuracy: 0.6400\n",
      "Epoch 87/100\n",
      "21/21 [==============================] - 7s 324ms/step - loss: 0.5986 - accuracy: 0.7621 - val_loss: 0.6476 - val_accuracy: 0.6600\n",
      "Epoch 88/100\n",
      "21/21 [==============================] - 7s 322ms/step - loss: 0.6979 - accuracy: 0.6893 - val_loss: 0.5447 - val_accuracy: 0.6800\n",
      "Epoch 89/100\n",
      "21/21 [==============================] - 7s 342ms/step - loss: 0.6768 - accuracy: 0.7136 - val_loss: 0.5129 - val_accuracy: 0.7200\n",
      "Epoch 90/100\n",
      "21/21 [==============================] - 7s 328ms/step - loss: 0.7229 - accuracy: 0.6699 - val_loss: 0.5712 - val_accuracy: 0.7600\n",
      "Epoch 91/100\n",
      "21/21 [==============================] - 7s 324ms/step - loss: 0.5355 - accuracy: 0.7670 - val_loss: 0.5596 - val_accuracy: 0.6600\n",
      "Epoch 92/100\n",
      "21/21 [==============================] - 7s 315ms/step - loss: 0.6175 - accuracy: 0.7524 - val_loss: 0.5598 - val_accuracy: 0.6400\n",
      "Epoch 93/100\n",
      "21/21 [==============================] - 7s 331ms/step - loss: 0.7596 - accuracy: 0.6456 - val_loss: 0.5860 - val_accuracy: 0.6800\n",
      "Epoch 94/100\n",
      "21/21 [==============================] - 7s 340ms/step - loss: 0.6913 - accuracy: 0.7039 - val_loss: 0.6611 - val_accuracy: 0.6400\n",
      "Epoch 95/100\n",
      "21/21 [==============================] - 7s 316ms/step - loss: 0.5960 - accuracy: 0.7524 - val_loss: 0.7308 - val_accuracy: 0.5600\n",
      "Epoch 96/100\n",
      "21/21 [==============================] - 7s 315ms/step - loss: 0.7162 - accuracy: 0.6408 - val_loss: 0.7640 - val_accuracy: 0.6000\n",
      "Epoch 97/100\n",
      "21/21 [==============================] - 7s 322ms/step - loss: 0.5884 - accuracy: 0.7095 - val_loss: 0.6275 - val_accuracy: 0.7400\n",
      "Epoch 98/100\n",
      "21/21 [==============================] - 7s 321ms/step - loss: 0.5680 - accuracy: 0.7816 - val_loss: 0.7004 - val_accuracy: 0.6200\n",
      "Epoch 99/100\n",
      "21/21 [==============================] - 7s 328ms/step - loss: 0.6383 - accuracy: 0.7476 - val_loss: 0.8310 - val_accuracy: 0.6200\n",
      "Epoch 100/100\n",
      "21/21 [==============================] - 7s 338ms/step - loss: 0.7117 - accuracy: 0.6942 - val_loss: 0.6388 - val_accuracy: 0.7400\n"
     ]
    }
   ],
   "source": [
    "# FIT MODEL\n",
    "from tensorflow.keras.optimizers import SGD\n",
    "print(len(train_batches))\n",
    "print(len(valid_batches))\n",
    "\n",
    "STEP_SIZE_TRAIN=train_batches.n//train_batches.batch_size\n",
    "STEP_SIZE_VALID=valid_batches.n//valid_batches.batch_size\n",
    "\n",
    "# raise NotImplementedError(\"Use the model.fit function to train your network\")\n",
    "# Best Accuracy: \n",
    "covid_model.compile(optimizer='adam', loss=tf.keras.losses.CategoricalCrossentropy(from_logits=False), metrics=['accuracy'])\n",
    "\n",
    "# print the device library\n",
    "print(device_lib.list_local_devices())\n",
    "\n",
    "history = None\n",
    "\n",
    "with tf.device(\"GPU:0\"):\n",
    "    # history = covid_model.fit(train_batches, epochs=100, validation_data=(valid_batches))\n",
    "    history = covid_model.fit_generator(generator=train_batches, \n",
    "                              steps_per_epoch=STEP_SIZE_TRAIN, \n",
    "                              epochs=100,\n",
    "                              validation_data=(valid_batches),\n",
    "                              validation_steps=STEP_SIZE_VALID)"
   ]
  },
  {
   "cell_type": "markdown",
   "metadata": {
    "nbpresent": {
     "id": "66140980-2aa4-457f-b1df-74c10c234cc2"
    }
   },
   "source": [
    "#### [5 points] Plot Accuracy and Loss During Training"
   ]
  },
  {
   "cell_type": "code",
   "execution_count": 6,
   "metadata": {
    "nbpresent": {
     "id": "ff342098-784a-4e20-ac34-b74ca8ebe839"
    }
   },
   "outputs": [
    {
     "data": {
      "text/plain": [
       "<matplotlib.legend.Legend at 0x260a0666358>"
      ]
     },
     "execution_count": 6,
     "metadata": {},
     "output_type": "execute_result"
    },
    {
     "data": {
      "image/png": "[encoded data removed]",
      "text/plain": [
       "<Figure size 432x288 with 1 Axes>"
      ]
     },
     "metadata": {
      "needs_background": "light"
     },
     "output_type": "display_data"
    },
    {
     "data": {
      "image/png": "[encoded data removed]",
      "text/plain": [
       "<Figure size 432x288 with 1 Axes>"
      ]
     },
     "metadata": {
      "needs_background": "light"
     },
     "output_type": "display_data"
    }
   ],
   "source": [
    "import matplotlib.pyplot as plt\n",
    "\n",
    "# raise NotImplementedError(\"Plot the accuracy and the loss during training\")\n",
    "\n",
    "# Accuracy over 40 Epochs\n",
    "plt.figure()\n",
    "plt.plot(history.history['accuracy'], label='train accuracy') \n",
    "plt.plot(history.history['val_accuracy'], label = 'validation accuracy') \n",
    "plt.title('Accuracy over 40 epochs')\n",
    "plt.xlabel('Epoch') \n",
    "plt.ylabel('Accuracy') \n",
    "plt.ylim([0.1, 0.9]) \n",
    "plt.legend(loc='lower right')\n",
    "\n",
    "# Loss over 40 Epochs\n",
    "plt.figure()\n",
    "plt.plot(history.history['loss'], label='train loss') \n",
    "plt.plot(history.history['val_loss'], label = 'validation loss') \n",
    "plt.title('Loss over 40 epochs')\n",
    "plt.xlabel('Epoch') \n",
    "plt.ylabel('Loss') \n",
    "plt.ylim([0.3, 2.5]) \n",
    "plt.legend(loc='upper right')"
   ]
  },
  {
   "cell_type": "markdown",
   "metadata": {
    "nbpresent": {
     "id": "66140980-2aa4-457f-b1df-74c10c234cc2"
    }
   },
   "source": [
    "#### Testing Model"
   ]
  },
  {
   "cell_type": "code",
   "execution_count": 7,
   "metadata": {},
   "outputs": [
    {
     "name": "stdout",
     "output_type": "stream",
     "text": [
      "Found 36 images belonging to 4 classes.\n",
      "36\n",
      "WARNING:tensorflow:From <ipython-input-7-dedefa902e64>:8: Model.evaluate_generator (from tensorflow.python.keras.engine.training) is deprecated and will be removed in a future version.\n",
      "Instructions for updating:\n",
      "Please use Model.evaluate, which supports generators.\n",
      "WARNING:tensorflow:sample_weight modes were coerced from\n",
      "  ...\n",
      "    to  \n",
      "  ['...']\n",
      "36/36 [==============================] - 1s 32ms/step - loss: 0.7699 - accuracy: 0.7500\n",
      "Test loss: 0.7698995597610419\n",
      "Test accuracy: 0.75\n"
     ]
    }
   ],
   "source": [
    "test_datagen = ImageDataGenerator(rescale=1. / 255)\n",
    "\n",
    "eval_generator = test_datagen.flow_from_directory(TEST_DIR,target_size=IMAGE_SIZE,\n",
    "                                                  batch_size=1,shuffle=True,seed=42,class_mode=\"categorical\")\n",
    "eval_generator.reset()\n",
    "print(len(eval_generator))\n",
    "x = covid_model.evaluate_generator(eval_generator,steps = np.ceil(len(eval_generator)),\n",
    "                           use_multiprocessing = False,verbose = 1,workers=1)\n",
    "print('Test loss:' , x[0])\n",
    "print('Test accuracy:',x[1])"
   ]
  },
  {
   "cell_type": "markdown",
   "metadata": {
    "nbpresent": {
     "id": "66140980-2aa4-457f-b1df-74c10c234cc2"
    }
   },
   "source": [
    "## [10 points] TSNE Plot\n",
    "t-Distributed Stochastic Neighbor Embedding (t-SNE) is a widely used technique for dimensionality reduction that is particularly well suited for the visualization of high-dimensional datasets. After training is complete, extract features from a specific deep layer of your choice, use t-SNE to reduce the dimensionality of your extracted features to 2 dimensions and plot the resulting 2D features."
   ]
  },
  {
   "cell_type": "code",
   "execution_count": 9,
   "metadata": {},
   "outputs": [
    {
     "name": "stdout",
     "output_type": "stream",
     "text": [
      "Found 270 images belonging to 4 classes.\n",
      "270/270 [==============================] - 6s 21ms/step\n",
      "(270, 256)\n",
      "(270, 2)\n"
     ]
    },
    {
     "data": {
      "text/plain": [
       "<matplotlib.legend.Legend at 0x261ed2848d0>"
      ]
     },
     "execution_count": 9,
     "metadata": {},
     "output_type": "execute_result"
    },
    {
     "data": {
      "image/png": "[encoded data removed]",
      "text/plain": [
       "<Figure size 432x288 with 1 Axes>"
      ]
     },
     "metadata": {
      "needs_background": "light"
     },
     "output_type": "display_data"
    }
   ],
   "source": [
    "from sklearn.manifold import TSNE\n",
    "\n",
    "intermediate_layer_model = tf.keras.models.Model(inputs=covid_model.input,\n",
    "                                        outputs=covid_model.get_layer('dense_1').output)\n",
    "\n",
    "tsne_eval_generator = test_datagen.flow_from_directory(DATASET_PATH,target_size=IMAGE_SIZE,\n",
    "                                                  batch_size=1,shuffle=False,seed=42,class_mode=\"categorical\")\n",
    "\n",
    "# raise NotImplementedError(\"Extract features from the tsne_data_generator and fit a t-SNE model for the features,\"\n",
    "#                           \"and plot the resulting 2D features of the four classes.\")\n",
    "\n",
    "outputs = intermediate_layer_model.predict_generator(tsne_eval_generator,270,verbose=1)\n",
    "print(outputs.shape)\n",
    "label = tsne_eval_generator.classes\n",
    "features = TSNE(n_components=2).fit_transform(outputs)\n",
    "print(features.shape)\n",
    "\n",
    "covid_x = []\n",
    "covid_y = []\n",
    "normal_x = []\n",
    "normal_y = []\n",
    "pneumonia_bac_x = []\n",
    "pneumonia_bac_y = []\n",
    "pneumonia_vir_x = []\n",
    "pneumonia_vir_y = []\n",
    "\n",
    "plt.figure()\n",
    "for index in range(len(features)):\n",
    "    if label[index] == 0:\n",
    "        # COVID: Blue\n",
    "        covid_x.append(features[index, 0])\n",
    "        covid_y.append(features[index, 1])        \n",
    "    elif label[index] == 1:\n",
    "        # Normal: Yellow\n",
    "        normal_x.append(features[index, 0])\n",
    "        normal_y.append(features[index, 1]) \n",
    "    elif label[index] == 2:\n",
    "        # Pneumonia_bac: Green\n",
    "        pneumonia_bac_x.append(features[index, 0])\n",
    "        pneumonia_bac_y.append(features[index, 1]) \n",
    "    else:\n",
    "        # Pneumonia_vir: Red\n",
    "        pneumonia_vir_x.append(features[index, 0])\n",
    "        pneumonia_vir_y.append(features[index, 1]) \n",
    "\n",
    "plt.title('2D features')\n",
    "plt.plot(covid_x, covid_y, 'bo', label=\"COVID-19\")\n",
    "plt.plot(normal_x, normal_y, 'yo', label=\"Normal\")\n",
    "plt.plot(pneumonia_bac_x, pneumonia_bac_y, 'go', label=\"Pneumonia_ba\")\n",
    "plt.plot(pneumonia_vir_x, pneumonia_vir_y, 'ro', label=\"Pneumonia_vir\")\n",
    "plt.legend(loc='lower right')"
   ]
  },
  {
   "cell_type": "code",
   "execution_count": null,
   "metadata": {},
   "outputs": [],
   "source": []
  }
 ],
 "metadata": {
  "kernelspec": {
   "display_name": "Python 3",
   "language": "python",
   "name": "python3"
  },
  "language_info": {
   "codemirror_mode": {
    "name": "ipython",
    "version": 3
   },
   "file_extension": ".py",
   "mimetype": "text/x-python",
   "name": "python",
   "nbconvert_exporter": "python",
   "pygments_lexer": "ipython3",
   "version": "3.6.9"
  },
  "latex_envs": {
   "LaTeX_envs_menu_present": true,
   "autoclose": false,
   "autocomplete": true,
   "bibliofile": "biblio.bib",
   "cite_by": "apalike",
   "current_citInitial": 1,
   "eqLabelWithNumbers": true,
   "eqNumInitial": 1,
   "hotkeys": {
    "equation": "Ctrl-E",
    "itemize": "Ctrl-I"
   },
   "labels_anchors": false,
   "latex_user_defs": false,
   "report_style_numbering": false,
   "user_envs_cfg": false
  },
  "toc": {
   "base_numbering": 1,
   "nav_menu": {},
   "number_sections": true,
   "sideBar": true,
   "skip_h1_title": false,
   "title_cell": "Table of Contents",
   "title_sidebar": "Contents",
   "toc_cell": false,
   "toc_position": {},
   "toc_section_display": true,
   "toc_window_display": false
  },
  "varInspector": {
   "cols": {
    "lenName": 16,
    "lenType": 16,
    "lenVar": 40
   },
   "kernels_config": {
    "python": {
     "delete_cmd_postfix": "",
     "delete_cmd_prefix": "del ",
     "library": "var_list.py",
     "varRefreshCmd": "print(var_dic_list())"
    },
    "r": {
     "delete_cmd_postfix": ") ",
     "delete_cmd_prefix": "rm(",
     "library": "var_list.r",
     "varRefreshCmd": "cat(var_dic_list()) "
    }
   },
   "types_to_exclude": [
    "module",
    "function",
    "builtin_function_or_method",
    "instance",
    "_Feature"
   ],
   "window_display": false
  }
 },
 "nbformat": 4,
 "nbformat_minor": 4
}
