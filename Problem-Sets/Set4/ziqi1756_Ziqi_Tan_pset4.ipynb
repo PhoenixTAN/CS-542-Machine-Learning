{
 "cells": [
  {
   "cell_type": "markdown",
   "metadata": {
    "nbpresent": {
     "id": "1d234e3f-af8b-4757-83f3-241b04b7a511"
    }
   },
   "source": [
    "# Problem Set 4: TensorFlow"
   ]
  },
  {
   "cell_type": "markdown",
   "metadata": {
    "nbpresent": {
     "id": "b07b9992-b592-4871-9f9a-3b0ae5fa8b5f"
    }
   },
   "source": [
    "**Note**: The following has been verified to work with TensorFlow 2.0\n",
    "\n",
    "\\* Adapted from official TensorFlow&trade; tour guide.\n",
    "\n",
    "TensorFlow is a powerful library for doing large-scale numerical computation. One of the tasks at which it excels is implementing and training deep neural networks. In this assignment you will learn the basic building blocks of a TensorFlow model while constructing a deep convolutional MNIST classifier.\n",
    "\n",
    "What you are expected to implement in this tutorial:\n",
    "\n",
    "* Create a softmax regression function that is a model for recognizing MNIST digits, based on looking at every pixel in the image\n",
    "\n",
    "* Use Tensorflow to train the model to recognize digits by having it \"look\" at thousands of examples\n",
    "\n",
    "* Check the model's accuracy with MNIST test data\n",
    "\n",
    "* Build, train, and test a multilayer convolutional neural network to improve the results\n"
   ]
  },
  {
   "cell_type": "markdown",
   "metadata": {},
   "source": [
    "## Tensorflow documentation tutorials\n",
    "https://www.tensorflow.org/tutorials/images/cnn"
   ]
  },
  {
   "cell_type": "markdown",
   "metadata": {
    "nbpresent": {
     "id": "5516f610-f00c-43c3-bf19-4cf7ab9c089f"
    }
   },
   "source": [
    "## Data\n",
    "\n",
    "After importing tensorflow, we can download the MNIST dataset with the built-in TensorFlow/Keras method."
   ]
  },
  {
   "cell_type": "code",
   "execution_count": 1,
   "metadata": {
    "nbpresent": {
     "id": "5e05f980-3d14-4367-b3d1-664249145b13"
    }
   },
   "outputs": [
    {
     "data": {
      "text/plain": [
       "'2.1.0'"
      ]
     },
     "execution_count": 1,
     "metadata": {},
     "output_type": "execute_result"
    }
   ],
   "source": [
    "import os\n",
    "\n",
    "import tensorflow as tf\n",
    "import matplotlib.pyplot as plt\n",
    "\n",
    "os.environ['OMP_NUM_THREADS'] = '1'\n",
    "tf.__version__"
   ]
  },
  {
   "cell_type": "code",
   "execution_count": 2,
   "metadata": {
    "nbpresent": {
     "id": "58317664-8da3-4283-b3e5-35721687e7ab"
    }
   },
   "outputs": [
    {
     "name": "stdout",
     "output_type": "stream",
     "text": [
      "input image shape: (60000, 28, 28)\n",
      "print 25 trainging samples:\n"
     ]
    },
    {
     "data": {
      "image/png": "[encoded data removed]",
      "text/plain": [
       "<Figure size 720x720 with 25 Axes>"
      ]
     },
     "metadata": {},
     "output_type": "display_data"
    }
   ],
   "source": [
    "# load data from MNIST\n",
    "\n",
    "(train_images, train_labels), (test_images, test_labels) = tf.keras.datasets.mnist.load_data()\n",
    "class_names = ['0', '1', '2', '3', '4',\n",
    "               '5', '6', '7', '8', '9']\n",
    "\n",
    "print('input image shape:', train_images.shape)\n",
    "\n",
    "print('print 25 trainging samples:')\n",
    "plt.figure(figsize=(10,10))\n",
    "for i in range(25):\n",
    "    plt.subplot(5,5,i+1)\n",
    "    plt.xticks([])\n",
    "    plt.yticks([])\n",
    "    plt.grid(False)\n",
    "    plt.imshow(train_images[i], cmap=plt.cm.binary)\n",
    "    plt.xlabel(class_names[train_labels[i]])\n",
    "plt.show()"
   ]
  },
  {
   "cell_type": "markdown",
   "metadata": {
    "nbpresent": {
     "id": "66140980-2aa4-457f-b1df-74c10c234cc2"
    }
   },
   "source": [
    "## Build the CNN\n",
    "\n",
    "In this part we will build a customized TF2 Keras model. As input, a CNN takes tensors of shape (image_height, image_width, color_channels), ignoring the batch size. For MNIST, you will configure our CNN to process inputs of shape (28, 28, 1), which is the format of MNIST images. You can do this by passing the argument input_shape to our first layer.\n",
    "\n",
    "The overall architecture should be:\n",
    "\n",
    "```\n",
    "Model: \"customized_cnn\"\n",
    "_________________________________________________________________\n",
    "Layer (type)                 Output Shape              Param #   \n",
    "=================================================================\n",
    "conv2d_2 (Conv2D)            multiple                  320       \n",
    "_________________________________________________________________\n",
    "max_pooling2d_1 (MaxPooling2 multiple                  0         \n",
    "_________________________________________________________________\n",
    "conv2d_3 (Conv2D)            multiple                  18496     \n",
    "_________________________________________________________________\n",
    "flatten_1 (Flatten)          multiple                  0         \n",
    "_________________________________________________________________\n",
    "dense_2 (Dense)              multiple                  7930880   \n",
    "_________________________________________________________________\n",
    "dense_3 (Dense)              multiple                  10250     \n",
    "=================================================================\n",
    "Total params: 7,959,946\n",
    "Trainable params: 7,959,946\n",
    "Non-trainable params: 0\n",
    "_________________________________________________________________\n",
    "```\n",
    "### First Convolutional Layer [5 pts]\n",
    "\n",
    "We can now implement our first layer. The convolution will compute 32 features for each 3x3 patch. The first two dimensions are the patch size, the next is the number of input channels, and the last is the number of output channels.\n",
    "\n",
    "### Max Pooling Layer [5 pts]\n",
    "\n",
    "We stack max pooling layer after the first convolutional layer. These pooling layers will perform max pooling for each 2x2 patch.\n",
    "\n",
    "### Second Convolutional Layer [5 pts]\n",
    "\n",
    "In order to build a deep network, we stack several layers of this type. The second layer will have 64 features for each 3x3 patch.\n",
    "\n",
    "\n",
    "### Fully Connected Layers [10 pts]\n",
    "\n",
    "Now that the image size has been reduced to 11x11, we add a fully-connected layer with 128 neurons to allow processing on the entire image. We reshape the tensor from the second convolutional layer into a batch of vectors before the fully connected layer.\n",
    "\n",
    "The output layer should also be implemented via a fully connect layer.\n",
    "\n",
    "\n",
    "### Complete the Computation Graph [10 pts]\n",
    "\n",
    "Please complete the following function:\n",
    "\n",
    "```def call(self, inputs, training=None, mask=None):```\n",
    "\n",
    "To apply the layer, we first reshape the input to a 4d tensor, with the second and third dimensions corresponding to image width and height, and the final dimension corresponding to the number of color channels (which is 1).\n",
    "\n",
    "We then convolve the reshaped input with the first convolutional layer and then the max pooling followed by the second convolutional layer. These convolutional layers and the pooling layer will reduce the image size to 11x11.\n",
    "\n",
    "### Dropout Layer [5 pts]\n",
    "Please add dropouts during training before each fully connected layers, as this helps avoid overfitting during training.\n",
    "https://www.cs.toronto.edu/~hinton/absps/JMLRdropout.pdf"
   ]
  },
  {
   "cell_type": "code",
   "execution_count": 3,
   "metadata": {
    "nbpresent": {
     "id": "71760e29-2b08-4259-93f1-ebe68cd74a6d"
    }
   },
   "outputs": [],
   "source": [
    "class CustomizedCNN(tf.keras.models.Model):\n",
    "\n",
    "    def __init__(self, *args, **kwargs):\n",
    "        super().__init__(*args, **kwargs)\n",
    "        \n",
    "        # convolutional layer 1\n",
    "        self.conv_1 = tf.keras.layers.Conv2D(32, (3, 3), activation='relu', input_shape=(None, 28, 28))\n",
    "        # The convolution will compute 32 features for each 3x3 patch. \n",
    "        # The first two dimensions are the patch size, \n",
    "        # the next is the number of input channels, \n",
    "        # and the last is the number of output channels.\n",
    "        \n",
    "        # tf.keras.layers.Conv2D(\n",
    "        #     filters, kernel_size, strides=(1, 1), padding='valid', data_format=None,\n",
    "        #     dilation_rate=(1, 1), activation=None, use_bias=True,\n",
    "        #     kernel_initializer='glorot_uniform', bias_initializer='zeros',\n",
    "        #     kernel_regularizer=None, bias_regularizer=None, activity_regularizer=None,\n",
    "        #     kernel_constraint=None, bias_constraint=None, **kwargs\n",
    "        # )\n",
    "        \n",
    "        # then we get\n",
    "        # 32 channels of (26,26)\n",
    "        \n",
    "        # max pooling\n",
    "        self.max_pooling_1 = tf.keras.layers.MaxPool2D((2,2), (2,2))\n",
    "        # tf.keras.layers.MaxPool2D(\n",
    "        #     pool_size=(2, 2), strides=None, padding='valid', data_format=None, **kwargs\n",
    "        # )\n",
    "        \n",
    "        # then we get\n",
    "        # 32 channels of (25,25)\n",
    "        \n",
    "        # convolutional layer 2\n",
    "        self.conv_2 = tf.keras.layers.Conv2D(64, (3,3), activation='relu')\n",
    "        # The second layer will have 64 features for each 3x3 patch.\n",
    "        \n",
    "        # then we get \n",
    "        # 32*64 channels of (11,11)\n",
    "     \n",
    "        # Now that the image size has been reduced to 11x11, \n",
    "        # we add a fully-connected layer with 128 neurons to allow processing on the entire image. \n",
    "        # We reshape the tensor from the second convolutional layer into a batch of vectors \n",
    "        # before the fully connected layer.\n",
    "                        \n",
    "        # flatten layer\n",
    "        self.flatten = tf.keras.layers.Flatten()\n",
    "        \n",
    "        # fully connected layer with 128 neurons\n",
    "        self.dense_1 = tf.keras.layers.Dense(1024, activation='sigmoid')       \n",
    "        # tf.keras.layers.Dense(\n",
    "        #     units, activation=None, use_bias=True, kernel_initializer='glorot_uniform',\n",
    "        #     bias_initializer='zeros', kernel_regularizer=None, bias_regularizer=None,\n",
    "        #     activity_regularizer=None, kernel_constraint=None, bias_constraint=None,\n",
    "        #     **kwargs\n",
    "        # )\n",
    "        \n",
    "        # output layer\n",
    "        # self.dense_2 = tf.keras.layers.Dense(10, activation='softmax')\n",
    "        self.dense_2 = tf.keras.layers.Dense(10, activation='softmax')\n",
    "        # raise NotImplementedError('Implement Using Keras Layers.')\n",
    "\n",
    "    def call(self, inputs, training=None, mask=None):\n",
    "\n",
    "        # we first reshape the input to a 4d tensor, \n",
    "        # with the second and third dimensions corresponding to image width and height, \n",
    "        # and the final dimension corresponding to the number of color channels (which is 1).\n",
    "        # in this case: we extend (60k,28,28) to (60k,28,28, 1)\n",
    "        inputs = tf.expand_dims(inputs, axis=-1)\n",
    "                \n",
    "        # process the inputs through the graph\n",
    "        conv_1_output = self.conv_1(inputs)\n",
    "        max_pooling_1_output = self.max_pooling_1(conv_1_output)\n",
    "        conv_2_output = self.conv_2(max_pooling_1_output)\n",
    "        flatten_output = self.flatten(conv_2_output)\n",
    "        dense_1_output = self.dense_1(flatten_output)\n",
    "         \n",
    "        dropout_output = dense_1_output\n",
    "        if training:\n",
    "            # call tf.nn.dropout\n",
    "            dropout_output = tf.nn.dropout(dense_1_output, 0.21)\n",
    "            # try different dropout rates\n",
    "            # suggested values:0.1 , 0.2 ,0.25\n",
    "            # tf.nn.dropout(\n",
    "            #     x, rate, noise_shape=None, seed=None, name=None\n",
    "            # )\n",
    "        \n",
    "        dense_2_output = self.dense_2(dropout_output)\n",
    "        # raise NotImplementedError('Build the CNN here.')\n",
    "        return dense_2_output"
   ]
  },
  {
   "cell_type": "markdown",
   "metadata": {
    "nbpresent": {
     "id": "5d0bae73-5677-437f-af00-0a880b753345"
    }
   },
   "source": [
    "## Build the Model"
   ]
  },
  {
   "cell_type": "code",
   "execution_count": 4,
   "metadata": {
    "nbpresent": {
     "id": "5c52eeb2-1092-4d45-9e16-02219c82cb5e"
    }
   },
   "outputs": [
    {
     "name": "stdout",
     "output_type": "stream",
     "text": [
      "Model: \"customized_cnn\"\n",
      "_________________________________________________________________\n",
      "Layer (type)                 Output Shape              Param #   \n",
      "=================================================================\n",
      "conv2d (Conv2D)              multiple                  320       \n",
      "_________________________________________________________________\n",
      "max_pooling2d (MaxPooling2D) multiple                  0         \n",
      "_________________________________________________________________\n",
      "conv2d_1 (Conv2D)            multiple                  18496     \n",
      "_________________________________________________________________\n",
      "flatten (Flatten)            multiple                  0         \n",
      "_________________________________________________________________\n",
      "dense (Dense)                multiple                  7930880   \n",
      "_________________________________________________________________\n",
      "dense_1 (Dense)              multiple                  10250     \n",
      "=================================================================\n",
      "Total params: 7,959,946\n",
      "Trainable params: 7,959,946\n",
      "Non-trainable params: 0\n",
      "_________________________________________________________________\n"
     ]
    }
   ],
   "source": [
    "model = CustomizedCNN()\n",
    "model.build(input_shape=(None, 28, 28))\n",
    "model.summary()"
   ]
  },
  {
   "cell_type": "markdown",
   "metadata": {
    "nbpresent": {
     "id": "f407d2b5-3b1b-4a88-881f-2d15b7a5c682"
    }
   },
   "source": [
    "We can specify a loss function just as easily. Loss indicates how bad the model's prediction was on a single example; we try to minimize that while training across all the examples. Here, our loss function is the cross-entropy between the target and the softmax activation function applied to the model's prediction. As in the beginners tutorial, we use the stable formulation:"
   ]
  },
  {
   "cell_type": "code",
   "execution_count": 5,
   "metadata": {
    "nbpresent": {
     "id": "cdb90d24-6a23-4969-8138-f37e7050062d"
    }
   },
   "outputs": [],
   "source": [
    "model.compile(optimizer='adam',\n",
    "                loss=tf.keras.losses.SparseCategoricalCrossentropy(from_logits=True),\n",
    "                metrics=['accuracy'])"
   ]
  },
  {
   "cell_type": "markdown",
   "metadata": {
    "nbpresent": {
     "id": "1a6f61e8-2ae0-4730-ad8c-35c683033b04"
    }
   },
   "source": [
    "## Train and Evaluate the Model[5 pts]\n",
    "\n",
    "We will use a more sophisticated ADAM optimizer instead of a Gradient Descent Optimizer.\n",
    "\n",
    "Feel free to run this code. Be aware that it does 10 training epochs and may take a while (possibly up to half an hour), depending on your processor.\n",
    "\n",
    "The final test set accuracy after running this code should be approximately 98.7%  -- not state of the art, but respectable.\n",
    "\n",
    "We have learned how to quickly and easily build, train, and evaluate a fairly sophisticated deep learning model using TensorFlow."
   ]
  },
  {
   "cell_type": "code",
   "execution_count": 6,
   "metadata": {
    "nbpresent": {
     "id": "6b64378c-07fa-4f71-ad27-85e1fcd95310"
    },
    "scrolled": false
   },
   "outputs": [
    {
     "name": "stdout",
     "output_type": "stream",
     "text": [
      "Train on 60000 samples, validate on 10000 samples\n",
      "Epoch 1/10\n",
      "60000/60000 [==============================] - 77s 1ms/sample - loss: 1.5287 - accuracy: 0.9357 - val_loss: 1.4835 - val_accuracy: 0.9799\n",
      "Epoch 2/10\n",
      "60000/60000 [==============================] - 79s 1ms/sample - loss: 1.4797 - accuracy: 0.9828 - val_loss: 1.4755 - val_accuracy: 0.9863\n",
      "Epoch 3/10\n",
      "60000/60000 [==============================] - 77s 1ms/sample - loss: 1.4741 - accuracy: 0.9883 - val_loss: 1.4752 - val_accuracy: 0.9867\n",
      "Epoch 4/10\n",
      "60000/60000 [==============================] - 77s 1ms/sample - loss: 1.4720 - accuracy: 0.9899 - val_loss: 1.4736 - val_accuracy: 0.9879\n",
      "Epoch 5/10\n",
      "60000/60000 [==============================] - 77s 1ms/sample - loss: 1.4708 - accuracy: 0.9908 - val_loss: 1.4722 - val_accuracy: 0.9890\n",
      "Epoch 6/10\n",
      "60000/60000 [==============================] - 77s 1ms/sample - loss: 1.4688 - accuracy: 0.9929 - val_loss: 1.4767 - val_accuracy: 0.9848\n",
      "Epoch 7/10\n",
      "60000/60000 [==============================] - 76s 1ms/sample - loss: 1.4680 - accuracy: 0.9935 - val_loss: 1.4701 - val_accuracy: 0.9913\n",
      "Epoch 8/10\n",
      "60000/60000 [==============================] - 76s 1ms/sample - loss: 1.4668 - accuracy: 0.9946 - val_loss: 1.4719 - val_accuracy: 0.9897\n",
      "Epoch 9/10\n",
      "60000/60000 [==============================] - 77s 1ms/sample - loss: 1.4666 - accuracy: 0.9949 - val_loss: 1.4702 - val_accuracy: 0.9911\n",
      "Epoch 10/10\n",
      "60000/60000 [==============================] - 77s 1ms/sample - loss: 1.4660 - accuracy: 0.9954 - val_loss: 1.4704 - val_accuracy: 0.9907\n"
     ]
    }
   ],
   "source": [
    "# raise NotImplementedError('Update correct arguments for the fit method below.')\n",
    "# train_images = tf.image.decode_jpeg(train_images)\n",
    "train_images = tf.cast(train_images, tf.float16)\n",
    "train_labels = tf.cast(train_labels, tf.float16)\n",
    "# nomalize\n",
    "train_images, test_images = train_images / 255.0, test_images / 255.0\n",
    "history = model.fit(train_images, train_labels, epochs=10, validation_data=(test_images, test_labels))   # Use correct args here.\n",
    "        \n",
    "# Value passed to parameter 'input' has DataType uint8 \n",
    "# not in list of allowed values: float16, bfloat16, float32, float64, int32\n",
    "\n",
    "# Example from documentation:\n",
    "# history = model.fit(train_images, train_labels, epochs=10, \n",
    "#                     validation_data=(test_images, test_labels))"
   ]
  },
  {
   "cell_type": "code",
   "execution_count": 7,
   "metadata": {
    "nbpresent": {
     "id": "ff342098-784a-4e20-ac34-b74ca8ebe839"
    }
   },
   "outputs": [
    {
     "data": {
      "text/plain": [
       "<matplotlib.legend.Legend at 0x20b54eada20>"
      ]
     },
     "execution_count": 7,
     "metadata": {},
     "output_type": "execute_result"
    },
    {
     "data": {
      "image/png": "[encoded data removed]",
      "text/plain": [
       "<Figure size 432x288 with 1 Axes>"
      ]
     },
     "metadata": {
      "needs_background": "light"
     },
     "output_type": "display_data"
    }
   ],
   "source": [
    "plt.plot(history.history['accuracy'], label='accuracy')\n",
    "plt.plot(history.history['val_accuracy'], label = 'validation accuracy')\n",
    "plt.xlabel('Epoch')\n",
    "plt.ylabel('Accuracy')\n",
    "plt.ylim([0.9, 1])\n",
    "plt.legend(loc='lower right')"
   ]
  },
  {
   "cell_type": "code",
   "execution_count": 8,
   "metadata": {
    "nbpresent": {
     "id": "d830cf58-fade-43e0-81c5-52632245d5d4"
    }
   },
   "outputs": [
    {
     "name": "stdout",
     "output_type": "stream",
     "text": [
      "10000/10000 [==============================] - 3s 318us/sample - loss: 1.4704 - accuracy: 0.9907\n",
      "0.9907\n"
     ]
    }
   ],
   "source": [
    "test_loss, test_acc = model.evaluate(test_images,  test_labels)\n",
    "print(test_acc)"
   ]
  }
 ],
 "metadata": {
  "kernelspec": {
   "display_name": "Python 3",
   "language": "python",
   "name": "python3"
  },
  "language_info": {
   "codemirror_mode": {
    "name": "ipython",
    "version": 3
   },
   "file_extension": ".py",
   "mimetype": "text/x-python",
   "name": "python",
   "nbconvert_exporter": "python",
   "pygments_lexer": "ipython3",
   "version": "3.6.9"
  },
  "latex_envs": {
   "LaTeX_envs_menu_present": true,
   "autoclose": false,
   "autocomplete": true,
   "bibliofile": "biblio.bib",
   "cite_by": "apalike",
   "current_citInitial": 1,
   "eqLabelWithNumbers": true,
   "eqNumInitial": 1,
   "hotkeys": {
    "equation": "Ctrl-E",
    "itemize": "Ctrl-I"
   },
   "labels_anchors": false,
   "latex_user_defs": false,
   "report_style_numbering": false,
   "user_envs_cfg": false
  },
  "toc": {
   "base_numbering": 1,
   "nav_menu": {},
   "number_sections": true,
   "sideBar": true,
   "skip_h1_title": false,
   "title_cell": "Table of Contents",
   "title_sidebar": "Contents",
   "toc_cell": false,
   "toc_position": {},
   "toc_section_display": true,
   "toc_window_display": false
  },
  "varInspector": {
   "cols": {
    "lenName": 16,
    "lenType": 16,
    "lenVar": 40
   },
   "kernels_config": {
    "python": {
     "delete_cmd_postfix": "",
     "delete_cmd_prefix": "del ",
     "library": "var_list.py",
     "varRefreshCmd": "print(var_dic_list())"
    },
    "r": {
     "delete_cmd_postfix": ") ",
     "delete_cmd_prefix": "rm(",
     "library": "var_list.r",
     "varRefreshCmd": "cat(var_dic_list()) "
    }
   },
   "types_to_exclude": [
    "module",
    "function",
    "builtin_function_or_method",
    "instance",
    "_Feature"
   ],
   "window_display": false
  }
 },
 "nbformat": 4,
 "nbformat_minor": 4
}
